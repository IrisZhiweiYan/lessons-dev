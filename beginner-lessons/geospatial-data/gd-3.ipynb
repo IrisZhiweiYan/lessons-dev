{
 "cells": [
  {
   "cell_type": "markdown",
   "metadata": {
    "slideshow": {
     "slide_type": "slide"
    }
   },
   "source": [
    "# Introduction to Geospatial Data\n",
    "*Lesson Developers: Coline Dony cdony@aag.org and Karen Kemp  kakemp@usc.edu*"
   ]
  },
  {
   "cell_type": "code",
   "execution_count": 2,
   "metadata": {
    "hide_input": false,
    "init_cell": true,
    "slideshow": {
     "slide_type": "skip"
    },
    "tags": [
     "Hide"
    ]
   },
   "outputs": [
    {
     "data": {
      "text/html": [
       " \n",
       "    <script type=\"text/javascript\" src=\"../../supplementary/js/custom.js\"></script>\n",
       "    \n",
       "    <input id=\"toggle_code\" type=\"button\" value=\"Toggle raw code\">\n"
      ],
      "text/plain": [
       "<IPython.core.display.HTML object>"
      ]
     },
     "execution_count": 2,
     "metadata": {},
     "output_type": "execute_result"
    }
   ],
   "source": [
    "# This code cell starts the necessary setup for Hour of CI lesson notebooks.\n",
    "# First, it enables users to hide and unhide code by producing a 'Toggle raw code' button below.\n",
    "# Second, it imports the hourofci package, which is necessary for lessons and interactive Jupyter Widgets.\n",
    "# Third, it helps hide/control other aspects of Jupyter Notebooks to improve the user experience\n",
    "# This is an initialization cell\n",
    "# It is not displayed because the Slide Type is 'Skip'\n",
    "\n",
    "from IPython.display import HTML, IFrame, Javascript, display\n",
    "from ipywidgets import interactive\n",
    "import ipywidgets as widgets\n",
    "from ipywidgets import Layout\n",
    "\n",
    "import getpass # This library allows us to get the username (User agent string)\n",
    "\n",
    "# import package for hourofci project\n",
    "import sys\n",
    "sys.path.append('../../supplementary') # relative path (may change depending on the location of the lesson notebook)\n",
    "import hourofci\n",
    "\n",
    "# Retreive the user agent string, it will be passed to the hourofci submit button\n",
    "agent_js = \"\"\"\n",
    "IPython.notebook.kernel.execute(\"user_agent = \" + \"'\" + navigator.userAgent + \"'\");\n",
    "\"\"\"\n",
    "Javascript(agent_js)\n",
    "\n",
    "# load javascript to initialize/hide cells, get user agent string, and hide output indicator\n",
    "# hide code by introducing a toggle button \"Toggle raw code\"\n",
    "HTML(''' \n",
    "    <script type=\"text/javascript\" src=\\\"../../supplementary/js/custom.js\\\"></script>\n",
    "    \n",
    "    <input id=\"toggle_code\" type=\"button\" value=\"Toggle raw code\">\n",
    "''')"
   ]
  },
  {
   "cell_type": "markdown",
   "metadata": {
    "slideshow": {
     "slide_type": "slide"
    },
    "variables": {
     "IFrame(\"supplementary/grid-1.html\", width=970, height=530)": "\n        <iframe\n            width=\"970\"\n            height=\"530\"\n            src=\"supplementary/grid-1.html\"\n            frameborder=\"0\"\n            allowfullscreen\n        ></iframe>\n        "
    }
   },
   "source": [
    "## Let’s try using descriptions to identify location.\n",
    "Drag each symbol to its correct location as shown in the table.\n",
    "\n",
    "{{IFrame(\"supplementary/grid-1.html\", width=970, height=530)}}"
   ]
  },
  {
   "cell_type": "markdown",
   "metadata": {
    "slideshow": {
     "slide_type": "slide"
    },
    "variables": {
     "IFrame(\"supplementary/grid-2.html\", width=970, height=530)": "\n        <iframe\n            width=\"970\"\n            height=\"530\"\n            src=\"supplementary/grid-2.html\"\n            frameborder=\"0\"\n            allowfullscreen\n        ></iframe>\n        "
    }
   },
   "source": [
    "### Let's use numeric coordinates this time.\n",
    "Drag each symbol to its correct location as shown in the table. This may be a little less easy, but use the same thinking as before!\n",
    "\n",
    "{{IFrame(\"supplementary/grid-2.html\", width=970, height=530)}}"
   ]
  },
  {
   "cell_type": "markdown",
   "metadata": {
    "slideshow": {
     "slide_type": "slide"
    },
    "variables": {
     "IFrame(\"supplementary/dresser.html\", width=620, height=630)": "\n        <iframe\n            width=\"620\"\n            height=\"630\"\n            src=\"supplementary/dresser.html\"\n            frameborder=\"0\"\n            allowfullscreen\n        ></iframe>\n        "
    }
   },
   "source": [
    "### Coordinate systems are everywhere\n",
    "They are used to label the location of things, so that we can find them again!\n",
    "\n",
    "This dresser, for example, has a coordinate system!\n",
    "- Your stuffed hippo is in the lower right drawer, go get it!\n",
    "- Stuffed hippo **coordinates**: (lower drawer, right drawer)\n",
    "{{IFrame(\"supplementary/dresser.html\", width=620, height=630)}}"
   ]
  },
  {
   "cell_type": "markdown",
   "metadata": {
    "slideshow": {
     "slide_type": "slide"
    },
    "variables": {
     "IFrame(\"supplementary/bookshelf.html\", width=620, height=430)": "\n        <iframe\n            width=\"620\"\n            height=\"430\"\n            src=\"supplementary/bookshelf.html\"\n            frameborder=\"0\"\n            allowfullscreen\n        ></iframe>\n        "
    }
   },
   "source": [
    "This library too, has a coordinate system!\n",
    "- The book about hippos you want to read is in aisle 1A on the upper shelf. Go get it!\n",
    "- Hippo book **coordinates**: (1A isle, upper shelf)\n",
    "\n",
    "{{IFrame(\"supplementary/bookshelf.html\", width=620, height=430)}}"
   ]
  },
  {
   "cell_type": "markdown",
   "metadata": {
    "slideshow": {
     "slide_type": "slide"
    },
    "variables": {
     "IFrame(\"supplementary/cartesian.html\", width=620, height=540)": "\n        <iframe\n            width=\"620\"\n            height=\"540\"\n            src=\"supplementary/cartesian.html\"\n            frameborder=\"0\"\n            allowfullscreen\n        ></iframe>\n        "
    }
   },
   "source": [
    "Some **coordinate systems** are used so frequently that they are given dedicated names!\n",
    "\n",
    "The **“Cartesian” coordinate system**, for example, was thought of by René Descartes. You learned about this in your math classes in grade school.\n",
    "\n",
    "### Let’s try using the Cartesian coordinate system to draw the trajectory (path) of the hippo.\n",
    "- The hippo's trajectory coordinates are: `[(-4,6), (0,5), (3,-2)]`\n",
    "\n",
    "{{IFrame(\"supplementary/cartesian.html\", width=620, height=540)}}"
   ]
  },
  {
   "cell_type": "markdown",
   "metadata": {
    "slideshow": {
     "slide_type": "slide"
    }
   },
   "source": [
    "### But the world is a sphere!\n",
    "\n",
    "![globe](supplementary/orthographic.png)"
   ]
  },
  {
   "cell_type": "markdown",
   "metadata": {
    "slideshow": {
     "slide_type": "slide"
    }
   },
   "source": [
    "In order to find coordinates on the spherical earth we use an angular measurement system that produces the coordinates *latitude and longitude*. \n",
    "\n",
    "![Measuring latitude and longitude](supplementary/lat_long.png)"
   ]
  },
  {
   "cell_type": "markdown",
   "metadata": {
    "slideshow": {
     "slide_type": "slide"
    },
    "variables": {
     "IFrame(\"supplementary/geodetic.html\", width=650, height=530)": "\n        <iframe\n            width=\"650\"\n            height=\"530\"\n            src=\"supplementary/geodetic.html\"\n            frameborder=\"0\"\n            allowfullscreen\n        ></iframe>\n        "
    }
   },
   "source": [
    "This map shows the World Geodetic System (WGS for short). It is the coordinate system used to locate things on the Earth. It is what you get when you ask for coordinates in Google Maps and often what you get from a GPS.\n",
    "\n",
    "The first number in WGS coordinates is the **latitude** - measured north and south from the equator.\n",
    "\n",
    "The second number in WGS coordinates is the **longitude** - measured east and west from the prime meridian (runs through Greenwich England). \n",
    "\n",
    "### Find the location of hippos on this world map!\n",
    "\n",
    "- There is a hippo family at coordinates (30°E, 15°N). Click on that location.\n",
    "\n",
    "{{IFrame(\"supplementary/geodetic.html\", width=650, height=530)}}"
   ]
  },
  {
   "cell_type": "markdown",
   "metadata": {
    "slideshow": {
     "slide_type": "slide"
    }
   },
   "source": [
    "Now, let's look at some geospatial data that uses the WGS coordinate systems as georeferences and make a map. "
   ]
  },
  {
   "cell_type": "code",
   "execution_count": 4,
   "metadata": {
    "scrolled": true
   },
   "outputs": [
    {
     "ename": "SyntaxError",
     "evalue": "invalid syntax (<ipython-input-4-c704126ed7b4>, line 1)",
     "output_type": "error",
     "traceback": [
      "\u001b[0;36m  File \u001b[0;32m\"<ipython-input-4-c704126ed7b4>\"\u001b[0;36m, line \u001b[0;32m1\u001b[0m\n\u001b[0;31m    code block\u001b[0m\n\u001b[0m             ^\u001b[0m\n\u001b[0;31mSyntaxError\u001b[0m\u001b[0;31m:\u001b[0m invalid syntax\n"
     ]
    }
   ],
   "source": [
    "code block"
   ]
  },
  {
   "cell_type": "markdown",
   "metadata": {
    "slideshow": {
     "slide_type": "slide"
    }
   },
   "source": [
    "A self-assessment question here."
   ]
  },
  {
   "cell_type": "markdown",
   "metadata": {
    "slideshow": {
     "slide_type": "slide"
    }
   },
   "source": [
    "Ok, you've mastered direct georeferencing - identifing the location of anything using a coordinate system. \n",
    "\n",
    "Let's take a look at indirect georeferencing next.\n",
    "\n",
    "<a href=\"gd-4.ipynb\">Click here to move on.</a>"
   ]
  }
 ],
 "metadata": {
  "celltoolbar": "Initialization Cell",
  "kernelspec": {
   "display_name": "Python 3",
   "language": "python",
   "name": "python3"
  },
  "language_info": {
   "codemirror_mode": {
    "name": "ipython",
    "version": 3
   },
   "file_extension": ".py",
   "mimetype": "text/x-python",
   "name": "python",
   "nbconvert_exporter": "python",
   "pygments_lexer": "ipython3",
   "version": "3.7.7"
  },
  "rise": {
   "autolaunch": true
  }
 },
 "nbformat": 4,
 "nbformat_minor": 2
}
