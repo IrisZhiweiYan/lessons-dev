{
 "cells": [
  {
   "cell_type": "markdown",
   "metadata": {
    "slideshow": {
     "slide_type": "slide"
    }
   },
   "source": [
    "# Introduction to Geospatial Data\n",
    "*Lesson Developers: Coline Dony cdony@aag.org and Karen Kemp  kakemp@usc.edu*"
   ]
  },
  {
   "cell_type": "code",
   "execution_count": 1,
   "metadata": {
    "hide_input": true,
    "init_cell": true,
    "slideshow": {
     "slide_type": "skip"
    },
    "tags": [
     "Hide"
    ]
   },
   "outputs": [
    {
     "data": {
      "text/html": [
       " \n",
       "    <script type=\"text/javascript\" src=\"../../supplementary/js/custom.js\"></script>\n",
       "    \n",
       "    <input id=\"toggle_code\" type=\"button\" value=\"Toggle raw code\">\n"
      ],
      "text/plain": [
       "<IPython.core.display.HTML object>"
      ]
     },
     "execution_count": 1,
     "metadata": {},
     "output_type": "execute_result"
    }
   ],
   "source": [
    "# This code cell starts the necessary setup for Hour of CI lesson notebooks.\n",
    "# First, it enables users to hide and unhide code by producing a 'Toggle raw code' button below.\n",
    "# Second, it imports the hourofci package, which is necessary for lessons and interactive Jupyter Widgets.\n",
    "# Third, it helps hide/control other aspects of Jupyter Notebooks to improve the user experience\n",
    "# This is an initialization cell\n",
    "# It is not displayed because the Slide Type is 'Skip'\n",
    "\n",
    "from IPython.display import HTML, IFrame, Javascript, display\n",
    "from ipywidgets import interactive\n",
    "import ipywidgets as widgets\n",
    "from ipywidgets import Layout\n",
    "\n",
    "import getpass # This library allows us to get the username (User agent string)\n",
    "\n",
    "# import package for hourofci project\n",
    "import sys\n",
    "sys.path.append('../../supplementary') # relative path (may change depending on the location of the lesson notebook)\n",
    "import hourofci\n",
    "\n",
    "# Retreive the user agent string, it will be passed to the hourofci submit button\n",
    "agent_js = \"\"\"\n",
    "IPython.notebook.kernel.execute(\"user_agent = \" + \"'\" + navigator.userAgent + \"'\");\n",
    "\"\"\"\n",
    "Javascript(agent_js)\n",
    "\n",
    "# load javascript to initialize/hide cells, get user agent string, and hide output indicator\n",
    "# hide code by introducing a toggle button \"Toggle raw code\"\n",
    "HTML(''' \n",
    "    <script type=\"text/javascript\" src=\\\"../../supplementary/js/custom.js\\\"></script>\n",
    "    \n",
    "    <input id=\"toggle_code\" type=\"button\" value=\"Toggle raw code\">\n",
    "''')"
   ]
  },
  {
   "cell_type": "markdown",
   "metadata": {
    "slideshow": {
     "slide_type": "slide"
    }
   },
   "source": [
    "## The world is infinitely complex\n",
    "![View of Queenstown NZ](supplementary/queenstown.jpg)\n",
    "- How can we code this landscape around Queenstown, New Zealand so that we can compute with it? \n",
    "- How do we even decide what to measure and record? \n",
    "- And how can we structure data about this complex world into tables to represent this?????"
   ]
  },
  {
   "cell_type": "markdown",
   "metadata": {
    "slideshow": {
     "slide_type": "slide"
    }
   },
   "source": [
    "## A famous GIScientist once said\n",
    "###     \"People cultivate fields (but manipulate objects)\" <small><sup>1</sup></small>\n",
    "\n",
    "This phrase summarizes the most important distinction we make when capturing geospatial data. \n",
    "- Is the world made up of *fields* or *objects*?\n",
    "\n",
    "![raster or vector](supplementary/raster_vector.png)\n",
    "\n",
    "<small><sup>1</sup>by Helen Couclelis, 1992, <a href=\"https://www.researchgate.net/publication/221589734_People_Manipulate_Objects_but_Cultivate_Fields_Beyond_the_Raster-Vector_Debate_in_GIS\">\"People Manipulate Objects (but Cultivate Fields): Beyond the Raster-Vector Debate in GIS\"</a> from the book *Theories and Methods of Spatio-Temporal Reasoning in Geographic Space: International Conference GIS — From Space to Territory: Theories and Methods of Spatio-Temporal Reasoning* Pisa, Italy, September 21–23, 1992 (pp.65-77)</small>"
   ]
  },
  {
   "cell_type": "markdown",
   "metadata": {
    "slideshow": {
     "slide_type": "slide"
    }
   },
   "source": [
    "Think about the picture of Queenstown we looked at earlier. \n",
    " \n",
    "The rolling surface of the landscape is continuous. There's land or water, at various elevations, everywhere. That's a field. Elevation is the classic field. There is a value of elevation everywhere. \n",
    "\n",
    "Then consider all the manmade structures in the picture. There are buildings, lightposts, roads. These are objects. The object world view is mostly empty, with objects scattered around. \n",
    "\n",
    "So, let's see if you can separate these two perspectives..."
   ]
  },
  {
   "cell_type": "markdown",
   "metadata": {
    "slideshow": {
     "slide_type": "slide"
    }
   },
   "source": [
    "(an interactive here)\n",
    "\n",
    "Sort these things into whether they are objects or fields.\n",
    "\n",
    "- elevation\n",
    "- soil type\n",
    "- air temperature at the ground surface\n",
    "\n",
    "- cars\n",
    "- mailboxes\n",
    "- railway tracks\n"
   ]
  },
  {
   "cell_type": "markdown",
   "metadata": {
    "slideshow": {
     "slide_type": "slide"
    }
   },
   "source": [
    "Now let's look at some geospatial data that are coded as either objects or fields.\n",
    "\n",
    "This is geospatial data stored as a field.\n",
    "\n",
    "CODE BLOCK to load and display a raster image."
   ]
  },
  {
   "cell_type": "markdown",
   "metadata": {
    "slideshow": {
     "slide_type": "slide"
    }
   },
   "source": [
    "This is geospatial data stored as objects.\n",
    "\n",
    "CODE BLOCK to load and display a collection of OSM layers"
   ]
  },
  {
   "cell_type": "markdown",
   "metadata": {
    "slideshow": {
     "slide_type": "slide"
    }
   },
   "source": [
    "Now let's dig deeper. Let's look at how the field data is actually stored.\n",
    "\n",
    "CODE BLOCK to provide head of the raster image.\n",
    "\n",
    "What's this all about???"
   ]
  },
  {
   "cell_type": "markdown",
   "metadata": {
    "slideshow": {
     "slide_type": "slide"
    }
   },
   "source": [
    "Field data is usually stored as *rasters*.\n",
    "\n",
    "To store the world into a raster, the surface of the earth is divided into a grid of equal sized cells that covers a specific chunk of the earth, say a square that is 10 m by 10 m. \n",
    "\n",
    "![world to raster](supplementary/world_to_raster_sm.png)\n",
    "\n",
    "Each cell is given a value that represents the data that has been measured on the earth in that cell. \n",
    "\n",
    "In the raster in this graphic, the building has been coded with the value green and the road has been coded with the value red. "
   ]
  },
  {
   "cell_type": "markdown",
   "metadata": {
    "slideshow": {
     "slide_type": "slide"
    }
   },
   "source": [
    "So, let's look again at the first few lines of that field data.\n",
    "\n",
    "CODE BLOCK to provide head of the raster image.\n",
    "\n",
    "Here we see the first 5 lines of the data file. Each line shows us the values of the field in each cell across a row of the grid. The numbers indicate the value in each raster cell. "
   ]
  },
  {
   "cell_type": "markdown",
   "metadata": {
    "slideshow": {
     "slide_type": "slide"
    }
   },
   "source": [
    "Now let's look at how object data is stored - hint, it's completely different! And WAY more complex. \n",
    "\n",
    "We'll start simple. When you ask Google to show you all the nearby restaurants on a map, you get a map with a bunch of pins, some with labels. You can click on them and find out information about those places. Those dots represent restaurant objects.\n",
    "\n",
    "Here's that map for Queenstown with some points of interest. \n",
    "<a href=\"https://www.google.com/maps/place/Queenstown,+New+Zealand/@-45.0514839,168.6648181,1609a,35y,345.22h,54.63t/data=!3m1!1e3!4m5!3m4!1s0xa9d51df1d7a8de5f:0x500ef868479a600!8m2!3d-45.0301511!4d168.6616206\">This link will take you to Google Maps.</a>\n",
    "![Queenstown POIs](supplementary/queenstown_google_POI.png)"
   ]
  },
  {
   "cell_type": "markdown",
   "metadata": {
    "slideshow": {
     "slide_type": "slide"
    }
   },
   "source": [
    "Now, let's see how that data is stored in a file. \n",
    "\n",
    "CODE BLOCK to load and show the first 5 rows of an attribute table of a point dataset. \n",
    "\n",
    "Here we have a table like the one at the beginning of this section. Each row has an object ID, some data about various attributes for that object, maybe one with an indirect georeference and then a magic column with entries in binary that you can't read. That contains the actual point locations. Fortunately, the computer can read that code and put the associated dot on the map. "
   ]
  },
  {
   "cell_type": "markdown",
   "metadata": {
    "slideshow": {
     "slide_type": "slide"
    }
   },
   "source": [
    "Now let's see how that table can generate the dots on a map!\n",
    "\n",
    "CODE BLOCK to view the point data over a nice base map. "
   ]
  },
  {
   "cell_type": "markdown",
   "metadata": {
    "slideshow": {
     "slide_type": "slide"
    }
   },
   "source": [
    "Now, remember this? \n",
    "![raster or vector](supplementary/raster_vector.png)\n",
    "These illustrate the two most common *data models* for geospatial data. \n",
    "- Fields are stored as grids called *rasters* and there is a value everywhere. \n",
    "- Objects, which are scattered around mostly empty space, are stored as *vectors*.\n",
    "\n",
    "So, tell me more about vectors, you say..."
   ]
  },
  {
   "cell_type": "markdown",
   "metadata": {
    "slideshow": {
     "slide_type": "slide"
    }
   },
   "source": [
    "Vectors usually come in three varieties - points, lines and polygons. \n",
    "\n",
    "![vectors](supplementary/vectors_sm.png)"
   ]
  },
  {
   "cell_type": "markdown",
   "metadata": {
    "slideshow": {
     "slide_type": "subslide"
    }
   },
   "source": [
    "Points are good for things like cities on a world map, or lightpoles and signposts on a neighborhood map. \n",
    "\n",
    "Lines are for rivers, roads, railways, boundaries - that sort of thing.\n",
    "\n",
    "Polygons are areas. So they're used for lakes, building footprints, parks. "
   ]
  },
  {
   "cell_type": "markdown",
   "metadata": {
    "slideshow": {
     "slide_type": "slide"
    }
   },
   "source": [
    "Vector data has two components.\n",
    "![Geometry + Attributes](supplementary/vector_structure.png)\n",
    "These components can be stored together in a table by including one or more columns that provide the direct georeference (e.g. lat and long).\n",
    "\n",
    "*OR*, these components can be stored separately. Attributes with an object ID in one table and the geometry labelled with the same IDs in a separate file. "
   ]
  },
  {
   "cell_type": "markdown",
   "metadata": {
    "slideshow": {
     "slide_type": "slide"
    }
   },
   "source": [
    "By the way, it's good to know that you can't mix up points, lines and polygons in the a single geospatial data file. If you want a map that shows points, lines and polygons, then you'll need at least three different datasets, one for each type of vector data. Here's an example.\n",
    "\n",
    "CODE BLOCK load point, line and polygon data (OSM?) and view. "
   ]
  },
  {
   "cell_type": "markdown",
   "metadata": {
    "slideshow": {
     "slide_type": "slide"
    }
   },
   "source": [
    "OK, now let's practice these concepts. For each of the following kinds of geospatial data, choose the data model (raster or vector) that it's most likely to be stored in. \n",
    "- Public transit routes\n",
    "- Elevation in across a national park.\n",
    "- Points of interest, i.e. Tourist must see places in a city\n",
    "- COVID infection rates by state.\n"
   ]
  },
  {
   "cell_type": "markdown",
   "metadata": {
    "slideshow": {
     "slide_type": "slide"
    }
   },
   "source": [
    "Well done! Now you know a little bit about geospatial data. \n",
    "\n",
    "If you have worked through this lesson carefully, you should now be able to: \n",
    "1. Explain what is special about geospatial data.\n",
    "2. Describe how location can be measured and recorded in geospatial data.\n",
    "3. Explain the difference between raster and vector data.\n",
    "4. Identify several different types of geospatial data.\n",
    "5. Load and view different kinds of geospatial data in Python Notebooks."
   ]
  },
  {
   "cell_type": "markdown",
   "metadata": {
    "slideshow": {
     "slide_type": "subslide"
    }
   },
   "source": [
    "If you want to learn more about geospatial data, you can go on to the intermediate Geospatial Data lesson.\n",
    "\n",
    "Or you can go back and complete some of the other introductory lessons as they all touch on the use of geospatial data. "
   ]
  }
 ],
 "metadata": {
  "celltoolbar": "Initialization Cell",
  "kernelspec": {
   "display_name": "Python 3",
   "language": "python",
   "name": "python3"
  },
  "language_info": {
   "codemirror_mode": {
    "name": "ipython",
    "version": 3
   },
   "file_extension": ".py",
   "mimetype": "text/x-python",
   "name": "python",
   "nbconvert_exporter": "python",
   "pygments_lexer": "ipython3",
   "version": "3.7.7"
  }
 },
 "nbformat": 4,
 "nbformat_minor": 4
}
