{
 "cells": [
  {
   "cell_type": "markdown",
   "metadata": {
    "hide_input": false,
    "slideshow": {
     "slide_type": "slide"
    }
   },
   "source": [
    "# Introduction to Geospatial Data\n",
    "*Lesson Developers: Coline Dony cdony@aag.org and Karen Kemp  kakemp@usc.edu*"
   ]
  },
  {
   "cell_type": "code",
   "execution_count": 1,
   "metadata": {
    "hide_input": true,
    "init_cell": true,
    "slideshow": {
     "slide_type": "skip"
    },
    "tags": [
     "Hide"
    ]
   },
   "outputs": [
    {
     "data": {
      "text/html": [
       " \n",
       "    <script type=\"text/javascript\" src=\"../../supplementary/js/custom.js\"></script>\n",
       "    \n",
       "    <input id=\"toggle_code\" type=\"button\" value=\"Toggle raw code\">\n"
      ],
      "text/plain": [
       "<IPython.core.display.HTML object>"
      ]
     },
     "execution_count": 1,
     "metadata": {},
     "output_type": "execute_result"
    }
   ],
   "source": [
    "# This code cell starts the necessary setup for Hour of CI lesson notebooks.\n",
    "# First, it enables users to hide and unhide code by producing a 'Toggle raw code' button below.\n",
    "# Second, it imports the hourofci package, which is necessary for lessons and interactive Jupyter Widgets.\n",
    "# Third, it helps hide/control other aspects of Jupyter Notebooks to improve the user experience\n",
    "# This is an initialization cell\n",
    "# It is not displayed because the Slide Type is 'Skip'\n",
    "\n",
    "from IPython.display import HTML, IFrame, Javascript, display\n",
    "from ipywidgets import interactive\n",
    "import ipywidgets as widgets\n",
    "from ipywidgets import Layout\n",
    "\n",
    "import getpass # This library allows us to get the username (User agent string)\n",
    "\n",
    "# import package for hourofci project\n",
    "import sys\n",
    "sys.path.append('../../supplementary') # relative path (may change depending on the location of the lesson notebook)\n",
    "import hourofci\n",
    "\n",
    "# Retreive the user agent string, it will be passed to the hourofci submit button\n",
    "agent_js = \"\"\"\n",
    "IPython.notebook.kernel.execute(\"user_agent = \" + \"'\" + navigator.userAgent + \"'\");\n",
    "\"\"\"\n",
    "Javascript(agent_js)\n",
    "\n",
    "# load javascript to initialize/hide cells, get user agent string, and hide output indicator\n",
    "# hide code by introducing a toggle button \"Toggle raw code\"\n",
    "HTML(''' \n",
    "    <script type=\"text/javascript\" src=\\\"../../supplementary/js/custom.js\\\"></script>\n",
    "    \n",
    "    <input id=\"toggle_code\" type=\"button\" value=\"Toggle raw code\">\n",
    "''')"
   ]
  },
  {
   "cell_type": "markdown",
   "metadata": {
    "slideshow": {
     "slide_type": "slide"
    }
   },
   "source": [
    "\n",
    "### How often do you ask yourself questions starting with \"Where.....\"?\n",
    "For example:\n",
    "\n",
    "- Where is my coat?\n",
    "- Where is my friend's house?\n",
    "- Where is our meeting place?\n",
    "- Where is the movie theater?\n"
   ]
  },
  {
   "cell_type": "code",
   "execution_count": 2,
   "metadata": {
    "hide_input": false,
    "scrolled": true,
    "slideshow": {
     "slide_type": "fragment"
    },
    "tags": [
     "Hide",
     "Q1",
     "Init"
    ]
   },
   "outputs": [
    {
     "data": {
      "application/vnd.jupyter.widget-view+json": {
       "model_id": "d34cd29118774df6b4f8d5f0ea830abd",
       "version_major": 2,
       "version_minor": 0
      },
      "text/plain": [
       "RadioButtons(description='How often do I ask myself WHERE questions:', layout=Layout(width='100%'), options=('…"
      ]
     },
     "metadata": {},
     "output_type": "display_data"
    },
    {
     "data": {
      "application/vnd.jupyter.widget-view+json": {
       "model_id": "9fa415f80bba4aad888ef321b550f3ab",
       "version_major": 2,
       "version_minor": 0
      },
      "text/plain": [
       "Button(description='Submit', icon='check', style=ButtonStyle())"
      ]
     },
     "metadata": {},
     "output_type": "display_data"
    },
    {
     "data": {
      "application/vnd.jupyter.widget-view+json": {
       "model_id": "27ba500cf14345a8b6c0f307dfffa11b",
       "version_major": 2,
       "version_minor": 0
      },
      "text/plain": [
       "Output()"
      ]
     },
     "metadata": {},
     "output_type": "display_data"
    }
   ],
   "source": [
    "# Multiple choice question\n",
    "widget1 = widgets.RadioButtons(\n",
    "    options = ['never', 'monthly', 'daily', 'weekly', 'daily', 'hourly', 'all the time'],\n",
    "    description = 'How often do I ask myself WHERE questions:', style={'description_width': 'initial'},\n",
    "    layout = Layout(width='100%'),\n",
    "    value = None\n",
    ")\n",
    "\n",
    "display(widget1)\n",
    "\n",
    "hourofci.SubmitBtn(user_agent,\"geospatial-data\",\"beginner\",'Q1',widget1)"
   ]
  },
  {
   "cell_type": "markdown",
   "metadata": {
    "slideshow": {
     "slide_type": "slide"
    }
   },
   "source": [
    "### Everyday, we face WHERE-questions\n",
    "\n",
    "How do we answer our WHERE-questions?\n",
    "\n",
    "Sometimes we use our brain's spatial memory and sometimes we have to rely on maps (paper or online) to help us navigate to these locations.\n",
    "\n",
    "How would your life be different if you had no access to maps (paper or online)? \n",
    "\n",
    "This section of the lesson is about our need to label things with a location, so we can find them again or share where they are with others."
   ]
  },
  {
   "cell_type": "markdown",
   "metadata": {
    "slideshow": {
     "slide_type": "slide"
    }
   },
   "source": [
    "# <center>How do we determine and code the location of things in the world?"
   ]
  },
  {
   "cell_type": "markdown",
   "metadata": {
    "slideshow": {
     "slide_type": "fragment"
    }
   },
   "source": [
    "# <center>By georeferencing</center>"
   ]
  },
  {
   "cell_type": "markdown",
   "metadata": {
    "slideshow": {
     "slide_type": "slide"
    }
   },
   "source": [
    "## There are two types of georeferences\n",
    "<p>\n",
    "    <b><i><font color = red>Direct georeferences</i></b></font> provide a value that expresses location in some coordinate system.\n",
    "<p>\n",
    "The most common example we use all the time is latitude and longitude.\n",
    "<p>\n",
    "What is the latitude and longitude of your current location? Ask your Google maps!"
   ]
  },
  {
   "cell_type": "markdown",
   "metadata": {
    "slideshow": {
     "slide_type": "slide"
    }
   },
   "source": [
    "The other type of georeference is:</p>\n",
    "<p>\n",
    "    <b><i><font color=red>Indirect georeferences</i></b></font> that use a code, ID or name that can be related to locations that are specified in other data. Often that's a map.</p>\n",
    "<p>\n",
    "<p>\n",
    "If you state your location as an address, an indirect georeference, we could find that location by looking at a map (or asking Google to find it, of course). "
   ]
  },
  {
   "cell_type": "markdown",
   "metadata": {
    "slideshow": {
     "slide_type": "slide"
    }
   },
   "source": [
    "## Let's take a closer look at each of these kinds of georeferencs. \n",
    "\n",
    "We'll start by looking at *direct georeferencing.*\n",
    "\n",
    "So how do we figure out the location of anything? \n",
    "\n",
    "<a href=\"gd-3.ipynb\">Click here to move to the next section to learn more!</a>"
   ]
  }
 ],
 "metadata": {
  "celltoolbar": "Initialization Cell",
  "kernelspec": {
   "display_name": "Python 3",
   "language": "python",
   "name": "python3"
  },
  "language_info": {
   "codemirror_mode": {
    "name": "ipython",
    "version": 3
   },
   "file_extension": ".py",
   "mimetype": "text/x-python",
   "name": "python",
   "nbconvert_exporter": "python",
   "pygments_lexer": "ipython3",
   "version": "3.7.7"
  },
  "rise": {
   "autolaunch": true
  }
 },
 "nbformat": 4,
 "nbformat_minor": 4
}
