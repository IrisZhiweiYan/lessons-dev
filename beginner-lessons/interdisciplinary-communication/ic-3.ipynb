{
 "cells": [
  {
   "cell_type": "markdown",
   "metadata": {
    "slideshow": {
     "slide_type": "slide"
    }
   },
   "source": [
    "# Interdisciplinary Communication\n",
    "\n",
    "In this section, we’ll explore more impacts of jargon within ourselves and within different domain contexts.\n",
    "\n",
    "*Lesson Developer: Forrest Bowlick fbowlick@umass.edu*"
   ]
  },
  {
   "cell_type": "code",
   "execution_count": 2,
   "metadata": {
    "init_cell": true,
    "slideshow": {
     "slide_type": "skip"
    },
    "tags": [
     "Hide"
    ]
   },
   "outputs": [
    {
     "data": {
      "text/html": [
       " \n",
       "    <script type=\"text/javascript\" src=\"../../supplementary/js/custom.js\"></script>\n",
       "    \n",
       "    <input id=\"toggle_code\" type=\"button\" value=\"Toggle raw code\">\n"
      ],
      "text/plain": [
       "<IPython.core.display.HTML object>"
      ]
     },
     "execution_count": 2,
     "metadata": {},
     "output_type": "execute_result"
    }
   ],
   "source": [
    "# This code cell starts the necessary setup for Hour of CI lesson notebooks.\n",
    "# First, it enables users to hide and unhide code by producing a 'Toggle raw code' button below.\n",
    "# Second, it imports the hourofci package, which is necessary for lessons and interactive Jupyter Widgets.\n",
    "# Third, it helps hide/control other aspects of Jupyter Notebooks to improve the user experience\n",
    "# This is an initialization cell\n",
    "# It is not displayed because the Slide Type is 'Skip'\n",
    "\n",
    "from IPython.display import HTML, IFrame, Javascript, display\n",
    "from ipywidgets import interactive\n",
    "import ipywidgets as widgets\n",
    "from ipywidgets import Layout\n",
    "\n",
    "import getpass # This library allows us to get the username (User agent string)\n",
    "\n",
    "# import package for hourofci project\n",
    "import sys\n",
    "sys.path.append('../../supplementary') # relative path (may change depending on the location of the lesson notebook)\n",
    "import hourofci\n",
    "\n",
    "# Retreive the user agent string, it will be passed to the hourofci submit button\n",
    "agent_js = \"\"\"\n",
    "IPython.notebook.kernel.execute(\"user_agent = \" + \"'\" + navigator.userAgent + \"'\");\n",
    "\"\"\"\n",
    "Javascript(agent_js)\n",
    "\n",
    "# load javascript to initialize/hide cells, get user agent string, and hide output indicator\n",
    "# hide code by introducing a toggle button \"Toggle raw code\"\n",
    "HTML(''' \n",
    "    <script type=\"text/javascript\" src=\\\"../../supplementary/js/custom.js\\\"></script>\n",
    "    \n",
    "    <input id=\"toggle_code\" type=\"button\" value=\"Toggle raw code\">\n",
    "''')"
   ]
  },
  {
   "cell_type": "markdown",
   "metadata": {
    "slideshow": {
     "slide_type": "slide"
    }
   },
   "source": [
    "## How Do You Feel?"
   ]
  },
  {
   "cell_type": "code",
   "execution_count": 3,
   "metadata": {
    "hide_input": false,
    "slideshow": {
     "slide_type": "fragment"
    },
    "tags": [
     "Init",
     "Hide"
    ]
   },
   "outputs": [
    {
     "data": {
      "application/vnd.jupyter.widget-view+json": {
       "model_id": "0ea4cf0a088742719cb4e5d47582b09e",
       "version_major": 2,
       "version_minor": 0
      },
      "text/plain": [
       "Text(value='', description='How do you feel?', placeholder='I feel...', style=DescriptionStyle(description_wid…"
      ]
     },
     "metadata": {},
     "output_type": "display_data"
    },
    {
     "data": {
      "application/vnd.jupyter.widget-view+json": {
       "model_id": "a866c6bb67f744c1877ee81fbeb41aa4",
       "version_major": 2,
       "version_minor": 0
      },
      "text/plain": [
       "Button(description='Submit', icon='check', style=ButtonStyle())"
      ]
     },
     "metadata": {},
     "output_type": "display_data"
    },
    {
     "data": {
      "application/vnd.jupyter.widget-view+json": {
       "model_id": "23137c730bca481883cd1396b77b302c",
       "version_major": 2,
       "version_minor": 0
      },
      "text/plain": [
       "Output()"
      ]
     },
     "metadata": {},
     "output_type": "display_data"
    }
   ],
   "source": [
    "# Text box\n",
    "text1 = widgets.Text(\n",
    "    placeholder='I feel...',\n",
    "    description='How do you feel?', style={'description_width': 'initial'},\n",
    ")\n",
    "\n",
    "# Submit button\n",
    "button1 = widgets.Button(\n",
    "    description = 'Submit',\n",
    "    disabled = False,\n",
    "    button_style = '',\n",
    "    icon = 'check'\n",
    ")\n",
    "\n",
    "# Output\n",
    "output1 = widgets.Output()\n",
    "\n",
    "display(text1, button1, output1)\n",
    "\n",
    "# Output function\n",
    "def out(b):\n",
    "    with output1:\n",
    "        output1.clear_output()\n",
    "        print(\"The positionality of a speaker, and the audience they are speaking to, matters immensely when trying to share a message, concept, or idea.\")\n",
    "\n",
    "\n",
    "# Handle click event\n",
    "button1.on_click(out)"
   ]
  },
  {
   "cell_type": "markdown",
   "metadata": {
    "slideshow": {
     "slide_type": "slide"
    },
    "variables": {
     "IFrame(\"supplementary/feelings.html\", width=\"520\", height=\"230\")": "\n        <iframe\n            width=\"520\"\n            height=\"230\"\n            src=\"supplementary/feelings.html\"\n            frameborder=\"0\"\n            allowfullscreen\n        ></iframe>\n        "
    }
   },
   "source": [
    "The use, or non-use, of jargon in different contexts might have unexpected impacts. Given the speaker type and the audience listed, select a feeling from the list that is appropriate given the context.\n",
    "\n",
    "{{IFrame(\"supplementary/feelings.html\", width=\"520\", height=\"230\")}}"
   ]
  },
  {
   "cell_type": "markdown",
   "metadata": {
    "slideshow": {
     "slide_type": "slide"
    }
   },
   "source": [
    "## Domains\n",
    "\n",
    "Throughout your time interacting with cyberinfrastruture, you will interact with many different domains.\n",
    "\n",
    "For example:\n",
    "- Geography\n",
    "- Spatial Analysis\n",
    "- Computer Science\n",
    "- Remote Sensing"
   ]
  },
  {
   "cell_type": "markdown",
   "metadata": {
    "slideshow": {
     "slide_type": "fragment"
    }
   },
   "source": [
    "What domain are you in?"
   ]
  },
  {
   "cell_type": "code",
   "execution_count": 4,
   "metadata": {
    "slideshow": {
     "slide_type": "fragment"
    },
    "tags": [
     "Init",
     "Hide"
    ]
   },
   "outputs": [
    {
     "data": {
      "application/vnd.jupyter.widget-view+json": {
       "model_id": "4c28569b90aa4d92b9f6f133d5c99506",
       "version_major": 2,
       "version_minor": 0
      },
      "text/plain": [
       "Text(value='', description='Enter your domain:', style=DescriptionStyle(description_width='initial'))"
      ]
     },
     "metadata": {},
     "output_type": "display_data"
    },
    {
     "data": {
      "application/vnd.jupyter.widget-view+json": {
       "model_id": "ff1f1780d6f34e8c8042970f233c06a8",
       "version_major": 2,
       "version_minor": 0
      },
      "text/plain": [
       "Button(description='Submit', icon='check', style=ButtonStyle())"
      ]
     },
     "metadata": {},
     "output_type": "display_data"
    },
    {
     "data": {
      "application/vnd.jupyter.widget-view+json": {
       "model_id": "8bfc2a924b014f9e847d50b964cb4bc1",
       "version_major": 2,
       "version_minor": 0
      },
      "text/plain": [
       "Output()"
      ]
     },
     "metadata": {},
     "output_type": "display_data"
    }
   ],
   "source": [
    "# Text box\n",
    "text2 = widgets.Text(\n",
    "    description='Enter your domain:', style={'description_width': 'initial'},\n",
    ")\n",
    "\n",
    "# Submit button\n",
    "button2 = widgets.Button(\n",
    "    description = 'Submit',\n",
    "    disabled = False,\n",
    "    button_style = '',\n",
    "    icon = 'check'\n",
    ")\n",
    "\n",
    "# Output\n",
    "output2 = widgets.Output()\n",
    "\n",
    "display(text2, button2, output2)\n",
    "\n",
    "# Output function\n",
    "def out(b):\n",
    "    with output2:\n",
    "        print(\"The domain you entered is \" + text2.value)\n",
    "#         Jupyter.notebook.execute_cells([Jupyter.notebook.get_cell()+2])\n",
    "\n",
    "# Handle click event\n",
    "button2.on_click(out)"
   ]
  },
  {
   "cell_type": "markdown",
   "metadata": {
    "slideshow": {
     "slide_type": "slide"
    }
   },
   "source": [
    "How do you think cyberinfrastructure is relevant in these domains?"
   ]
  },
  {
   "cell_type": "code",
   "execution_count": 7,
   "metadata": {
    "hide_input": true,
    "slideshow": {
     "slide_type": "fragment"
    },
    "tags": [
     "Init",
     "Hide"
    ]
   },
   "outputs": [
    {
     "data": {
      "application/vnd.jupyter.widget-view+json": {
       "model_id": "972d035ca5d940679dcac42e271326a2",
       "version_major": 2,
       "version_minor": 0
      },
      "text/plain": [
       "Text(value='', description='Geography:', style=DescriptionStyle(description_width='initial'))"
      ]
     },
     "metadata": {},
     "output_type": "display_data"
    },
    {
     "data": {
      "application/vnd.jupyter.widget-view+json": {
       "model_id": "79e719cea40749a2ba7d14a2579ebf77",
       "version_major": 2,
       "version_minor": 0
      },
      "text/plain": [
       "Text(value='', description='Spatial Analysis:', style=DescriptionStyle(description_width='initial'))"
      ]
     },
     "metadata": {},
     "output_type": "display_data"
    },
    {
     "data": {
      "application/vnd.jupyter.widget-view+json": {
       "model_id": "d97f64081d8d41dda4fb6853c7eafbd5",
       "version_major": 2,
       "version_minor": 0
      },
      "text/plain": [
       "Text(value='', description='Computer Science:', style=DescriptionStyle(description_width='initial'))"
      ]
     },
     "metadata": {},
     "output_type": "display_data"
    },
    {
     "data": {
      "application/vnd.jupyter.widget-view+json": {
       "model_id": "17b30955f8dd465a9ef11d22263c4ab4",
       "version_major": 2,
       "version_minor": 0
      },
      "text/plain": [
       "Text(value='', description='Remote Sensing:', style=DescriptionStyle(description_width='initial'))"
      ]
     },
     "metadata": {},
     "output_type": "display_data"
    },
    {
     "data": {
      "application/vnd.jupyter.widget-view+json": {
       "model_id": "14ade0ac593248e6a108f2dc5f0c3d6e",
       "version_major": 2,
       "version_minor": 0
      },
      "text/plain": [
       "Text(value='', description='Your domain:', style=DescriptionStyle(description_width='initial'))"
      ]
     },
     "metadata": {},
     "output_type": "display_data"
    },
    {
     "data": {
      "application/vnd.jupyter.widget-view+json": {
       "model_id": "863216970f474e588360ed7c2100e408",
       "version_major": 2,
       "version_minor": 0
      },
      "text/plain": [
       "Button(description='Submit', icon='check', style=ButtonStyle())"
      ]
     },
     "metadata": {},
     "output_type": "display_data"
    },
    {
     "data": {
      "application/vnd.jupyter.widget-view+json": {
       "model_id": "682c3dee17414691804e844ecc038bcd",
       "version_major": 2,
       "version_minor": 0
      },
      "text/plain": [
       "Output()"
      ]
     },
     "metadata": {},
     "output_type": "display_data"
    }
   ],
   "source": [
    "# Check if there is a value for personal domain\n",
    "#   If not, display \"Your domain\"\n",
    "if text2.value:\n",
    "    domain = text2.value\n",
    "else:\n",
    "    domain = \"Your domain\"\n",
    "\n",
    "# Text boxes\n",
    "text3 = widgets.Text(\n",
    "    description='Geography:', style={'description_width': 'initial'},\n",
    ")\n",
    "text4 = widgets.Text(\n",
    "    description='Spatial Analysis:', style={'description_width': 'initial'},\n",
    ")\n",
    "text5 = widgets.Text(\n",
    "    description='Computer Science:', style={'description_width': 'initial'},\n",
    ")\n",
    "text6 = widgets.Text(\n",
    "    description='Remote Sensing:', style={'description_width': 'initial'},\n",
    ")\n",
    "text7 = widgets.Text(\n",
    "    description=domain + ':', style={'description_width': 'initial'},\n",
    ")\n",
    "\n",
    "# Submit button\n",
    "button3 = widgets.Button(\n",
    "    description = 'Submit',\n",
    "    disabled = False,\n",
    "    button_style = '',\n",
    "    icon = 'check'\n",
    ")\n",
    "\n",
    "# Output\n",
    "output3 = widgets.Output()\n",
    "\n",
    "display(text3, text4, text5, text6, text7, button3, output3)\n",
    "\n",
    "# Output function\n",
    "def out(b):\n",
    "    with output3:\n",
    "        pass # Handle\n",
    "\n",
    "# Handle click event\n",
    "button3.on_click(out)"
   ]
  },
  {
   "cell_type": "markdown",
   "metadata": {
    "slideshow": {
     "slide_type": "slide"
    }
   },
   "source": [
    "How do you think cyberinfrastructure is relevant in these _combined_ domains?"
   ]
  },
  {
   "cell_type": "code",
   "execution_count": 6,
   "metadata": {
    "slideshow": {
     "slide_type": "fragment"
    },
    "tags": [
     "Init",
     "Hide"
    ]
   },
   "outputs": [
    {
     "data": {
      "application/vnd.jupyter.widget-view+json": {
       "model_id": "157534b1b194495496a947cc19a01b50",
       "version_major": 2,
       "version_minor": 0
      },
      "text/plain": [
       "Text(value='', description='Geography and Computer Science:', layout=Layout(width='50%'), style=DescriptionSty…"
      ]
     },
     "metadata": {},
     "output_type": "display_data"
    },
    {
     "data": {
      "application/vnd.jupyter.widget-view+json": {
       "model_id": "82c6dcd3e66f4950906c307e58330caf",
       "version_major": 2,
       "version_minor": 0
      },
      "text/plain": [
       "Text(value='', description='Computer Science and Spatial Analysis:', layout=Layout(width='50%'), style=Descrip…"
      ]
     },
     "metadata": {},
     "output_type": "display_data"
    },
    {
     "data": {
      "application/vnd.jupyter.widget-view+json": {
       "model_id": "097b5ec8970a41dd888844c6137f3c5a",
       "version_major": 2,
       "version_minor": 0
      },
      "text/plain": [
       "Text(value='', description='Remote Sensing and Computer Science:', layout=Layout(width='50%'), style=Descripti…"
      ]
     },
     "metadata": {},
     "output_type": "display_data"
    },
    {
     "data": {
      "application/vnd.jupyter.widget-view+json": {
       "model_id": "8b3bf317a340443c82c730f26bef73ba",
       "version_major": 2,
       "version_minor": 0
      },
      "text/plain": [
       "Text(value='', description='Your domain and Computer Science:', layout=Layout(width='50%'), style=DescriptionS…"
      ]
     },
     "metadata": {},
     "output_type": "display_data"
    },
    {
     "data": {
      "application/vnd.jupyter.widget-view+json": {
       "model_id": "5a94c5a2fcb6417da6d695c9153fe058",
       "version_major": 2,
       "version_minor": 0
      },
      "text/plain": [
       "Text(value='', description='Your domain and Spatial Analysis:', layout=Layout(width='50%'), style=DescriptionS…"
      ]
     },
     "metadata": {},
     "output_type": "display_data"
    },
    {
     "data": {
      "application/vnd.jupyter.widget-view+json": {
       "model_id": "9c2272bc4f7148c5a679fbd8ecffe1a5",
       "version_major": 2,
       "version_minor": 0
      },
      "text/plain": [
       "Button(description='Submit', icon='check', style=ButtonStyle())"
      ]
     },
     "metadata": {},
     "output_type": "display_data"
    },
    {
     "data": {
      "application/vnd.jupyter.widget-view+json": {
       "model_id": "04c68b9550fa44e2bce88269d8412498",
       "version_major": 2,
       "version_minor": 0
      },
      "text/plain": [
       "Output()"
      ]
     },
     "metadata": {},
     "output_type": "display_data"
    }
   ],
   "source": [
    "# Text box\n",
    "text8 = widgets.Text(\n",
    "    description='Geography and Computer Science:', style={'description_width': 'initial'}, layout=Layout(width='50%')\n",
    ")\n",
    "text9 = widgets.Text(\n",
    "    description='Computer Science and Spatial Analysis:', style={'description_width': 'initial'}, layout=Layout(width='50%')\n",
    ")\n",
    "text10 = widgets.Text(\n",
    "    description='Remote Sensing and Computer Science:', style={'description_width': 'initial'}, layout=Layout(width='50%')\n",
    ")\n",
    "text11 = widgets.Text(\n",
    "    description=domain + ' and Computer Science:', style={'description_width': 'initial'}, layout=Layout(width='50%')\n",
    ")\n",
    "text12 = widgets.Text(\n",
    "    description=domain + ' and Spatial Analysis:', style={'description_width': 'initial'}, layout=Layout(width='50%')\n",
    ")\n",
    "\n",
    "# Submit button\n",
    "button4 = widgets.Button(\n",
    "    description = 'Submit',\n",
    "    disabled = False,\n",
    "    button_style = '',\n",
    "    icon = 'check'\n",
    ")\n",
    "\n",
    "# Output\n",
    "output4 = widgets.Output()\n",
    "\n",
    "display(text8, text9, text10, text11, text12, button4, output4)\n",
    "\n",
    "# Output function\n",
    "def out(b):\n",
    "    with output4:\n",
    "        pass # Handle\n",
    "\n",
    "# Handle click event\n",
    "button4.on_click(out)"
   ]
  },
  {
   "cell_type": "code",
   "execution_count": null,
   "metadata": {
    "slideshow": {
     "slide_type": "slide"
    }
   },
   "outputs": [],
   "source": []
  }
 ],
 "metadata": {
  "celltoolbar": "Slideshow",
  "kernelspec": {
   "display_name": "Python 3",
   "language": "python",
   "name": "python3"
  },
  "rise": {
   "autolaunch": true,
   "overlay": "<div class='hciheader'></div><div class='hcifooter'></div>",
   "scroll": true
  },
  "widgets": {
   "application/vnd.jupyter.widget-state+json": {
    "state": {},
    "version_major": 2,
    "version_minor": 0
   }
  }
 },
 "nbformat": 4,
 "nbformat_minor": 2
}
