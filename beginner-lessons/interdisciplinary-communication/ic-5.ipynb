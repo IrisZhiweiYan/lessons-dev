{
 "cells": [
  {
   "cell_type": "markdown",
   "metadata": {
    "slideshow": {
     "slide_type": "slide"
    }
   },
   "source": [
    "## Interdisciplinary Communication\n",
    "### Part 4 of 4\n",
    "# Articles\n",
    "\n",
    "In this section, we’ll explore some short articles about jargon."
   ]
  },
  {
   "cell_type": "markdown",
   "metadata": {
    "slideshow": {
     "slide_type": "slide"
    }
   },
   "source": [
    "\n",
    "## Reminder\n",
    "<a href=\"#/slide-2-0\" class=\"navigate-right\" style=\"background-color:blue;color:white;padding:8px;margin:2px;font-weight:bold;\">Continue with the lesson</a>\n",
    "\n",
    "<font size=\"+1\">\n",
    "\n",
    "By continuing with this lesson you are granting your permission to take part in this research study for the Hour of Cyberinfrastructure: Developing Cyber Literacy for GIScience project. In this study, you will be learning about cyberinfrastructure and related concepts using a web-based platform that will take approximately one hour per lesson. Participation in this study is voluntary.\n",
    "\n",
    "Participants in this research must be 18 years or older. If you are under the age of 18 then please exit this webpage or navigate to another website such as the Hour of Code at https://hourofcode.com, which is designed for K-12 students.\n",
    "\n",
    "If you are not interested in participating please exit the browser or navigate to this website: http://www.umn.edu. Your participation is voluntary and you are free to stop the lesson at any time.\n",
    "\n",
    "For the full description please navigate to this website: <a href=\"gateway-1.ipynb\">Gateway Lesson Research Study Permission</a>.\n",
    "\n",
    "</font>"
   ]
  },
  {
   "cell_type": "code",
   "execution_count": 3,
   "metadata": {
    "hide_input": true,
    "init_cell": true,
    "slideshow": {
     "slide_type": "skip"
    },
    "tags": [
     "Hide"
    ]
   },
   "outputs": [
    {
     "data": {
      "text/html": [
       " \n",
       "    <script type=\"text/javascript\" src=\"../../supplementary/js/custom.js\"></script>\n",
       "    \n",
       "    <style>\n",
       "        .output_prompt{opacity:0;}\n",
       "    </style>\n",
       "    \n",
       "    <input id=\"toggle_code\" type=\"button\" value=\"Toggle raw code\">\n"
      ],
      "text/plain": [
       "<IPython.core.display.HTML object>"
      ]
     },
     "execution_count": 3,
     "metadata": {},
     "output_type": "execute_result"
    }
   ],
   "source": [
    "# This code cell starts the necessary setup for Hour of CI lesson notebooks.\n",
    "# First, it enables users to hide and unhide code by producing a 'Toggle raw code' button below.\n",
    "# Second, it imports the hourofci package, which is necessary for lessons and interactive Jupyter Widgets.\n",
    "# Third, it helps hide/control other aspects of Jupyter Notebooks to improve the user experience\n",
    "# This is an initialization cell\n",
    "# It is not displayed because the Slide Type is 'Skip'\n",
    "\n",
    "from IPython.display import HTML, IFrame, Javascript, display\n",
    "from ipywidgets import interactive\n",
    "import ipywidgets as widgets\n",
    "from ipywidgets import Layout\n",
    "\n",
    "import getpass # This library allows us to get the username (User agent string)\n",
    "\n",
    "# import package for hourofci project\n",
    "import sys\n",
    "sys.path.append('../../supplementary') # relative path (may change depending on the location of the lesson notebook)\n",
    "import hourofci\n",
    "\n",
    "# load javascript to initialize/hide cells, get user agent string, and hide output indicator\n",
    "# hide code by introducing a toggle button \"Toggle raw code\"\n",
    "HTML(''' \n",
    "    <script type=\"text/javascript\" src=\\\"../../supplementary/js/custom.js\\\"></script>\n",
    "    \n",
    "    <style>\n",
    "        .output_prompt{opacity:0;}\n",
    "    </style>\n",
    "    \n",
    "    <input id=\"toggle_code\" type=\"button\" value=\"Toggle raw code\">\n",
    "''')"
   ]
  },
  {
   "cell_type": "markdown",
   "metadata": {
    "slideshow": {
     "slide_type": "slide"
    }
   },
   "source": [
    "Now that you’ve explored and interacted with some examples of interdisciplinary communication, let’s read a few examples from other sources."
   ]
  },
  {
   "cell_type": "markdown",
   "metadata": {
    "slideshow": {
     "slide_type": "fragment"
    }
   },
   "source": [
    "In this first article, you’ll read about potential dangers in using jargon when communicating science:\n",
    "\n",
    "https://www.npr.org/sections/13.7/2017/06/12/532554252/the-dangers-of-hidden-jargon-in-communicating-science"
   ]
  },
  {
   "cell_type": "code",
   "execution_count": 4,
   "metadata": {
    "hide_input": false,
    "scrolled": true,
    "slideshow": {
     "slide_type": "fragment"
    },
    "tags": [
     "Hide",
     "Init",
     "5A"
    ]
   },
   "outputs": [
    {
     "data": {
      "application/vnd.jupyter.widget-view+json": {
       "model_id": "6190734eccb54c26a493ad068ddd0281",
       "version_major": 2,
       "version_minor": 0
      },
      "text/plain": [
       "Button(description='Click here when done reading', icon='check', layout=Layout(height='auto', width='auto'), s…"
      ]
     },
     "metadata": {},
     "output_type": "display_data"
    },
    {
     "data": {
      "application/vnd.jupyter.widget-view+json": {
       "model_id": "ba34a0f8eec549508dd9fe502298b8ec",
       "version_major": 2,
       "version_minor": 0
      },
      "text/plain": [
       "Output()"
      ]
     },
     "metadata": {},
     "output_type": "display_data"
    }
   ],
   "source": [
    "# Output function\n",
    "def out1():\n",
    "    print(\"Well done! Please move to the next slide.\")\n",
    "\n",
    "# Submit button\n",
    "hourofci.SubmitBtn(user_agent, lesson, lesson_level, \"5A\", \"read\", out1,\"Click here when done reading\")"
   ]
  },
  {
   "cell_type": "markdown",
   "metadata": {
    "slideshow": {
     "slide_type": "slide"
    }
   },
   "source": [
    "Considering the article you just read and the activities in this lesson, do you think that using jargon is ‘dangerous’? Respond in a few sentences."
   ]
  },
  {
   "cell_type": "code",
   "execution_count": 19,
   "metadata": {
    "hide_input": true,
    "slideshow": {
     "slide_type": "fragment"
    },
    "tags": [
     "Hide",
     "Init",
     "5B"
    ]
   },
   "outputs": [
    {
     "data": {
      "application/vnd.jupyter.widget-view+json": {
       "model_id": "01dd7cf313614082a394ec68f930cb7d",
       "version_major": 2,
       "version_minor": 0
      },
      "text/plain": [
       "Textarea(value='', placeholder='Type your response here...')"
      ]
     },
     "metadata": {},
     "output_type": "display_data"
    },
    {
     "data": {
      "application/vnd.jupyter.widget-view+json": {
       "model_id": "7c6e06a5fd74443ab4f3f27c539435b5",
       "version_major": 2,
       "version_minor": 0
      },
      "text/plain": [
       "Button(description='Click here to submit your response', icon='check', layout=Layout(height='auto', width='aut…"
      ]
     },
     "metadata": {},
     "output_type": "display_data"
    },
    {
     "data": {
      "application/vnd.jupyter.widget-view+json": {
       "model_id": "9b5458b0a22f4bbbbff05540c40733e7",
       "version_major": 2,
       "version_minor": 0
      },
      "text/plain": [
       "Output()"
      ]
     },
     "metadata": {},
     "output_type": "display_data"
    }
   ],
   "source": [
    "text1 = widgets.Textarea(placeholder='Type your response here...')\n",
    "# Display widget\n",
    "display(text1)\n",
    "\n",
    "# Output function\n",
    "def out2():\n",
    "    # Execute next cell for comparison\n",
    "    display(Javascript(\"Jupyter.notebook.execute_cells([Jupyter.notebook.get_selected_index()+1])\"))\n",
    "        \n",
    "    print(\"What an interesting response! Take a look at what we thought:\\n\")\n",
    "    print(\"\\\"Jargon can be dangerous when it covers up or obscures meaning. If it makes science outcomes or details more confusing, it can be a major problem. Care and attention is necessary to make sure that jargon is used appropriately.\\\"\")\n",
    "        \n",
    "# Submit button\n",
    "hourofci.SubmitBtn(user_agent, lesson, lesson_level, \"5B\", text1, out2, 'Click here to submit your response')"
   ]
  },
  {
   "cell_type": "markdown",
   "metadata": {
    "hide_input": false,
    "slideshow": {
     "slide_type": "slide"
    },
    "variables": {
     "text1.value": "test"
    }
   },
   "source": [
    "On a scale of 1 to 5, with 1 being \"the responses didn't match at all\" and 5 being \"the responses matched really closely\", how well did your response match ours?\n",
    "\n",
    "__Your response:__ {{text1.value}}<br>\n",
    "__Our response:__ \"Jargon can be dangerous when it covers up or obscures meaning. If it makes science outcomes or details more confusing, it can be a major problem. Care and attention is necessary to make sure that jargon is used appropriately.\""
   ]
  },
  {
   "cell_type": "code",
   "execution_count": 16,
   "metadata": {
    "hide_input": true,
    "scrolled": true,
    "slideshow": {
     "slide_type": "fragment"
    },
    "tags": [
     "Hide",
     "Init",
     "5C"
    ]
   },
   "outputs": [
    {
     "data": {
      "application/vnd.jupyter.widget-view+json": {
       "model_id": "5401a3a60575490aa8fe1ed0c69502ae",
       "version_major": 2,
       "version_minor": 0
      },
      "text/plain": [
       "IntSlider(value=3, max=5, min=1)"
      ]
     },
     "metadata": {},
     "output_type": "display_data"
    },
    {
     "data": {
      "application/vnd.jupyter.widget-view+json": {
       "model_id": "341bee6dec134f2fb6aaec9630929c03",
       "version_major": 2,
       "version_minor": 0
      },
      "text/plain": [
       "Button(description='Submit', icon='check', layout=Layout(height='auto', width='auto'), style=ButtonStyle())"
      ]
     },
     "metadata": {},
     "output_type": "display_data"
    },
    {
     "data": {
      "application/vnd.jupyter.widget-view+json": {
       "model_id": "bc579b05208f4b2a84642af9e41cd434",
       "version_major": 2,
       "version_minor": 0
      },
      "text/plain": [
       "Output()"
      ]
     },
     "metadata": {},
     "output_type": "display_data"
    }
   ],
   "source": [
    "slider1 = widgets.IntSlider(\n",
    "    value=3,\n",
    "    min=1,\n",
    "    max=5,\n",
    "    step=1\n",
    ")\n",
    "\n",
    "display(slider1)\n",
    "\n",
    "        \n",
    "# Submit button\n",
    "hourofci.SubmitBtn(user_agent, lesson, lesson_level, \"5C\", slider1)"
   ]
  },
  {
   "cell_type": "markdown",
   "metadata": {
    "slideshow": {
     "slide_type": "slide"
    }
   },
   "source": [
    "The second article takes a different stance on jargon:\n",
    "\n",
    "https://medium.com/@alysonescalante/in-defense-of-jargon-eced58ff316d"
   ]
  },
  {
   "cell_type": "code",
   "execution_count": 7,
   "metadata": {
    "hide_input": true,
    "slideshow": {
     "slide_type": "fragment"
    },
    "tags": [
     "Hide",
     "Init",
     "5D"
    ]
   },
   "outputs": [
    {
     "data": {
      "application/vnd.jupyter.widget-view+json": {
       "model_id": "52288414bc3f475aa884b1b285befba8",
       "version_major": 2,
       "version_minor": 0
      },
      "text/plain": [
       "Button(description='Click here when done reading', icon='check', layout=Layout(height='auto', width='auto'), s…"
      ]
     },
     "metadata": {},
     "output_type": "display_data"
    },
    {
     "data": {
      "application/vnd.jupyter.widget-view+json": {
       "model_id": "c5f9add9143c445a890811c26702cd8b",
       "version_major": 2,
       "version_minor": 0
      },
      "text/plain": [
       "Output()"
      ]
     },
     "metadata": {},
     "output_type": "display_data"
    }
   ],
   "source": [
    "# Output function\n",
    "def out4():\n",
    "    print(\"Well done! Please move to the next slide.\")\n",
    "\n",
    "# Submit button\n",
    "hourofci.SubmitBtn(user_agent, lesson, lesson_level, \"5D\", \"read\", out4,\"Click here when done reading\")"
   ]
  },
  {
   "cell_type": "markdown",
   "metadata": {
    "slideshow": {
     "slide_type": "slide"
    }
   },
   "source": [
    "Considering the article you just read and the activities in this lesson, do you think that using jargon is part of becoming an expert? Respond in a few sentences."
   ]
  },
  {
   "cell_type": "code",
   "execution_count": 17,
   "metadata": {
    "hide_input": true,
    "slideshow": {
     "slide_type": "fragment"
    },
    "tags": [
     "Hide",
     "Init",
     "5E"
    ]
   },
   "outputs": [
    {
     "data": {
      "application/vnd.jupyter.widget-view+json": {
       "model_id": "96810710e9cd48b791512716d253a669",
       "version_major": 2,
       "version_minor": 0
      },
      "text/plain": [
       "Textarea(value='', placeholder='Type your response here...')"
      ]
     },
     "metadata": {},
     "output_type": "display_data"
    },
    {
     "data": {
      "application/vnd.jupyter.widget-view+json": {
       "model_id": "10d38720d7ab46d299b7ca40f6d307d2",
       "version_major": 2,
       "version_minor": 0
      },
      "text/plain": [
       "Button(description='Click here to submit your response', icon='check', layout=Layout(height='auto', width='aut…"
      ]
     },
     "metadata": {},
     "output_type": "display_data"
    },
    {
     "data": {
      "application/vnd.jupyter.widget-view+json": {
       "model_id": "9e0e941653204f6ebfcdffdfa0a70a5e",
       "version_major": 2,
       "version_minor": 0
      },
      "text/plain": [
       "Output()"
      ]
     },
     "metadata": {},
     "output_type": "display_data"
    }
   ],
   "source": [
    "text2 = widgets.Textarea(placeholder='Type your response here...')\n",
    "# Display widget\n",
    "display(text2)\n",
    "\n",
    "# Output function\n",
    "def out5():\n",
    "    # Execute next cell for comparison\n",
    "    display(Javascript(\"Jupyter.notebook.execute_cells([Jupyter.notebook.get_selected_index()+1])\"))\n",
    "    \n",
    "    print(\"What an interesting response! Take a look at what we thought:\\n\")\n",
    "    print(\"\\\"Appropriate, context relevant, and intentional use of jargon can be a major benefit in demonstrating expertise. In addition, it allows for different types of conversations among other experts. It can be a major advantage in enabling advanced communication.\\\"\")\n",
    "\n",
    "# Submit button\n",
    "hourofci.SubmitBtn(user_agent, lesson, lesson_level, \"5E\", text2, out5, 'Click here to submit your response')"
   ]
  },
  {
   "cell_type": "markdown",
   "metadata": {
    "slideshow": {
     "slide_type": "slide"
    }
   },
   "source": [
    "On a scale of 1 to 5, with 1 being \"the responses didn't match at all\" and 5 being \"the responses matched really closely\", how well did your response match ours?\n",
    "\n",
    "__Your response:__ {{text2.value}}<br>\n",
    "__Our response:__ \"Appropriate, context relevant, and intentional use of jargon can be a major benefit in demonstrating expertise. In addition, it allows for different types of conversations among other experts. It can be a major advantage in enabling advanced communication.\""
   ]
  },
  {
   "cell_type": "code",
   "execution_count": 9,
   "metadata": {
    "hide_input": false,
    "slideshow": {
     "slide_type": "fragment"
    },
    "tags": [
     "Hide",
     "Init",
     "5F"
    ]
   },
   "outputs": [
    {
     "data": {
      "application/vnd.jupyter.widget-view+json": {
       "model_id": "d1d6c1dcdff24c1facf923c6b62114c7",
       "version_major": 2,
       "version_minor": 0
      },
      "text/plain": [
       "IntSlider(value=3, max=5, min=1)"
      ]
     },
     "metadata": {},
     "output_type": "display_data"
    },
    {
     "data": {
      "application/vnd.jupyter.widget-view+json": {
       "model_id": "ef5f80b0e9ae4fbfb8d984dccf008a2c",
       "version_major": 2,
       "version_minor": 0
      },
      "text/plain": [
       "Button(description='Submit', icon='check', layout=Layout(height='auto', width='auto'), style=ButtonStyle())"
      ]
     },
     "metadata": {},
     "output_type": "display_data"
    },
    {
     "data": {
      "application/vnd.jupyter.widget-view+json": {
       "model_id": "778f5755d0694beab5802c2a4d0dc9f2",
       "version_major": 2,
       "version_minor": 0
      },
      "text/plain": [
       "Output()"
      ]
     },
     "metadata": {},
     "output_type": "display_data"
    }
   ],
   "source": [
    "slider2 = widgets.IntSlider(\n",
    "    value=3,\n",
    "    min=1,\n",
    "    max=5,\n",
    "    step=1\n",
    ")\n",
    "\n",
    "display(slider2)\n",
    "\n",
    "        \n",
    "# Submit button\n",
    "hourofci.SubmitBtn(user_agent, lesson, lesson_level, \"5F\", slider2)"
   ]
  },
  {
   "cell_type": "markdown",
   "metadata": {
    "slideshow": {
     "slide_type": "slide"
    }
   },
   "source": [
    "The final article reflects on these ideas in the broader scope of interdisciplinary communication:\n",
    "\n",
    "https://ian.umces.edu/blog/2018/05/31/how-to-improve-interdisciplinary-collaborations-lessons-learned-from-scientists-studying-team-science/"
   ]
  },
  {
   "cell_type": "code",
   "execution_count": 10,
   "metadata": {
    "hide_input": true,
    "slideshow": {
     "slide_type": "fragment"
    },
    "tags": [
     "Hide",
     "Init",
     "5G"
    ]
   },
   "outputs": [
    {
     "data": {
      "application/vnd.jupyter.widget-view+json": {
       "model_id": "f266e2f85d0b4017a67d770691ab029b",
       "version_major": 2,
       "version_minor": 0
      },
      "text/plain": [
       "Button(description='Click here when done reading', icon='check', layout=Layout(height='auto', width='auto'), s…"
      ]
     },
     "metadata": {},
     "output_type": "display_data"
    },
    {
     "data": {
      "application/vnd.jupyter.widget-view+json": {
       "model_id": "bbc3272ba613413da764b10074b5da21",
       "version_major": 2,
       "version_minor": 0
      },
      "text/plain": [
       "Output()"
      ]
     },
     "metadata": {},
     "output_type": "display_data"
    }
   ],
   "source": [
    "# Output function\n",
    "def out7():\n",
    "    print(\"Well done! Please move to the next slide.\")\n",
    "\n",
    "# Submit button\n",
    "hourofci.SubmitBtn(user_agent, lesson, lesson_level, \"5G\", \"read\", out7,\"Click here when done reading\")"
   ]
  },
  {
   "cell_type": "markdown",
   "metadata": {
    "slideshow": {
     "slide_type": "slide"
    }
   },
   "source": [
    "Considering the article you just read and the activities in this lesson, do you think that interdisciplinary communication is important for cyberinfrastructure? Respond in a few sentences."
   ]
  },
  {
   "cell_type": "code",
   "execution_count": 18,
   "metadata": {
    "hide_input": false,
    "slideshow": {
     "slide_type": "fragment"
    },
    "tags": [
     "Hide",
     "Init",
     "5H"
    ]
   },
   "outputs": [
    {
     "data": {
      "application/vnd.jupyter.widget-view+json": {
       "model_id": "934daaed5b5c42abb5638b334e70725f",
       "version_major": 2,
       "version_minor": 0
      },
      "text/plain": [
       "Textarea(value='', placeholder='Type your response here...')"
      ]
     },
     "metadata": {},
     "output_type": "display_data"
    },
    {
     "data": {
      "application/vnd.jupyter.widget-view+json": {
       "model_id": "2050bfe7cde94d31bc1c16d98a12ad40",
       "version_major": 2,
       "version_minor": 0
      },
      "text/plain": [
       "Button(description='Click here to submit your response', icon='check', layout=Layout(height='auto', width='aut…"
      ]
     },
     "metadata": {},
     "output_type": "display_data"
    },
    {
     "data": {
      "application/vnd.jupyter.widget-view+json": {
       "model_id": "594d8eb17fd940e3b9b5a5433cd7dc52",
       "version_major": 2,
       "version_minor": 0
      },
      "text/plain": [
       "Output()"
      ]
     },
     "metadata": {},
     "output_type": "display_data"
    }
   ],
   "source": [
    "text3 = widgets.Textarea(placeholder='Type your response here...')\n",
    "# Display widget\n",
    "display(text3)\n",
    "\n",
    "# Output function\n",
    "def out8():\n",
    "    # Execute next cell for comparison\n",
    "    display(Javascript(\"Jupyter.notebook.execute_cells([Jupyter.notebook.get_selected_index()+1])\"))\n",
    "    \n",
    "    print(\"What an interesting response! Take a look at what we thought\\n\")\n",
    "    print(\"\\\"Interdisciplinary communication is vital in cyberinfrastructure. When working with people from different backgrounds and experiences, connecting their expertise and knowledge can create very interesting connections and collaborations.\\\"\")\n",
    "\n",
    "# Submit button\n",
    "hourofci.SubmitBtn(user_agent, lesson, lesson_level, \"5H\", text3, out8, 'Click here to submit your response')"
   ]
  },
  {
   "cell_type": "markdown",
   "metadata": {
    "hide_input": false,
    "slideshow": {
     "slide_type": "slide"
    }
   },
   "source": [
    "On a scale of 1 to 5, with 1 being \"the responses didn't match at all\" and 5 being \"the responses matched really closely\", how well did your response match ours?\n",
    "\n",
    "__Your response:__ {{text3.value}}<br>\n",
    "__Our response:__ \"Interdisciplinary communication is vital in cyberinfrastructure. When working with people from different backgrounds and experiences, connecting their expertise and knowledge can create very interesting connections and collaborations.\""
   ]
  },
  {
   "cell_type": "code",
   "execution_count": 12,
   "metadata": {
    "hide_input": false,
    "slideshow": {
     "slide_type": "fragment"
    },
    "tags": [
     "Hide",
     "Init",
     "5I"
    ]
   },
   "outputs": [
    {
     "data": {
      "application/vnd.jupyter.widget-view+json": {
       "model_id": "c23230784ec24ba1bded3967e9a61023",
       "version_major": 2,
       "version_minor": 0
      },
      "text/plain": [
       "IntSlider(value=3, max=5, min=1)"
      ]
     },
     "metadata": {},
     "output_type": "display_data"
    },
    {
     "data": {
      "application/vnd.jupyter.widget-view+json": {
       "model_id": "8e0d9765f3074a9182743c1ac13e2e2f",
       "version_major": 2,
       "version_minor": 0
      },
      "text/plain": [
       "Button(description='Submit', icon='check', layout=Layout(height='auto', width='auto'), style=ButtonStyle())"
      ]
     },
     "metadata": {},
     "output_type": "display_data"
    },
    {
     "data": {
      "application/vnd.jupyter.widget-view+json": {
       "model_id": "261fb24eee3d468c912f9722bd85dd9f",
       "version_major": 2,
       "version_minor": 0
      },
      "text/plain": [
       "Output()"
      ]
     },
     "metadata": {},
     "output_type": "display_data"
    }
   ],
   "source": [
    "slider3 = widgets.IntSlider(\n",
    "    value=3,\n",
    "    min=1,\n",
    "    max=5,\n",
    "    step=1\n",
    ")\n",
    "\n",
    "display(slider3)\n",
    "\n",
    "        \n",
    "# Submit button\n",
    "hourofci.SubmitBtn(user_agent, lesson, lesson_level, \"5I\", slider3)"
   ]
  },
  {
   "cell_type": "markdown",
   "metadata": {
    "slideshow": {
     "slide_type": "slide"
    }
   },
   "source": [
    "Congratulations, you’ve completed the Hour of Cyberinfrastructure Interdisciplinary Communication lesson!\n",
    "\n",
    "(Certificate link, etc.)"
   ]
  }
 ],
 "metadata": {
  "celltoolbar": "Tags",
  "kernelspec": {
   "display_name": "Python 3",
   "language": "python",
   "name": "python3"
  },
  "rise": {
   "autolaunch": true,
   "overlay": "<div class='hciheader'></div><div class='hcifooter'></div>",
   "scroll": true
  },
  "widgets": {
   "application/vnd.jupyter.widget-state+json": {
    "state": {},
    "version_major": 2,
    "version_minor": 0
   }
  }
 },
 "nbformat": 4,
 "nbformat_minor": 2
}
