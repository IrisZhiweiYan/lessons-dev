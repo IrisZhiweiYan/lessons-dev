{
 "cells": [
  {
   "cell_type": "markdown",
   "metadata": {
    "slideshow": {
     "slide_type": "slide"
    }
   },
   "source": [
    "# Interdisciplinary Communication\n",
    "\n",
    "In this section, we’ll explore some short articles about jargon.\n",
    "\n",
    "*Lesson Developer: Forrest Bowlick fbowlick@umass.edu*"
   ]
  },
  {
   "cell_type": "code",
   "execution_count": 2,
   "metadata": {
    "hide_input": false,
    "init_cell": true,
    "slideshow": {
     "slide_type": "skip"
    },
    "tags": [
     "Hide"
    ]
   },
   "outputs": [
    {
     "data": {
      "text/html": [
       " \n",
       "    <script type=\"text/javascript\" src=\"../../supplementary/js/custom.js\"></script>\n",
       "    \n",
       "    <input id=\"toggle_code\" type=\"button\" value=\"Toggle raw code\">\n"
      ],
      "text/plain": [
       "<IPython.core.display.HTML object>"
      ]
     },
     "execution_count": 2,
     "metadata": {},
     "output_type": "execute_result"
    }
   ],
   "source": [
    "# This code cell starts the necessary setup for Hour of CI lesson notebooks.\n",
    "# First, it enables users to hide and unhide code by producing a 'Toggle raw code' button below.\n",
    "# Second, it imports the hourofci package, which is necessary for lessons and interactive Jupyter Widgets.\n",
    "# Third, it helps hide/control other aspects of Jupyter Notebooks to improve the user experience\n",
    "# This is an initialization cell\n",
    "# It is not displayed because the Slide Type is 'Skip'\n",
    "\n",
    "from IPython.display import HTML, IFrame, Javascript, display\n",
    "from ipywidgets import interactive\n",
    "import ipywidgets as widgets\n",
    "from ipywidgets import Layout\n",
    "\n",
    "import getpass # This library allows us to get the username (User agent string)\n",
    "\n",
    "# import package for hourofci project\n",
    "import sys\n",
    "sys.path.append('../../supplementary') # relative path (may change depending on the location of the lesson notebook)\n",
    "import hourofci\n",
    "\n",
    "# Retreive the user agent string, it will be passed to the hourofci submit button\n",
    "agent_js = \"\"\"\n",
    "IPython.notebook.kernel.execute(\"user_agent = \" + \"'\" + navigator.userAgent + \"'\");\n",
    "\"\"\"\n",
    "Javascript(agent_js)\n",
    "\n",
    "# load javascript to initialize/hide cells, get user agent string, and hide output indicator\n",
    "# hide code by introducing a toggle button \"Toggle raw code\"\n",
    "HTML(''' \n",
    "    <script type=\"text/javascript\" src=\\\"../../supplementary/js/custom.js\\\"></script>\n",
    "    \n",
    "    <input id=\"toggle_code\" type=\"button\" value=\"Toggle raw code\">\n",
    "''')"
   ]
  },
  {
   "cell_type": "markdown",
   "metadata": {
    "slideshow": {
     "slide_type": "slide"
    }
   },
   "source": [
    "Now that you’ve explored and interacted with some examples of interdisciplinary communication, let’s read a few examples from other sources."
   ]
  },
  {
   "cell_type": "markdown",
   "metadata": {
    "slideshow": {
     "slide_type": "fragment"
    }
   },
   "source": [
    "In this first article, you’ll read about potential dangers in using jargon when communicating science:\n",
    "\n",
    "https://www.npr.org/sections/13.7/2017/06/12/532554252/the-dangers-of-hidden-jargon-in-communicating-science"
   ]
  },
  {
   "cell_type": "code",
   "execution_count": 3,
   "metadata": {
    "hide_input": false,
    "slideshow": {
     "slide_type": "fragment"
    },
    "tags": [
     "Hide",
     "Init"
    ]
   },
   "outputs": [
    {
     "data": {
      "application/vnd.jupyter.widget-view+json": {
       "model_id": "84024fbe756142c7b6bdf7685082b67a",
       "version_major": 2,
       "version_minor": 0
      },
      "text/plain": [
       "Button(description='Click here when done reading', icon='check', layout=Layout(width='220px'), style=ButtonSty…"
      ]
     },
     "metadata": {},
     "output_type": "display_data"
    },
    {
     "data": {
      "application/vnd.jupyter.widget-view+json": {
       "model_id": "47a70cd33ba34225851261edbdbce4c1",
       "version_major": 2,
       "version_minor": 0
      },
      "text/plain": [
       "Output()"
      ]
     },
     "metadata": {},
     "output_type": "display_data"
    }
   ],
   "source": [
    "# Submit button\n",
    "button1 = widgets.Button(\n",
    "    description='Click here when done reading',\n",
    "    layout=Layout(width=\"220px\"),\n",
    "    disabled=False,\n",
    "    button_style='',\n",
    "    icon='check'\n",
    ")\n",
    "\n",
    "# Output\n",
    "output1 = widgets.Output()\n",
    "\n",
    "# Display widgets together\n",
    "display(button1, output1)\n",
    "\n",
    "# Output function\n",
    "def out(b):\n",
    "    with output1:\n",
    "        output1.clear_output()\n",
    "        print(\"Well done! Please move to the next slide.\")\n",
    "\n",
    "# Handle click event\n",
    "button1.on_click(out)"
   ]
  },
  {
   "cell_type": "markdown",
   "metadata": {
    "slideshow": {
     "slide_type": "slide"
    }
   },
   "source": [
    "Considering the article you just read and the activities in this lesson, do you think that using jargon is ‘dangerous’? Respond in a few sentences."
   ]
  },
  {
   "cell_type": "code",
   "execution_count": 4,
   "metadata": {
    "slideshow": {
     "slide_type": "fragment"
    },
    "tags": [
     "Hide",
     "Init"
    ]
   },
   "outputs": [
    {
     "data": {
      "application/vnd.jupyter.widget-view+json": {
       "model_id": "ae8c6f3f666a44c98bfa552aa603c928",
       "version_major": 2,
       "version_minor": 0
      },
      "text/plain": [
       "Textarea(value='', placeholder='Type your response here...')"
      ]
     },
     "metadata": {},
     "output_type": "display_data"
    },
    {
     "data": {
      "application/vnd.jupyter.widget-view+json": {
       "model_id": "a6224669d7f14f79aa4ec772b1629144",
       "version_major": 2,
       "version_minor": 0
      },
      "text/plain": [
       "Button(description='Click here to submit your response', icon='check', layout=Layout(width='240px'), style=But…"
      ]
     },
     "metadata": {},
     "output_type": "display_data"
    },
    {
     "data": {
      "application/vnd.jupyter.widget-view+json": {
       "model_id": "36a0f0e8e5ae470eb6e4fec02b1e8d67",
       "version_major": 2,
       "version_minor": 0
      },
      "text/plain": [
       "Output()"
      ]
     },
     "metadata": {},
     "output_type": "display_data"
    }
   ],
   "source": [
    "text1 = widgets.Textarea(placeholder='Type your response here...')\n",
    "\n",
    "# Submit button\n",
    "submit1 = widgets.Button(\n",
    "    description='Click here to submit your response',\n",
    "    layout=Layout(width=\"240px\"),\n",
    "    disabled=False,\n",
    "    button_style='',\n",
    "    icon='check'\n",
    ")\n",
    "\n",
    "# Output\n",
    "textout1 = widgets.Output()\n",
    "\n",
    "# Display widgets together\n",
    "display(text1, submit1, textout1)\n",
    "\n",
    "# Output function\n",
    "def out(b):\n",
    "    with textout1:\n",
    "        # Execute next cell for comparison\n",
    "        display(Javascript(\"Jupyter.notebook.execute_cells([Jupyter.notebook.get_selected_index()+1])\"))\n",
    "        \n",
    "        textout1.clear_output()\n",
    "        print(\"What an interesting response! Take a look at one of our responses:\\n\")\n",
    "        print(\"\\\"Jargon can be dangerous when it covers up or obscures meaning. If it makes science outcomes or details more confusing, it can be a major problem. Care and attention is necessary to make sure that jargon is used appropriately.\\\"\")\n",
    "        \n",
    "# Handle click event\n",
    "submit1.on_click(out)"
   ]
  },
  {
   "cell_type": "markdown",
   "metadata": {
    "hide_input": false,
    "slideshow": {
     "slide_type": "slide"
    },
    "variables": {
     "text1.value": {}
    }
   },
   "source": [
    "On a scale of 1 to 5, with 1 being \"the responses didn't match at all\" and 5 being \"the responses matched really closely\", how well did your response match ours?\n",
    "\n",
    "__Your response:__ {{text1.value}}<br>\n",
    "__Our response:__ \"Jargon can be dangerous when it covers up or obscures meaning. If it makes science outcomes or details more confusing, it can be a major problem. Care and attention is necessary to make sure that jargon is used appropriately.\""
   ]
  },
  {
   "cell_type": "code",
   "execution_count": 5,
   "metadata": {
    "slideshow": {
     "slide_type": "fragment"
    },
    "tags": [
     "Hide",
     "Init"
    ]
   },
   "outputs": [
    {
     "data": {
      "application/vnd.jupyter.widget-view+json": {
       "model_id": "666af2a8230d4e12b37badb77b9f7251",
       "version_major": 2,
       "version_minor": 0
      },
      "text/plain": [
       "IntSlider(value=3, max=5, min=1)"
      ]
     },
     "metadata": {},
     "output_type": "display_data"
    },
    {
     "data": {
      "application/vnd.jupyter.widget-view+json": {
       "model_id": "07c98ddb07f24d648192a813db63e0fd",
       "version_major": 2,
       "version_minor": 0
      },
      "text/plain": [
       "Button(description='Submit', icon='check', layout=Layout(width='100px'), style=ButtonStyle())"
      ]
     },
     "metadata": {},
     "output_type": "display_data"
    },
    {
     "data": {
      "application/vnd.jupyter.widget-view+json": {
       "model_id": "518bdeefdf474d90a885cf1aa4cd71e5",
       "version_major": 2,
       "version_minor": 0
      },
      "text/plain": [
       "Output()"
      ]
     },
     "metadata": {},
     "output_type": "display_data"
    }
   ],
   "source": [
    "slider1 = widgets.IntSlider(\n",
    "    value=3,\n",
    "    min=1,\n",
    "    max=5,\n",
    "    step=1\n",
    ")\n",
    "\n",
    "slidersub1 = widgets.Button(\n",
    "    description='Submit',\n",
    "    layout=Layout(width=\"100px\"),\n",
    "    disabled=False,\n",
    "    button_style='',\n",
    "    icon='check'\n",
    ")\n",
    "\n",
    "sliderout1 = widgets.Output()\n",
    "\n",
    "display(slider1, slidersub1, sliderout1)\n",
    "\n",
    "# Output function\n",
    "def out(b):\n",
    "    with sliderout1:\n",
    "        sliderout1.clear_output()\n",
    "        print(\"Submitted!\")\n",
    "        \n",
    "# Handle click event\n",
    "slidersub1.on_click(out)"
   ]
  },
  {
   "cell_type": "markdown",
   "metadata": {
    "slideshow": {
     "slide_type": "slide"
    }
   },
   "source": [
    "The second article takes a different stance on jargon:\n",
    "\n",
    "https://medium.com/@alysonescalante/in-defense-of-jargon-eced58ff316d"
   ]
  },
  {
   "cell_type": "code",
   "execution_count": 6,
   "metadata": {
    "slideshow": {
     "slide_type": "fragment"
    },
    "tags": [
     "Hide",
     "Init"
    ]
   },
   "outputs": [
    {
     "data": {
      "application/vnd.jupyter.widget-view+json": {
       "model_id": "ffba3f40dc2c469ea045b2e50ba34712",
       "version_major": 2,
       "version_minor": 0
      },
      "text/plain": [
       "Button(description='Click here when done reading', icon='check', layout=Layout(width='220px'), style=ButtonSty…"
      ]
     },
     "metadata": {},
     "output_type": "display_data"
    },
    {
     "data": {
      "application/vnd.jupyter.widget-view+json": {
       "model_id": "3c9e9c53548148a780c9a1a39c8fc177",
       "version_major": 2,
       "version_minor": 0
      },
      "text/plain": [
       "Output()"
      ]
     },
     "metadata": {},
     "output_type": "display_data"
    }
   ],
   "source": [
    "# Submit button\n",
    "button2 = widgets.Button(\n",
    "    description='Click here when done reading',\n",
    "    layout=Layout(width=\"220px\"),\n",
    "    disabled=False,\n",
    "    button_style='',\n",
    "    icon='check'\n",
    ")\n",
    "\n",
    "# Output\n",
    "output2 = widgets.Output()\n",
    "\n",
    "# Display widgets together\n",
    "display(button2, output2)\n",
    "\n",
    "# Output function\n",
    "def out(b):\n",
    "    with output2:\n",
    "        output2.clear_output()\n",
    "        print(\"Well done! Please move to the next slide.\")\n",
    "\n",
    "# Handle click event\n",
    "button2.on_click(out)"
   ]
  },
  {
   "cell_type": "markdown",
   "metadata": {
    "slideshow": {
     "slide_type": "slide"
    }
   },
   "source": [
    "Considering the article you just read and the activities in this lesson, do you think that using jargon is part of becoming an expert? Respond in a few sentences."
   ]
  },
  {
   "cell_type": "code",
   "execution_count": 7,
   "metadata": {
    "slideshow": {
     "slide_type": "fragment"
    },
    "tags": [
     "Hide",
     "Init"
    ]
   },
   "outputs": [
    {
     "data": {
      "application/vnd.jupyter.widget-view+json": {
       "model_id": "6f262296bfba48b4b51d1716d3de15e7",
       "version_major": 2,
       "version_minor": 0
      },
      "text/plain": [
       "Textarea(value='', placeholder='Type your response here...')"
      ]
     },
     "metadata": {},
     "output_type": "display_data"
    },
    {
     "data": {
      "application/vnd.jupyter.widget-view+json": {
       "model_id": "5c7850587f1542ff83e1b022868765a3",
       "version_major": 2,
       "version_minor": 0
      },
      "text/plain": [
       "Button(description='Click here to submit your response', icon='check', layout=Layout(width='240px'), style=But…"
      ]
     },
     "metadata": {},
     "output_type": "display_data"
    },
    {
     "data": {
      "application/vnd.jupyter.widget-view+json": {
       "model_id": "1f46b20312fb441bb848625792212ca3",
       "version_major": 2,
       "version_minor": 0
      },
      "text/plain": [
       "Output()"
      ]
     },
     "metadata": {},
     "output_type": "display_data"
    }
   ],
   "source": [
    "text2 = widgets.Textarea(placeholder='Type your response here...')\n",
    "\n",
    "# Submit button\n",
    "submit2 = widgets.Button(\n",
    "    description='Click here to submit your response',\n",
    "    layout=Layout(width=\"240px\"),\n",
    "    disabled=False,\n",
    "    button_style='',\n",
    "    icon='check'\n",
    ")\n",
    "\n",
    "# Output\n",
    "textout2 = widgets.Output()\n",
    "\n",
    "# Display widgets together\n",
    "display(text2, submit2, textout2)\n",
    "\n",
    "# Output function\n",
    "def out(b):\n",
    "    with textout2:\n",
    "        # Execute next cell for comparison\n",
    "        display(Javascript(\"Jupyter.notebook.execute_cells([Jupyter.notebook.get_selected_index()+1])\"))\n",
    "        \n",
    "        textout2.clear_output()\n",
    "        print(\"What an interesting response! Take a look at one of our responses:\\n\")\n",
    "        print(\"\\\"Appropriate, context relevant, and intentional use of jargon can be a major benefit in demonstrating expertise. In addition, it allows for different types of conversations among other experts. It can be a major advantage in enabling advanced communication.\\\"\")\n",
    "\n",
    "# Handle click event\n",
    "submit2.on_click(out)"
   ]
  },
  {
   "cell_type": "markdown",
   "metadata": {
    "slideshow": {
     "slide_type": "slide"
    },
    "variables": {
     "text2.value": {}
    }
   },
   "source": [
    "On a scale of 1 to 5, with 1 being \"the responses didn't match at all\" and 5 being \"the responses matched really closely\", how well did your response match ours?\n",
    "\n",
    "__Your response:__ {{text2.value}}<br>\n",
    "__Our response:__ \"Appropriate, context relevant, and intentional use of jargon can be a major benefit in demonstrating expertise. In addition, it allows for different types of conversations among other experts. It can be a major advantage in enabling advanced communication.\""
   ]
  },
  {
   "cell_type": "code",
   "execution_count": 8,
   "metadata": {
    "slideshow": {
     "slide_type": "fragment"
    },
    "tags": [
     "Hide",
     "Init"
    ]
   },
   "outputs": [
    {
     "data": {
      "application/vnd.jupyter.widget-view+json": {
       "model_id": "3d8b9ccfbbed46fab6e830aace22ed8c",
       "version_major": 2,
       "version_minor": 0
      },
      "text/plain": [
       "IntSlider(value=3, max=5, min=1)"
      ]
     },
     "metadata": {},
     "output_type": "display_data"
    },
    {
     "data": {
      "application/vnd.jupyter.widget-view+json": {
       "model_id": "45bb67dd6a874370aaff9c7e81cea2b7",
       "version_major": 2,
       "version_minor": 0
      },
      "text/plain": [
       "Button(description='Submit', icon='check', layout=Layout(width='100px'), style=ButtonStyle())"
      ]
     },
     "metadata": {},
     "output_type": "display_data"
    },
    {
     "data": {
      "application/vnd.jupyter.widget-view+json": {
       "model_id": "54c310db81604be7b071fb5acd14be94",
       "version_major": 2,
       "version_minor": 0
      },
      "text/plain": [
       "Output()"
      ]
     },
     "metadata": {},
     "output_type": "display_data"
    }
   ],
   "source": [
    "slider2 = widgets.IntSlider(\n",
    "    value=3,\n",
    "    min=1,\n",
    "    max=5,\n",
    "    step=1\n",
    ")\n",
    "\n",
    "slidersub2 = widgets.Button(\n",
    "    description='Submit',\n",
    "    layout=Layout(width=\"100px\"),\n",
    "    disabled=False,\n",
    "    button_style='',\n",
    "    icon='check'\n",
    ")\n",
    "\n",
    "sliderout2 = widgets.Output()\n",
    "\n",
    "display(slider2, slidersub2, sliderout2)\n",
    "\n",
    "# Output function\n",
    "def out(b):\n",
    "    with sliderout2:\n",
    "        sliderout2.clear_output()\n",
    "        print(\"Submitted!\")\n",
    "        \n",
    "# Handle click event\n",
    "slidersub2.on_click(out)"
   ]
  },
  {
   "cell_type": "markdown",
   "metadata": {
    "slideshow": {
     "slide_type": "slide"
    }
   },
   "source": [
    "The final article reflections on these ideas in the broader scope of interdisciplinary communication:\n",
    "\n",
    "https://ian.umces.edu/blog/2018/05/31/how-to-improve-interdisciplinary-collaborations-lessons-learned-from-scientists-studying-team-science/"
   ]
  },
  {
   "cell_type": "code",
   "execution_count": 9,
   "metadata": {
    "slideshow": {
     "slide_type": "fragment"
    },
    "tags": [
     "Hide",
     "Init"
    ]
   },
   "outputs": [
    {
     "data": {
      "application/vnd.jupyter.widget-view+json": {
       "model_id": "73a6cdb743b14152b71f2faab3b3c3a3",
       "version_major": 2,
       "version_minor": 0
      },
      "text/plain": [
       "Button(description='Click here when done reading', icon='check', layout=Layout(width='220px'), style=ButtonSty…"
      ]
     },
     "metadata": {},
     "output_type": "display_data"
    },
    {
     "data": {
      "application/vnd.jupyter.widget-view+json": {
       "model_id": "d7bcad4405ca4e5c98891cee2e954388",
       "version_major": 2,
       "version_minor": 0
      },
      "text/plain": [
       "Output()"
      ]
     },
     "metadata": {},
     "output_type": "display_data"
    }
   ],
   "source": [
    "# Submit button\n",
    "button3 = widgets.Button(\n",
    "    description='Click here when done reading',\n",
    "    layout=Layout(width=\"220px\"),\n",
    "    disabled=False,\n",
    "    button_style='',\n",
    "    icon='check'\n",
    ")\n",
    "\n",
    "# Output\n",
    "output3 = widgets.Output()\n",
    "\n",
    "# Display widgets together\n",
    "display(button3, output3)\n",
    "\n",
    "# Output function\n",
    "def out(b):\n",
    "    with output3:\n",
    "        output3.clear_output()\n",
    "        print(\"Well done! Please move to the next slide.\")\n",
    "\n",
    "# Handle click event\n",
    "button3.on_click(out)"
   ]
  },
  {
   "cell_type": "markdown",
   "metadata": {
    "slideshow": {
     "slide_type": "slide"
    }
   },
   "source": [
    "Considering the article you just read and the activities in this lesson, do you think that interdisciplinary communication is important for cyberinfrastructure? Respond in a few sentences."
   ]
  },
  {
   "cell_type": "code",
   "execution_count": 10,
   "metadata": {
    "slideshow": {
     "slide_type": "fragment"
    },
    "tags": [
     "Hide",
     "Init"
    ]
   },
   "outputs": [
    {
     "data": {
      "application/vnd.jupyter.widget-view+json": {
       "model_id": "82d55c70b4e2458aa1169c3be5c2c56c",
       "version_major": 2,
       "version_minor": 0
      },
      "text/plain": [
       "Textarea(value='', placeholder='Type your response here...')"
      ]
     },
     "metadata": {},
     "output_type": "display_data"
    },
    {
     "data": {
      "application/vnd.jupyter.widget-view+json": {
       "model_id": "fb4b3ece8ddf4e1582db1aa76150245b",
       "version_major": 2,
       "version_minor": 0
      },
      "text/plain": [
       "Button(description='Click here to submit your response', icon='check', layout=Layout(width='240px'), style=But…"
      ]
     },
     "metadata": {},
     "output_type": "display_data"
    },
    {
     "data": {
      "application/vnd.jupyter.widget-view+json": {
       "model_id": "65c6bf572ef1496ab41e27ce71cec147",
       "version_major": 2,
       "version_minor": 0
      },
      "text/plain": [
       "Output()"
      ]
     },
     "metadata": {},
     "output_type": "display_data"
    }
   ],
   "source": [
    "text3 = widgets.Textarea(placeholder='Type your response here...')\n",
    "\n",
    "# Submit button\n",
    "submit3 = widgets.Button(\n",
    "    description='Click here to submit your response',\n",
    "    layout=Layout(width=\"240px\"),\n",
    "    disabled=False,\n",
    "    button_style='',\n",
    "    icon='check'\n",
    ")\n",
    "\n",
    "# Output\n",
    "textout3 = widgets.Output()\n",
    "\n",
    "# Display widgets together\n",
    "display(text3, submit3, textout3)\n",
    "\n",
    "# Output function\n",
    "def out(b):\n",
    "    with textout3:\n",
    "        # Execute next cell for comparison\n",
    "        display(Javascript(\"Jupyter.notebook.execute_cells([Jupyter.notebook.get_selected_index()+1])\"))\n",
    "        \n",
    "        textout3.clear_output()\n",
    "        print(\"What an interesting response! Take a look at one of our responses:\\n\")\n",
    "        print(\"\\\"Interdisciplinary communication is vital in cyberinfrastructure. When working with people from different backgrounds and experiences, connecting their expertise and knowledge can create very interesting connections and collaborations.\\\"\")\n",
    "\n",
    "# Handle click event\n",
    "submit3.on_click(out)"
   ]
  },
  {
   "cell_type": "markdown",
   "metadata": {
    "slideshow": {
     "slide_type": "slide"
    },
    "variables": {
     "text3.value": {}
    }
   },
   "source": [
    "On a scale of 1 to 5, with 1 being \"the responses didn't match at all\" and 5 being \"the responses matched really closely\", how well did your response match ours?\n",
    "\n",
    "__Your response:__ {{text3.value}}<br>\n",
    "__Our response:__ \"Interdisciplinary communication is vital in cyberinfrastructure. When working with people from different backgrounds and experiences, connecting their expertise and knowledge can create very interesting connections and collaborations.\""
   ]
  },
  {
   "cell_type": "code",
   "execution_count": 11,
   "metadata": {
    "slideshow": {
     "slide_type": "fragment"
    },
    "tags": [
     "Hide",
     "Init"
    ]
   },
   "outputs": [
    {
     "data": {
      "application/vnd.jupyter.widget-view+json": {
       "model_id": "d1a58d20f14f495fbc6d58314834000f",
       "version_major": 2,
       "version_minor": 0
      },
      "text/plain": [
       "IntSlider(value=3, max=5, min=1)"
      ]
     },
     "metadata": {},
     "output_type": "display_data"
    },
    {
     "data": {
      "application/vnd.jupyter.widget-view+json": {
       "model_id": "2f7f17c0ea4542eca0d2eb8381b10e4c",
       "version_major": 2,
       "version_minor": 0
      },
      "text/plain": [
       "Button(description='Submit', icon='check', layout=Layout(width='100px'), style=ButtonStyle())"
      ]
     },
     "metadata": {},
     "output_type": "display_data"
    },
    {
     "data": {
      "application/vnd.jupyter.widget-view+json": {
       "model_id": "b30fb8c32ddc4a02bc82958300e82ea1",
       "version_major": 2,
       "version_minor": 0
      },
      "text/plain": [
       "Output()"
      ]
     },
     "metadata": {},
     "output_type": "display_data"
    }
   ],
   "source": [
    "slider3 = widgets.IntSlider(\n",
    "    value=3,\n",
    "    min=1,\n",
    "    max=5,\n",
    "    step=1\n",
    ")\n",
    "\n",
    "slidersub3 = widgets.Button(\n",
    "    description='Submit',\n",
    "    layout=Layout(width=\"100px\"),\n",
    "    disabled=False,\n",
    "    button_style='',\n",
    "    icon='check'\n",
    ")\n",
    "\n",
    "sliderout3 = widgets.Output()\n",
    "\n",
    "display(slider3, slidersub3, sliderout3)\n",
    "\n",
    "# Output function\n",
    "def out(b):\n",
    "    with sliderout3:\n",
    "        sliderout3.clear_output()\n",
    "        print(\"Submitted!\")\n",
    "        \n",
    "# Handle click event\n",
    "slidersub3.on_click(out)"
   ]
  },
  {
   "cell_type": "markdown",
   "metadata": {
    "slideshow": {
     "slide_type": "slide"
    }
   },
   "source": [
    "Congratulations, you’ve completed the Hour of Cyberinfrastructure Interdisciplinary Communication lesson!\n",
    "\n",
    "(Certificate link, etc.)"
   ]
  }
 ],
 "metadata": {
  "celltoolbar": "Initialization Cell",
  "kernelspec": {
   "display_name": "Python 3",
   "language": "python",
   "name": "python3"
  },
  "language_info": {
   "codemirror_mode": {
    "name": "ipython",
    "version": 3
   },
   "file_extension": ".py",
   "mimetype": "text/x-python",
   "name": "python",
   "nbconvert_exporter": "python",
   "pygments_lexer": "ipython3",
   "version": "3.7.7"
  },
  "rise": {
   "autolaunch": true,
   "overlay": "<div class='hciheader'></div><div class='hcifooter'></div>",
   "scroll": true
  },
  "widgets": {
   "application/vnd.jupyter.widget-state+json": {
    "state": {},
    "version_major": 2,
    "version_minor": 0
   }
  }
 },
 "nbformat": 4,
 "nbformat_minor": 2
}
