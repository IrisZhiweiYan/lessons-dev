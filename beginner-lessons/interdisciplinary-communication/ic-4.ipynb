{
 "cells": [
  {
   "cell_type": "markdown",
   "metadata": {
    "slideshow": {
     "slide_type": "slide"
    }
   },
   "source": [
    "# Interdisciplinary Communication\n",
    "\n",
    "In this section, we’ll explore some short articles about jargon.\n",
    "\n",
    "*Lesson Developer: Forrest Bowlick fbowlick@umass.edu*"
   ]
  },
  {
   "cell_type": "code",
   "execution_count": 2,
   "metadata": {
    "hide_input": true,
    "init_cell": true,
    "slideshow": {
     "slide_type": "skip"
    },
    "tags": [
     "Hide"
    ]
   },
   "outputs": [
    {
     "data": {
      "text/html": [
       " \n",
       "    <script type=\"text/javascript\" src=\"../../supplementary/js/custom.js\"></script>\n",
       "    \n",
       "    <input id=\"toggle_code\" type=\"button\" value=\"Toggle raw code\">\n"
      ],
      "text/plain": [
       "<IPython.core.display.HTML object>"
      ]
     },
     "execution_count": 2,
     "metadata": {},
     "output_type": "execute_result"
    }
   ],
   "source": [
    "# This code cell starts the necessary setup for Hour of CI lesson notebooks.\n",
    "# First, it enables users to hide and unhide code by producing a 'Toggle raw code' button below.\n",
    "# Second, it imports the hourofci package, which is necessary for lessons and interactive Jupyter Widgets.\n",
    "# Third, it helps hide/control other aspects of Jupyter Notebooks to improve the user experience\n",
    "# This is an initialization cell\n",
    "# It is not displayed because the Slide Type is 'Skip'\n",
    "\n",
    "from IPython.display import HTML, IFrame, Javascript, display\n",
    "from ipywidgets import interactive\n",
    "import ipywidgets as widgets\n",
    "from ipywidgets import Layout\n",
    "\n",
    "import getpass # This library allows us to get the username (User agent string)\n",
    "\n",
    "# import package for hourofci project\n",
    "import sys\n",
    "sys.path.append('../../supplementary') # relative path (may change depending on the location of the lesson notebook)\n",
    "import hourofci\n",
    "\n",
    "# Retreive the user agent string, it will be passed to the hourofci submit button\n",
    "agent_js = \"\"\"\n",
    "IPython.notebook.kernel.execute(\"user_agent = \" + \"'\" + navigator.userAgent + \"'\");\n",
    "\"\"\"\n",
    "Javascript(agent_js)\n",
    "\n",
    "# load javascript to initialize/hide cells, get user agent string, and hide output indicator\n",
    "# hide code by introducing a toggle button \"Toggle raw code\"\n",
    "HTML(''' \n",
    "    <script type=\"text/javascript\" src=\\\"../../supplementary/js/custom.js\\\"></script>\n",
    "    \n",
    "    <input id=\"toggle_code\" type=\"button\" value=\"Toggle raw code\">\n",
    "''')"
   ]
  },
  {
   "cell_type": "markdown",
   "metadata": {
    "slideshow": {
     "slide_type": "slide"
    }
   },
   "source": [
    "Now that you’ve explored and interacted with some examples of interdisciplinary communication, let’s read a few examples from other sources."
   ]
  },
  {
   "cell_type": "markdown",
   "metadata": {
    "slideshow": {
     "slide_type": "fragment"
    }
   },
   "source": [
    "In this first article, you’ll read about potential dangers in using jargon when communicating science:\n",
    "\n",
    "https://www.npr.org/sections/13.7/2017/06/12/532554252/the-dangers-of-hidden-jargon-in-communicating-science"
   ]
  },
  {
   "cell_type": "code",
   "execution_count": 3,
   "metadata": {
    "hide_input": true,
    "scrolled": true,
    "slideshow": {
     "slide_type": "fragment"
    },
    "tags": [
     "Hide",
     "Init"
    ]
   },
   "outputs": [
    {
     "data": {
      "application/vnd.jupyter.widget-view+json": {
       "model_id": "659233b2b500419e9d8b84de48d2f656",
       "version_major": 2,
       "version_minor": 0
      },
      "text/plain": [
       "Button(description='Click here when done reading', icon='check', layout=Layout(height='auto', width='auto'), s…"
      ]
     },
     "metadata": {},
     "output_type": "display_data"
    },
    {
     "data": {
      "application/vnd.jupyter.widget-view+json": {
       "model_id": "14b61d9d4d6f4497b94a8d426ccedbd2",
       "version_major": 2,
       "version_minor": 0
      },
      "text/plain": [
       "Output()"
      ]
     },
     "metadata": {},
     "output_type": "display_data"
    }
   ],
   "source": [
    "# Output function\n",
    "def out1():\n",
    "    print(\"Well done! Please move to the next slide.\")\n",
    "\n",
    "# Submit button\n",
    "hourofci.SubmitBtn(user_agent, lesson, lesson_level, \"Q15\", \"Read\", out1,\"Click here when done reading\")"
   ]
  },
  {
   "cell_type": "markdown",
   "metadata": {
    "slideshow": {
     "slide_type": "slide"
    }
   },
   "source": [
    "Considering the article you just read and the activities in this lesson, do you think that using jargon is ‘dangerous’? Respond in a few sentences."
   ]
  },
  {
   "cell_type": "code",
   "execution_count": 4,
   "metadata": {
    "hide_input": true,
    "slideshow": {
     "slide_type": "fragment"
    },
    "tags": [
     "Hide",
     "Init"
    ]
   },
   "outputs": [
    {
     "data": {
      "application/vnd.jupyter.widget-view+json": {
       "model_id": "de3e6e22c384468f8f4ed57a52c45b4c",
       "version_major": 2,
       "version_minor": 0
      },
      "text/plain": [
       "Textarea(value='', placeholder='Type your response here...')"
      ]
     },
     "metadata": {},
     "output_type": "display_data"
    },
    {
     "data": {
      "application/vnd.jupyter.widget-view+json": {
       "model_id": "ae96bcab23c349068eca051bdf7843fd",
       "version_major": 2,
       "version_minor": 0
      },
      "text/plain": [
       "Button(description='Click here to submit your response', icon='check', layout=Layout(height='auto', width='aut…"
      ]
     },
     "metadata": {},
     "output_type": "display_data"
    },
    {
     "data": {
      "application/vnd.jupyter.widget-view+json": {
       "model_id": "60055c69fce5473188bcdf40a872c9d3",
       "version_major": 2,
       "version_minor": 0
      },
      "text/plain": [
       "Output()"
      ]
     },
     "metadata": {},
     "output_type": "display_data"
    }
   ],
   "source": [
    "text1 = widgets.Textarea(placeholder='Type your response here...')\n",
    "# Display widget\n",
    "display(text1)\n",
    "\n",
    "# Output function\n",
    "def out2():\n",
    "    # Execute next cell for comparison\n",
    "    display(Javascript(\"Jupyter.notebook.execute_cells([Jupyter.notebook.get_selected_index()+1])\"))\n",
    "        \n",
    "    print(\"What an interesting response! Take a look at one of our responses:\\n\")\n",
    "    print(\"\\\"Jargon can be dangerous when it covers up or obscures meaning. If it makes science outcomes or details more confusing, it can be a major problem. Care and attention is necessary to make sure that jargon is used appropriately.\\\"\")\n",
    "        \n",
    "# Submit button\n",
    "hourofci.SubmitBtn(user_agent, lesson, lesson_level, \"Q16\", text1, out2, 'Click here to submit your response')"
   ]
  },
  {
   "cell_type": "markdown",
   "metadata": {
    "hide_input": false,
    "slideshow": {
     "slide_type": "slide"
    },
    "variables": {
     "text1.value": "dsadf"
    }
   },
   "source": [
    "On a scale of 1 to 5, with 1 being \"the responses didn't match at all\" and 5 being \"the responses matched really closely\", how well did your response match ours?\n",
    "\n",
    "__Your response:__ {{text1.value}}<br>\n",
    "__Our response:__ \"Jargon can be dangerous when it covers up or obscures meaning. If it makes science outcomes or details more confusing, it can be a major problem. Care and attention is necessary to make sure that jargon is used appropriately.\""
   ]
  },
  {
   "cell_type": "code",
   "execution_count": 12,
   "metadata": {
    "hide_input": false,
    "slideshow": {
     "slide_type": "fragment"
    },
    "tags": [
     "Hide",
     "Init"
    ]
   },
   "outputs": [
    {
     "data": {
      "application/vnd.jupyter.widget-view+json": {
       "model_id": "3509c21cf46d49928b6d16bfd91e8cab",
       "version_major": 2,
       "version_minor": 0
      },
      "text/plain": [
       "IntSlider(value=3, max=5, min=1)"
      ]
     },
     "metadata": {},
     "output_type": "display_data"
    },
    {
     "data": {
      "application/vnd.jupyter.widget-view+json": {
       "model_id": "e83710bd72954af4830ea1fb23fd4373",
       "version_major": 2,
       "version_minor": 0
      },
      "text/plain": [
       "Button(description='Submit', icon='check', layout=Layout(height='auto', width='auto'), style=ButtonStyle())"
      ]
     },
     "metadata": {},
     "output_type": "display_data"
    },
    {
     "data": {
      "application/vnd.jupyter.widget-view+json": {
       "model_id": "59f98b47ff2d4b5c9428c32f53c997aa",
       "version_major": 2,
       "version_minor": 0
      },
      "text/plain": [
       "Output()"
      ]
     },
     "metadata": {},
     "output_type": "display_data"
    }
   ],
   "source": [
    "slider1 = widgets.IntSlider(\n",
    "    value=3,\n",
    "    min=1,\n",
    "    max=5,\n",
    "    step=1\n",
    ")\n",
    "\n",
    "display(slider1)\n",
    "\n",
    "def out3():\n",
    "    print(\"Submitted!\")\n",
    "        \n",
    "# Submit button\n",
    "hourofci.SubmitBtn(user_agent, lesson, lesson_level, \"Q17\", slider1,out3)"
   ]
  },
  {
   "cell_type": "markdown",
   "metadata": {
    "slideshow": {
     "slide_type": "slide"
    }
   },
   "source": [
    "The second article takes a different stance on jargon:\n",
    "\n",
    "https://medium.com/@alysonescalante/in-defense-of-jargon-eced58ff316d"
   ]
  },
  {
   "cell_type": "code",
   "execution_count": 6,
   "metadata": {
    "hide_input": false,
    "slideshow": {
     "slide_type": "fragment"
    },
    "tags": [
     "Hide",
     "Init"
    ]
   },
   "outputs": [
    {
     "data": {
      "application/vnd.jupyter.widget-view+json": {
       "model_id": "8cb1de75603749378c07fcd6ee00b1b8",
       "version_major": 2,
       "version_minor": 0
      },
      "text/plain": [
       "Button(description='Click here when done reading', icon='check', layout=Layout(height='auto', width='auto'), s…"
      ]
     },
     "metadata": {},
     "output_type": "display_data"
    },
    {
     "data": {
      "application/vnd.jupyter.widget-view+json": {
       "model_id": "28c5376d59b248f3ada7fc66813b8b15",
       "version_major": 2,
       "version_minor": 0
      },
      "text/plain": [
       "Output()"
      ]
     },
     "metadata": {},
     "output_type": "display_data"
    }
   ],
   "source": [
    "# Output function\n",
    "def out4():\n",
    "    print(\"Well done! Please move to the next slide.\")\n",
    "\n",
    "# Submit button\n",
    "hourofci.SubmitBtn(user_agent, lesson, lesson_level, \"Q18\", \"Read\", out4,\"Click here when done reading\")"
   ]
  },
  {
   "cell_type": "markdown",
   "metadata": {
    "slideshow": {
     "slide_type": "slide"
    }
   },
   "source": [
    "Considering the article you just read and the activities in this lesson, do you think that using jargon is part of becoming an expert? Respond in a few sentences."
   ]
  },
  {
   "cell_type": "code",
   "execution_count": 7,
   "metadata": {
    "hide_input": true,
    "slideshow": {
     "slide_type": "fragment"
    },
    "tags": [
     "Hide",
     "Init"
    ]
   },
   "outputs": [
    {
     "data": {
      "application/vnd.jupyter.widget-view+json": {
       "model_id": "69f81870fad449bba3b0c3bb28c2397f",
       "version_major": 2,
       "version_minor": 0
      },
      "text/plain": [
       "Textarea(value='', placeholder='Type your response here...')"
      ]
     },
     "metadata": {},
     "output_type": "display_data"
    },
    {
     "data": {
      "application/vnd.jupyter.widget-view+json": {
       "model_id": "6b068e92f7a04d289e0b307bfe91e55d",
       "version_major": 2,
       "version_minor": 0
      },
      "text/plain": [
       "Button(description='Click here to submit your response', icon='check', layout=Layout(height='auto', width='aut…"
      ]
     },
     "metadata": {},
     "output_type": "display_data"
    },
    {
     "data": {
      "application/vnd.jupyter.widget-view+json": {
       "model_id": "cb7d04b17a534315abe4e4f59a120a21",
       "version_major": 2,
       "version_minor": 0
      },
      "text/plain": [
       "Output()"
      ]
     },
     "metadata": {},
     "output_type": "display_data"
    }
   ],
   "source": [
    "text2 = widgets.Textarea(placeholder='Type your response here...')\n",
    "# Display widget\n",
    "display(text2)\n",
    "\n",
    "# Output function\n",
    "def out5():\n",
    "    # Execute next cell for comparison\n",
    "    display(Javascript(\"Jupyter.notebook.execute_cells([Jupyter.notebook.get_selected_index()+1])\"))\n",
    "    \n",
    "    print(\"What an interesting response! Take a look at one of our responses:\\n\")\n",
    "    print(\"\\\"Appropriate, context relevant, and intentional use of jargon can be a major benefit in demonstrating expertise. In addition, it allows for different types of conversations among other experts. It can be a major advantage in enabling advanced communication.\\\"\")\n",
    "\n",
    "# Submit button\n",
    "hourofci.SubmitBtn(user_agent, lesson, lesson_level, \"Q19\", text2, out5, 'Click here to submit your response')"
   ]
  },
  {
   "cell_type": "markdown",
   "metadata": {
    "slideshow": {
     "slide_type": "slide"
    },
    "variables": {
     "text2.value": "<p><strong>NameError</strong>: name &#39;text2&#39; is not defined</p>\n"
    }
   },
   "source": [
    "On a scale of 1 to 5, with 1 being \"the responses didn't match at all\" and 5 being \"the responses matched really closely\", how well did your response match ours?\n",
    "\n",
    "__Your response:__ {{text2.value}}<br>\n",
    "__Our response:__ \"Appropriate, context relevant, and intentional use of jargon can be a major benefit in demonstrating expertise. In addition, it allows for different types of conversations among other experts. It can be a major advantage in enabling advanced communication.\""
   ]
  },
  {
   "cell_type": "code",
   "execution_count": 8,
   "metadata": {
    "hide_input": false,
    "slideshow": {
     "slide_type": "fragment"
    },
    "tags": [
     "Hide",
     "Init"
    ]
   },
   "outputs": [
    {
     "data": {
      "application/vnd.jupyter.widget-view+json": {
       "model_id": "10f62e43812c4cf2a6b9c35acd80a41f",
       "version_major": 2,
       "version_minor": 0
      },
      "text/plain": [
       "IntSlider(value=3, max=5, min=1)"
      ]
     },
     "metadata": {},
     "output_type": "display_data"
    },
    {
     "data": {
      "application/vnd.jupyter.widget-view+json": {
       "model_id": "3b0de7c94b2a4a328b482c39ed71ce94",
       "version_major": 2,
       "version_minor": 0
      },
      "text/plain": [
       "Button(description='Submit', icon='check', layout=Layout(height='auto', width='auto'), style=ButtonStyle())"
      ]
     },
     "metadata": {},
     "output_type": "display_data"
    },
    {
     "data": {
      "application/vnd.jupyter.widget-view+json": {
       "model_id": "c22516c0010f4ab489e46a0c06a3436f",
       "version_major": 2,
       "version_minor": 0
      },
      "text/plain": [
       "Output()"
      ]
     },
     "metadata": {},
     "output_type": "display_data"
    }
   ],
   "source": [
    "slider2 = widgets.IntSlider(\n",
    "    value=3,\n",
    "    min=1,\n",
    "    max=5,\n",
    "    step=1\n",
    ")\n",
    "\n",
    "display(slider2)\n",
    "\n",
    "def out6():\n",
    "    print(\"Submitted!\")\n",
    "        \n",
    "# Submit button\n",
    "hourofci.SubmitBtn(user_agent, lesson, lesson_level, \"Q20\", slider2,out6)"
   ]
  },
  {
   "cell_type": "markdown",
   "metadata": {
    "slideshow": {
     "slide_type": "slide"
    }
   },
   "source": [
    "The final article reflections on these ideas in the broader scope of interdisciplinary communication:\n",
    "\n",
    "https://ian.umces.edu/blog/2018/05/31/how-to-improve-interdisciplinary-collaborations-lessons-learned-from-scientists-studying-team-science/"
   ]
  },
  {
   "cell_type": "code",
   "execution_count": 9,
   "metadata": {
    "hide_input": true,
    "slideshow": {
     "slide_type": "fragment"
    },
    "tags": [
     "Hide",
     "Init"
    ]
   },
   "outputs": [
    {
     "data": {
      "application/vnd.jupyter.widget-view+json": {
       "model_id": "0b026c53f5514184baf3b61e6abe0122",
       "version_major": 2,
       "version_minor": 0
      },
      "text/plain": [
       "Button(description='Click here when done reading', icon='check', layout=Layout(height='auto', width='auto'), s…"
      ]
     },
     "metadata": {},
     "output_type": "display_data"
    },
    {
     "data": {
      "application/vnd.jupyter.widget-view+json": {
       "model_id": "e58b749f7f8c44b5b164447a657625ed",
       "version_major": 2,
       "version_minor": 0
      },
      "text/plain": [
       "Output()"
      ]
     },
     "metadata": {},
     "output_type": "display_data"
    }
   ],
   "source": [
    "# Output function\n",
    "def out7():\n",
    "    print(\"Well done! Please move to the next slide.\")\n",
    "\n",
    "# Submit button\n",
    "hourofci.SubmitBtn(user_agent, lesson, lesson_level, \"Q21\", \"Read\", out7,\"Click here when done reading\")"
   ]
  },
  {
   "cell_type": "markdown",
   "metadata": {
    "slideshow": {
     "slide_type": "slide"
    }
   },
   "source": [
    "Considering the article you just read and the activities in this lesson, do you think that interdisciplinary communication is important for cyberinfrastructure? Respond in a few sentences."
   ]
  },
  {
   "cell_type": "code",
   "execution_count": 10,
   "metadata": {
    "hide_input": false,
    "slideshow": {
     "slide_type": "fragment"
    },
    "tags": [
     "Hide",
     "Init"
    ]
   },
   "outputs": [
    {
     "data": {
      "application/vnd.jupyter.widget-view+json": {
       "model_id": "42b1c59919df421a8c36122f5a84ac08",
       "version_major": 2,
       "version_minor": 0
      },
      "text/plain": [
       "Textarea(value='', placeholder='Type your response here...')"
      ]
     },
     "metadata": {},
     "output_type": "display_data"
    },
    {
     "data": {
      "application/vnd.jupyter.widget-view+json": {
       "model_id": "06de976c70524cfd9f223a69e01cc4f9",
       "version_major": 2,
       "version_minor": 0
      },
      "text/plain": [
       "Button(description='Click here to submit your response', icon='check', layout=Layout(height='auto', width='aut…"
      ]
     },
     "metadata": {},
     "output_type": "display_data"
    },
    {
     "data": {
      "application/vnd.jupyter.widget-view+json": {
       "model_id": "9a7bebfc448240d39bfb6c198d04693e",
       "version_major": 2,
       "version_minor": 0
      },
      "text/plain": [
       "Output()"
      ]
     },
     "metadata": {},
     "output_type": "display_data"
    }
   ],
   "source": [
    "text3 = widgets.Textarea(placeholder='Type your response here...')\n",
    "# Display widget\n",
    "display(text3)\n",
    "\n",
    "# Output function\n",
    "def out8():\n",
    "    # Execute next cell for comparison\n",
    "    display(Javascript(\"Jupyter.notebook.execute_cells([Jupyter.notebook.get_selected_index()+1])\"))\n",
    "    \n",
    "    print(\"What an interesting response! Take a look at one of our responses:\\n\")\n",
    "    print(\"\\\"Interdisciplinary communication is vital in cyberinfrastructure. When working with people from different backgrounds and experiences, connecting their expertise and knowledge can create very interesting connections and collaborations.\\\"\")\n",
    "\n",
    "# Submit button\n",
    "hourofci.SubmitBtn(user_agent, lesson, lesson_level, \"Q22\", text3, out8, 'Click here to submit your response')"
   ]
  },
  {
   "cell_type": "markdown",
   "metadata": {
    "hide_input": false,
    "slideshow": {
     "slide_type": "slide"
    },
    "variables": {
     "text3.value": "<p><strong>NameError</strong>: name &#39;text3&#39; is not defined</p>\n"
    }
   },
   "source": [
    "On a scale of 1 to 5, with 1 being \"the responses didn't match at all\" and 5 being \"the responses matched really closely\", how well did your response match ours?\n",
    "\n",
    "__Your response:__ {{text3.value}}<br>\n",
    "__Our response:__ \"Interdisciplinary communication is vital in cyberinfrastructure. When working with people from different backgrounds and experiences, connecting their expertise and knowledge can create very interesting connections and collaborations.\""
   ]
  },
  {
   "cell_type": "code",
   "execution_count": 11,
   "metadata": {
    "hide_input": false,
    "slideshow": {
     "slide_type": "fragment"
    },
    "tags": [
     "Hide",
     "Init"
    ]
   },
   "outputs": [
    {
     "data": {
      "application/vnd.jupyter.widget-view+json": {
       "model_id": "9753d1b8b9194322890ef7fa3da32a60",
       "version_major": 2,
       "version_minor": 0
      },
      "text/plain": [
       "IntSlider(value=3, max=5, min=1)"
      ]
     },
     "metadata": {},
     "output_type": "display_data"
    },
    {
     "data": {
      "application/vnd.jupyter.widget-view+json": {
       "model_id": "5041e667077a417399437740425bf83b",
       "version_major": 2,
       "version_minor": 0
      },
      "text/plain": [
       "Button(description='Submit', icon='check', layout=Layout(height='auto', width='auto'), style=ButtonStyle())"
      ]
     },
     "metadata": {},
     "output_type": "display_data"
    },
    {
     "data": {
      "application/vnd.jupyter.widget-view+json": {
       "model_id": "41cf7acc8b184fbc8f2342bd8b55b6f1",
       "version_major": 2,
       "version_minor": 0
      },
      "text/plain": [
       "Output()"
      ]
     },
     "metadata": {},
     "output_type": "display_data"
    }
   ],
   "source": [
    "slider3 = widgets.IntSlider(\n",
    "    value=3,\n",
    "    min=1,\n",
    "    max=5,\n",
    "    step=1\n",
    ")\n",
    "\n",
    "display(slider3)\n",
    "\n",
    "def out9():\n",
    "    print(\"Submitted!\")\n",
    "        \n",
    "# Submit button\n",
    "hourofci.SubmitBtn(user_agent, lesson, lesson_level, \"Q23\", slider3,out9)"
   ]
  },
  {
   "cell_type": "markdown",
   "metadata": {
    "slideshow": {
     "slide_type": "slide"
    }
   },
   "source": [
    "Congratulations, you’ve completed the Hour of Cyberinfrastructure Interdisciplinary Communication lesson!\n",
    "\n",
    "(Certificate link, etc.)"
   ]
  }
 ],
 "metadata": {
  "celltoolbar": "Initialization Cell",
  "kernelspec": {
   "display_name": "Python 3",
   "language": "python",
   "name": "python3"
  },
  "rise": {
   "autolaunch": true,
   "overlay": "<div class='hciheader'></div><div class='hcifooter'></div>",
   "scroll": true
  },
  "widgets": {
   "application/vnd.jupyter.widget-state+json": {
    "state": {},
    "version_major": 2,
    "version_minor": 0
   }
  }
 },
 "nbformat": 4,
 "nbformat_minor": 2
}
