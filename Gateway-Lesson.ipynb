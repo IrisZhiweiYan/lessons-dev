{
 "cells": [
  {
   "cell_type": "markdown",
   "metadata": {
    "slideshow": {
     "slide_type": "slide"
    }
   },
   "source": [
    "# Welcome to the World of Cyberinfrastructure!\n",
    "\n",
    "\n",
    "This **Gateway Lesson** will introduce you to the Hour of Cyberinfrastructure (Hour of CI) project, and highlight the eight knowledge areas that make up Cyber Literacy for Geographic Information Science (Cyber Literacy for GIScience)."
   ]
  },
  {
   "cell_type": "markdown",
   "metadata": {
    "slideshow": {
     "slide_type": "slide"
    }
   },
   "source": [
    "## Before we get started\n",
    "\n",
    "You should know that the Hour of CI project is a research study and your participation is voluntary. Please read the following invitation to take part in the study and participate in the Hour of CI project."
   ]
  },
  {
   "cell_type": "markdown",
   "metadata": {
    "rise": {
     "scroll": true
    },
    "slideshow": {
     "slide_type": "slide"
    }
   },
   "source": [
    "####  PERMISSION TO TAKE PART IN A RESEARCH STUDY\n",
    "\n",
    "<font size=\"+1\">\n",
    "\n",
    "You are invited to be in a research study for the Hour of Cyberinfrastructure: Developing Cyber Literacy for GIScience project. We ask that you read this form and ask any questions you may have before agreeing to be in the study. This study is being conducted by: Eric Shook, Department of Geography, Environment, and Society at the University of Minnesota.\n",
    "\n",
    "##### Procedures:\n",
    "If you agree to be in this study, you will be learning about cyberinfrastructure and related concepts using a web-based platform that will take approximately one hour per lesson. Each lesson will include readings, short assessments such as multiple choice questions and short answers, and interactive components all to enhance and gauge learning. Your answers to questions will be recorded in a secure database. Participation in this study is voluntary. If you are not interested in participating please exit the browser or navigate to this website: <a href=\"http://www.umn.edu\" target=\"http://www.umn.edu\">http://www.umn.edu</a>.\n",
    "\n",
    "##### Confidentiality:\n",
    "The individual records of this study will be kept private. In any sort of report we might publish, we will not include any information that will make it possible to identify a subject. Research records will be stored securely and only researchers will have access to the records. All information will be stored in a secure database for current and future research purposes.\n",
    "\n",
    "##### Voluntary Nature of the Study:\n",
    "Participation in this study is voluntary. Your decision whether or not to participate will not affect your current or future relations with the University of Minnesota, University of Southern California, University of Illinois at Urbana-Champaign, or University of Massachusetts at Amherst.\n",
    "\n",
    "##### Contacts and Questions:\n",
    "The principal researcher conducting this study is: Eric Shook.\n",
    "\n",
    "If you have questions now or later, you are encouraged to contact him at:\n",
    "  * Address: 267 – 19 th Avenue South, 414 Social Sciences Building, Minneapolis, MN, 55455,\n",
    "  * Phone: 612-625-5970,\n",
    "  * Email: eshook@umn.edu\n",
    "\n",
    "This research has been reviewed and approved by an IRB within the Human Research Protections Program (HRPP). To share feedback privately with the HRPP about your research experience, call the Research Participants’ Advocate Line at 612-625-1650 (Toll Free: 1-888-224-8636) or go to z.umn.edu/participants. You are encouraged to contact the HRPP if: \n",
    "  * Your questions, concerns, or complaints are not being answered by the research team.\n",
    "  * You cannot reach the research team.\n",
    "  * You want to talk to someone besides the research team.\n",
    "\n",
    "HRP-587 Template Version: 2/28/2019\n",
    "  * You have questions about your rights as a research participant.\n",
    "  * You want to get information or provide input about this research.\n",
    "\n",
    "##### Permission:\n",
    "Participants in this research must be 18 years or older. If you are under the age of 18 then please exit this webpage or navigate to another website such as the Hour of Code at https://hourofcode.com, which is designed for K-12 students.\n",
    "\n",
    "\n",
    "By clicking on the \"Agree\" button below you are granting your permission to take part in this research and start an Hour of CI lesson. If you are not interested in participating please exit the browser or navigate to this website: http://www.umn.edu. Your participation is voluntary and you are free to stop the lesson at any time.\n",
    "\n",
    "Please print a copy of this information to keep for your records.\n",
    "\n",
    "</font>\n",
    "\n",
    "\n",
    "<a href=\"#/slide-3-0\" class=\"navigate-right\" style=\"background-color:blue;color:white;padding:10px;margin:2px;font-weight:bold;\">I am 18 years or older, and I agree to participate in the study</a>\n",
    "\n"
   ]
  },
  {
   "cell_type": "markdown",
   "metadata": {
    "slideshow": {
     "slide_type": "slide"
    }
   },
   "source": [
    "## Thank you for helping our study. Now let's learn more about Cyberinfrastructure (CI)!\n",
    "\n",
    "...."
   ]
  },
  {
   "cell_type": "markdown",
   "metadata": {
    "slideshow": {
     "slide_type": "slide"
    }
   },
   "source": [
    "## But ...\n",
    "\n",
    "Before we learn more **about** the World of Cyberinfrastructure ...\n",
    "\n",
    "Let's give Cyberinfrastructure a go! (First, by learning a bit of coding)\n",
    "\n",
    "<a href=\"Gateway/Gateway-2.ipynb\">Click here to move to the next section to learn more!</a>"
   ]
  }
 ],
 "metadata": {
  "celltoolbar": "Edit Metadata",
  "kernelspec": {
   "display_name": "Python 3",
   "language": "python",
   "name": "python3"
  },
  "language_info": {
   "codemirror_mode": {
    "name": "ipython",
    "version": 3
   },
   "file_extension": ".py",
   "mimetype": "text/x-python",
   "name": "python",
   "nbconvert_exporter": "python",
   "pygments_lexer": "ipython3",
   "version": "3.7.0"
  },
  "rise": {
   "auto_select": "none",
   "autolaunch": true,
   "overlay": "<div class='hciheader'></div><div class='hcifooter'></div>",
   "scroll": true
  }
 },
 "nbformat": 4,
 "nbformat_minor": 2
}
