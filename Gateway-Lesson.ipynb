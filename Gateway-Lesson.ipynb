{
 "cells": [
  {
   "cell_type": "markdown",
   "metadata": {
    "slideshow": {
     "slide_type": "slide"
    }
   },
   "source": [
    "# Welcome to the World of Cyberinfrastructure!\n",
    "\n",
    "This **Gateway Lesson** will introduce Cyberinfrastructure and the Hour of Cyberinfrastructure (Hour of CI) project."
   ]
  },
  {
   "cell_type": "markdown",
   "metadata": {
    "slideshow": {
     "slide_type": "slide"
    }
   },
   "source": [
    "# Which came first?\n",
    "\n",
    "<table>\n",
    "    <tr style=\"background: #fff\">\n",
    "        <td> <a href=\"#/slide-1-0\" class=\"navigate-right\"><img src='Gateway/supplementary/chicken.jpg' alt='Chicken'></a> </td>\n",
    "        <td> <a href=\"#/slide-1-0\" class=\"navigate-right\"><img src='Gateway/supplementary/egg.jpg' alt='Egg'></a> </td>\n",
    "    </tr>\n",
    "    <tr style=\"background: #fff\">\n",
    "        <td style=\"text-align:center;font-size: 32px;font-weight:bold;\"> \n",
    "            <a href=\"#/slide-1-0\" class=\"navigate-right\" style=\"text-decoration:none\">Chicken </a>\n",
    "        </td>\n",
    "        <td style=\"text-align:center;font-size: 32px;font-weight:bold;\"> \n",
    "            <a href=\"#/slide-1-0\" class=\"navigate-right\" style=\"text-decoration:none\">Egg</a>\n",
    "        </td>\n",
    "    </tr>    \n",
    "</table>\n"
   ]
  },
  {
   "cell_type": "markdown",
   "metadata": {
    "slideshow": {
     "slide_type": "slide"
    }
   },
   "source": [
    "## Okay, we aren't really sure.\n",
    "\n",
    "What we know for certain is that science came before cyberinfrastructure.\n",
    "\n",
    "![Science first, CI second](Gateway/supplementary/science-ci-timeline.png)\n",
    "\n",
    "<font size=\"-1\">(Technically, science says that the egg came first [[source]](https://en.wikipedia.org/wiki/Chicken_or_the_egg))</font>\n",
    "\n",
    "Hit [Space] to continue"
   ]
  },
  {
   "cell_type": "markdown",
   "metadata": {
    "slideshow": {
     "slide_type": "slide"
    }
   },
   "source": [
    "### What is Cyberinfrastructure (or CI)? A Science Enabler!\n",
    "Much like a catapult enables us to throw heavy things further than before...\n",
    "![Catapult throwing](Gateway/supplementary/throw-catapult.png)"
   ]
  },
  {
   "cell_type": "markdown",
   "metadata": {
    "slideshow": {
     "slide_type": "fragment"
    }
   },
   "source": [
    "Cyberinfrastructure enables scientists to solve problems that couldn't be solved before.\n",
    "![solving problems](Gateway/supplementary/ci-thinking-solve.png)"
   ]
  },
  {
   "cell_type": "markdown",
   "metadata": {
    "slideshow": {
     "slide_type": "slide"
    }
   },
   "source": [
    "## But ...\n",
    "\n",
    "Before we learn more **about** the World of Cyberinfrastructure ...\n",
    "\n",
    "Let's give Cyberinfrastructure a go! (First, by learning a bit of coding)\n",
    "\n",
    "<a href=\"Gateway/Gateway-2.ipynb\">Click here to move to the next section to learn more!</a>"
   ]
  }
 ],
 "metadata": {
  "celltoolbar": "Slideshow",
  "kernelspec": {
   "display_name": "Python 3",
   "language": "python",
   "name": "python3"
  },
  "language_info": {
   "codemirror_mode": {
    "name": "ipython",
    "version": 3
   },
   "file_extension": ".py",
   "mimetype": "text/x-python",
   "name": "python",
   "nbconvert_exporter": "python",
   "pygments_lexer": "ipython3",
   "version": "3.7.0"
  },
  "rise": {
   "auto_select": "none",
   "autolaunch": true
  }
 },
 "nbformat": 4,
 "nbformat_minor": 2
}
