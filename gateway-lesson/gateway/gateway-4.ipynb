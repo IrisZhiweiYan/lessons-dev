{
 "cells": [
  {
   "cell_type": "markdown",
   "metadata": {
    "slideshow": {
     "slide_type": "slide"
    }
   },
   "source": [
    "# Creating Covid-19 Maps from Online Data\n",
    "\n",
    "As the Covid-19 pandemic evolves, you no doubt have seen lot of maps showing the impact of Covid-19. You might have wondered how difficult it is to create these maps. In this section you will learn the entire process from downloading data to creating a map.\n"
   ]
  },
  {
   "cell_type": "code",
   "execution_count": 1,
   "metadata": {
    "hide_input": true,
    "init_cell": true,
    "slideshow": {
     "slide_type": "skip"
    },
    "tags": [
     "Hide"
    ]
   },
   "outputs": [
    {
     "data": {
      "text/html": [
       " \n",
       "    <script type=\"text/javascript\" src=\"../../supplementary/js/custom.js\"></script>\n",
       "    \n",
       "    <input id=\"toggle_code\" type=\"button\" value=\"Toggle raw code\">\n"
      ],
      "text/plain": [
       "<IPython.core.display.HTML object>"
      ]
     },
     "execution_count": 1,
     "metadata": {},
     "output_type": "execute_result"
    }
   ],
   "source": [
    "# This code cell starts the necessary setup for Hour of CI lesson notebooks.\n",
    "# First, it enables users to hide and unhide code by producing a 'Toggle raw code' button below.\n",
    "# Second, it imports the hourofci package, which is necessary for lessons and interactive Jupyter Widgets.\n",
    "# Third, it helps hide/control other aspects of Jupyter Notebooks to improve the user experience\n",
    "# This is an initialization cell\n",
    "# It is not displayed because the Slide Type is 'Skip'\n",
    "\n",
    "from IPython.display import HTML, IFrame, Javascript, display\n",
    "from ipywidgets import interactive\n",
    "import ipywidgets as widgets\n",
    "from ipywidgets import Layout\n",
    "\n",
    "import getpass # This library allows us to get the username (User agent string)\n",
    "\n",
    "# import package for hourofci project\n",
    "import sys\n",
    "sys.path.append('../../supplementary') # relative path (may change depending on the location of the lesson notebook)\n",
    "import hourofci\n",
    "\n",
    "# Retreive the user agent string, it will be passed to the hourofci submit button\n",
    "agent_js = \"\"\"\n",
    "IPython.notebook.kernel.execute(\"user_agent = \" + \"'\" + navigator.userAgent + \"'\");\n",
    "\"\"\"\n",
    "Javascript(agent_js)\n",
    "\n",
    "# load javascript to initialize/hide cells, get user agent string, and hide output indicator\n",
    "# hide code by introducing a toggle button \"Toggle raw code\"\n",
    "HTML(''' \n",
    "    <script type=\"text/javascript\" src=\\\"../../supplementary/js/custom.js\\\"></script>\n",
    "    \n",
    "    <input id=\"toggle_code\" type=\"button\" value=\"Toggle raw code\">\n",
    "''')"
   ]
  },
  {
   "cell_type": "markdown",
   "metadata": {
    "slideshow": {
     "slide_type": "slide"
    }
   },
   "source": [
    "\n",
    "## Reminder\n",
    "\n",
    "<font size=\"+1\">\n",
    "\n",
    "By continuing with this lesson you are granting your permission to take part in this research study for the Hour of Cyberinfrastructure: Developing Cyber Literacy for GIScience project. In this study, you will be learning about cyberinfrastructure and related concepts using a web-based platform that will take approximately one hour per lesson. Participation in this study is voluntary.\n",
    "\n",
    "Participants in this research must be 18 years or older. If you are under the age of 18 then please exit this webpage or navigate to another website such as the Hour of Code at https://hourofcode.com, which is designed for K-12 students.\n",
    "\n",
    "If you are not interested in participating please exit the browser or navigate to this website: http://www.umn.edu. Your participation is voluntary and you are free to stop the lesson at any time.\n",
    "\n",
    "For the full description please navigate to this website: <a href=\"gateway-1.ipynb\">Gateway Lesson Research Study Permission</a>.\n",
    "\n",
    "</font>\n",
    "\n",
    "<a href=\"#/slide-2-0\" class=\"navigate-right\" style=\"background-color:blue;color:white;padding:10px;margin:2px;font-weight:bold;\">Continue with the lesson</a>\n"
   ]
  },
  {
   "cell_type": "markdown",
   "metadata": {
    "slideshow": {
     "slide_type": "slide"
    }
   },
   "source": [
    "## Setup\n",
    "\n",
    "To start you have to import the specific Python modules you will need. You will learn more about these packages in other Hour of CI lessons, so let's just import everything we need right now.\n",
    "\n",
    "Run the code below to import our packages.\n"
   ]
  },
  {
   "cell_type": "code",
   "execution_count": 2,
   "metadata": {
    "slideshow": {
     "slide_type": "-"
    }
   },
   "outputs": [],
   "source": [
    "import pandas\n",
    "import geopandas"
   ]
  },
  {
   "cell_type": "markdown",
   "metadata": {
    "slideshow": {
     "slide_type": "slide"
    }
   },
   "source": [
    "## Download COVID-19 Data\n",
    "First, we have to find the data. There are lots of sources of Covid-19 data online. For this segment we will use US county level data released by the New York Times. It's found here: https://raw.githubusercontent.com/nytimes/covid-19-data/master/us-counties.csv.\n",
    "\n",
    "The code below uses a utility called **wget** to download the data from the URL and save it to a local file called \"us-counties.csv\" (side note: that is what the -O does).\n",
    "\n",
    "Click on the play button to run wget and get the data."
   ]
  },
  {
   "cell_type": "code",
   "execution_count": null,
   "metadata": {
    "slideshow": {
     "slide_type": "-"
    }
   },
   "outputs": [],
   "source": [
    "!wget https://raw.githubusercontent.com/nytimes/covid-19-data/master/us-counties.csv -O us-counties.csv"
   ]
  },
  {
   "cell_type": "markdown",
   "metadata": {
    "slideshow": {
     "slide_type": "slide"
    }
   },
   "source": [
    "## Read and view the data\n",
    "Once you have downloaded the data file, you have to read it using Python. To do that, we'll convert the downloaded file into a data format that our Python program can use. Here we're going to use Dataframes provided by the **pandas** module we just imported.\n",
    "\n",
    "**Dataframes** can be though of as spreadsheets for tabular data organized in rows and columns. See an example below.\n",
    "\n",
    "| Column 1 | Column 2 | Column 3 |\n",
    "|:---------|:---------|:---------|\n",
    "|First     |Record    |1         |\n",
    "|Second    |Record    |2         |\n",
    "\n",
    "If you want to learn more about Dataframes you can look at the Pandas documentation <a href=\"https://pandas.pydata.org/pandas-docs/stable/getting_started/intro_tutorials/01_table_oriented.html#min-tut-01-tableoriented\">here</a>."
   ]
  },
  {
   "cell_type": "markdown",
   "metadata": {
    "slideshow": {
     "slide_type": "slide"
    }
   },
   "source": [
    "## Read and view the data\n",
    "\n",
    "The function we will use to read the data is **pandas.read_csv**. To view the data we will use the **head** function that displays the top 5 data records. Click on the play button to run the code. Here we can see a record contains a date, a county, a state, a numerical representations of a county and state called a FIPS code, and then umber of Covid-19 cases and deaths for that day and county."
   ]
  },
  {
   "cell_type": "code",
   "execution_count": 4,
   "metadata": {
    "slideshow": {
     "slide_type": "-"
    }
   },
   "outputs": [
    {
     "data": {
      "text/html": [
       "<div>\n",
       "<style scoped>\n",
       "    .dataframe tbody tr th:only-of-type {\n",
       "        vertical-align: middle;\n",
       "    }\n",
       "\n",
       "    .dataframe tbody tr th {\n",
       "        vertical-align: top;\n",
       "    }\n",
       "\n",
       "    .dataframe thead th {\n",
       "        text-align: right;\n",
       "    }\n",
       "</style>\n",
       "<table border=\"1\" class=\"dataframe\">\n",
       "  <thead>\n",
       "    <tr style=\"text-align: right;\">\n",
       "      <th></th>\n",
       "      <th>date</th>\n",
       "      <th>county</th>\n",
       "      <th>state</th>\n",
       "      <th>fips</th>\n",
       "      <th>cases</th>\n",
       "      <th>deaths</th>\n",
       "    </tr>\n",
       "  </thead>\n",
       "  <tbody>\n",
       "    <tr>\n",
       "      <th>0</th>\n",
       "      <td>2020-01-21</td>\n",
       "      <td>Snohomish</td>\n",
       "      <td>Washington</td>\n",
       "      <td>53061.0</td>\n",
       "      <td>1</td>\n",
       "      <td>0</td>\n",
       "    </tr>\n",
       "    <tr>\n",
       "      <th>1</th>\n",
       "      <td>2020-01-22</td>\n",
       "      <td>Snohomish</td>\n",
       "      <td>Washington</td>\n",
       "      <td>53061.0</td>\n",
       "      <td>1</td>\n",
       "      <td>0</td>\n",
       "    </tr>\n",
       "    <tr>\n",
       "      <th>2</th>\n",
       "      <td>2020-01-23</td>\n",
       "      <td>Snohomish</td>\n",
       "      <td>Washington</td>\n",
       "      <td>53061.0</td>\n",
       "      <td>1</td>\n",
       "      <td>0</td>\n",
       "    </tr>\n",
       "    <tr>\n",
       "      <th>3</th>\n",
       "      <td>2020-01-24</td>\n",
       "      <td>Cook</td>\n",
       "      <td>Illinois</td>\n",
       "      <td>17031.0</td>\n",
       "      <td>1</td>\n",
       "      <td>0</td>\n",
       "    </tr>\n",
       "    <tr>\n",
       "      <th>4</th>\n",
       "      <td>2020-01-24</td>\n",
       "      <td>Snohomish</td>\n",
       "      <td>Washington</td>\n",
       "      <td>53061.0</td>\n",
       "      <td>1</td>\n",
       "      <td>0</td>\n",
       "    </tr>\n",
       "  </tbody>\n",
       "</table>\n",
       "</div>"
      ],
      "text/plain": [
       "         date     county       state     fips  cases  deaths\n",
       "0  2020-01-21  Snohomish  Washington  53061.0      1       0\n",
       "1  2020-01-22  Snohomish  Washington  53061.0      1       0\n",
       "2  2020-01-23  Snohomish  Washington  53061.0      1       0\n",
       "3  2020-01-24       Cook    Illinois  17031.0      1       0\n",
       "4  2020-01-24  Snohomish  Washington  53061.0      1       0"
      ]
     },
     "execution_count": 4,
     "metadata": {},
     "output_type": "execute_result"
    }
   ],
   "source": [
    "#Read the data that we downloaded from the NYT into a dataframe\n",
    "covid_counties = pandas.read_csv('./us-counties.csv')\n",
    "\n",
    "#View the first 5 records\n",
    "covid_counties.head(5)"
   ]
  },
  {
   "cell_type": "markdown",
   "metadata": {
    "slideshow": {
     "slide_type": "slide"
    }
   },
   "source": [
    "## Count the number of records\n",
    "\n",
    "How many records do we have? Let's take a look using Panda's **count** function.\n"
   ]
  },
  {
   "cell_type": "code",
   "execution_count": 9,
   "metadata": {
    "slideshow": {
     "slide_type": "-"
    }
   },
   "outputs": [
    {
     "data": {
      "text/plain": [
       "date      599268\n",
       "county    599268\n",
       "state     599268\n",
       "fips      593499\n",
       "cases     599268\n",
       "deaths    599268\n",
       "dtype: int64"
      ]
     },
     "execution_count": 9,
     "metadata": {},
     "output_type": "execute_result"
    }
   ],
   "source": [
    "covid_counties.count()"
   ]
  },
  {
   "cell_type": "markdown",
   "metadata": {
    "slideshow": {
     "slide_type": "fragment"
    }
   },
   "source": [
    "Whoa! That is a lot of records. Too many records actually... We are getting a record for each day there is at least one case.\n",
    "\n"
   ]
  },
  {
   "cell_type": "markdown",
   "metadata": {
    "slideshow": {
     "slide_type": "slide"
    }
   },
   "source": [
    "## Aggregate records\n",
    "\n",
    "We need to combine or **aggregate** the Covid-19 records to map them. Let's map the total number of cases for each US county.\n",
    "\n",
    "To do this we will use the **groupby** function. We will group _cases_ by the _county_ and _state_ (as well as a special code called the _FIPS_ code). We will add them all up using the **sum** function.\n",
    "\n",
    "Go to the next slide to see the code."
   ]
  },
  {
   "cell_type": "markdown",
   "metadata": {
    "slideshow": {
     "slide_type": "slide"
    }
   },
   "source": [
    "## Aggregate records"
   ]
  },
  {
   "cell_type": "code",
   "execution_count": 6,
   "metadata": {
    "slideshow": {
     "slide_type": "-"
    }
   },
   "outputs": [
    {
     "data": {
      "text/plain": [
       "fips     county         state         \n",
       "1001.0   Autauga        Alabama           134418\n",
       "1003.0   Baldwin        Alabama           372334\n",
       "1005.0   Barbour        Alabama            73688\n",
       "1007.0   Bibb           Alabama            49543\n",
       "1009.0   Blount         Alabama           102296\n",
       "1011.0   Bullock        Alabama            58926\n",
       "1013.0   Butler         Alabama           100738\n",
       "1015.0   Calhoun        Alabama           207671\n",
       "1017.0   Chambers       Alabama           120233\n",
       "1019.0   Cherokee       Alabama            36053\n",
       "1021.0   Chilton        Alabama            99045\n",
       "1023.0   Choctaw        Alabama            36812\n",
       "1025.0   Clarke         Alabama            81254\n",
       "1027.0   Clay           Alabama            32229\n",
       "1029.0   Cleburne       Alabama            18973\n",
       "1031.0   Coffee         Alabama           101607\n",
       "1033.0   Colbert        Alabama           126038\n",
       "1035.0   Conecuh        Alabama            43426\n",
       "1037.0   Coosa          Alabama            14311\n",
       "1039.0   Covington      Alabama            97333\n",
       "1041.0   Crenshaw       Alabama            39652\n",
       "1043.0   Cullman        Alabama           139405\n",
       "1045.0   Dale           Alabama            95307\n",
       "1047.0   Dallas         Alabama           159161\n",
       "1049.0   DeKalb         Alabama           193131\n",
       "1051.0   Elmore         Alabama           207043\n",
       "1053.0   Escambia       Alabama           115454\n",
       "1055.0   Etowah         Alabama           243473\n",
       "1057.0   Fayette        Alabama            26852\n",
       "1059.0   Franklin       Alabama           163823\n",
       "                                           ...  \n",
       "72101.0  Morovis        Puerto Rico        31213\n",
       "72103.0  Naguabo        Puerto Rico        12776\n",
       "72105.0  Naranjito      Puerto Rico        35925\n",
       "72107.0  Orocovis       Puerto Rico        23831\n",
       "72109.0  Patillas       Puerto Rico        13182\n",
       "72111.0  Penuelas       Puerto Rico         8171\n",
       "72113.0  Ponce          Puerto Rico        59122\n",
       "72115.0  Quebradillas   Puerto Rico        11203\n",
       "72117.0  Rincon         Puerto Rico        11355\n",
       "72119.0  Rio Grande     Puerto Rico        36647\n",
       "72121.0  Sabana Grande  Puerto Rico        14850\n",
       "72123.0  Salinas        Puerto Rico        27566\n",
       "72125.0  San German     Puerto Rico        17807\n",
       "72127.0  San Juan       Puerto Rico       427485\n",
       "72129.0  San Lorenzo    Puerto Rico        25098\n",
       "72131.0  San Sebastian  Puerto Rico        25984\n",
       "72133.0  Santa Isabel   Puerto Rico        12122\n",
       "72135.0  Toa Alta       Puerto Rico        73647\n",
       "72137.0  Toa Baja       Puerto Rico        74495\n",
       "72139.0  Trujillo Alto  Puerto Rico        62693\n",
       "72141.0  Utuado         Puerto Rico         8168\n",
       "72143.0  Vega Alta      Puerto Rico        37003\n",
       "72145.0  Vega Baja      Puerto Rico        51632\n",
       "72147.0  Vieques        Puerto Rico         6930\n",
       "72149.0  Villalba       Puerto Rico        10131\n",
       "72151.0  Yabucoa        Puerto Rico        16439\n",
       "72153.0  Yauco          Puerto Rico        27836\n",
       "78010.0  St. Croix      Virgin Islands     33284\n",
       "78020.0  St. John       Virgin Islands      2994\n",
       "78030.0  St. Thomas     Virgin Islands     43475\n",
       "Name: cases, Length: 3211, dtype: int64"
      ]
     },
     "execution_count": 6,
     "metadata": {},
     "output_type": "execute_result"
    }
   ],
   "source": [
    "# First group cases by county and state using groupby\n",
    "covid_grouped = covid_counties.groupby(['fips','county','state'])['cases']\n",
    "\n",
    "# Second, add up all the Covid-19 cases using sum\n",
    "covid_total = covid_grouped.sum()\n",
    "\n",
    "#View the result\n",
    "covid_total"
   ]
  },
  {
   "cell_type": "markdown",
   "metadata": {
    "slideshow": {
     "slide_type": "slide"
    }
   },
   "source": [
    "## Get the geography\n",
    "Though this Covid-19 data includes columns for county and state, it does not have the geometry data that will allow you to plot a map. So we need to get additional data that has the geometry data that defines the outline of each county. \n",
    "\n",
    "Good news! We have already obtained that data for you, \"counties_geometry.geojson\", and stored it on disk, so now we'll load that into a geodataframe - that's a dataframe that also contains a geospatial column for the geometry."
   ]
  },
  {
   "cell_type": "code",
   "execution_count": null,
   "metadata": {
    "slideshow": {
     "slide_type": "-"
    }
   },
   "outputs": [],
   "source": [
    "counties_geojson = geopandas.read_file(r\"./counties_update_new.geojson\")\n",
    "counties_geojson.head(5)"
   ]
  },
  {
   "cell_type": "markdown",
   "metadata": {
    "slideshow": {
     "slide_type": "slide"
    }
   },
   "source": [
    "## Merging Data\n",
    "\n",
    "Now we have two files: \n",
    "1. Covid-19 file from the New York Times that contains cases and death information for every county but does not have any geometry data\n",
    "2. Geometry file that contains the geometry and population data for each county.\n",
    "\n",
    "We need to join these data files by matching the country and state names. However, if you look at the two dataframes above, the Covid-19 data has columns \"county\" and \"state\", while the geometry data has columns \"NAME\" and \"state_name\", so we have to specify which columns to match up. \n",
    "\n",
    "\n",
    "### Anand - why keep the GEOID here. Unnecessary detail, isn't it? Or better yet, why not just merge the two files and not worry about what fields are kept. "
   ]
  },
  {
   "cell_type": "code",
   "execution_count": null,
   "metadata": {
    "slideshow": {
     "slide_type": "-"
    }
   },
   "outputs": [],
   "source": [
    "# Can we simplify this?\n",
    "merged = pandas.merge(counties_geojson, covid_total, \n",
    "                    how='left', left_on=['NAME','state_name'], right_on = ['county','state'])"
   ]
  },
  {
   "cell_type": "markdown",
   "metadata": {
    "slideshow": {
     "slide_type": "slide"
    }
   },
   "source": [
    "## Success!\n",
    "\n",
    "Now we have a merged dataframe with both geometry, population and Covid-19 data. Let's view the data and the columns in it."
   ]
  },
  {
   "cell_type": "code",
   "execution_count": null,
   "metadata": {
    "slideshow": {
     "slide_type": "fragment"
    }
   },
   "outputs": [],
   "source": [
    "merged.columns"
   ]
  },
  {
   "cell_type": "code",
   "execution_count": null,
   "metadata": {
    "slideshow": {
     "slide_type": "fragment"
    }
   },
   "outputs": [],
   "source": [
    "merged"
   ]
  },
  {
   "cell_type": "markdown",
   "metadata": {
    "slideshow": {
     "slide_type": "slide"
    }
   },
   "source": [
    "## Mapping the data\n",
    "\n",
    "Now that we have a combined dataset, making a map is easy! There are a lot of options, we'll just use one of them. "
   ]
  },
  {
   "cell_type": "code",
   "execution_count": null,
   "metadata": {
    "slideshow": {
     "slide_type": "-"
    }
   },
   "outputs": [],
   "source": [
    "merged.plot(figsize=(15, 15), column='cases', cmap='OrRd', scheme='fisher_jenks', legend=\"true\", \n",
    "                       legend_kwds={'loc': 'lower left', 'title':'Number of Confirmed Cases'})\n",
    "pyplot.title(\"Number of Confirmed Cases\")"
   ]
  },
  {
   "cell_type": "markdown",
   "metadata": {
    "slideshow": {
     "slide_type": "fragment"
    }
   },
   "source": [
    "Of course, it's not a pretty map, but it's a map! Congratulations, you've made a map using cyberinfrastructure!"
   ]
  },
  {
   "cell_type": "markdown",
   "metadata": {
    "slideshow": {
     "slide_type": "slide"
    }
   },
   "source": [
    "## How is this cyberinfrastructure?\n",
    "\n",
    "I wrote a few lines of Python code. How is this cyberinfrastructure? \n",
    "\n",
    "To answer that question, let's take a step back.\n",
    "\n",
    "<a href=\"gateway-5.ipynb\">Click here to move to the next section to learn more!</a>"
   ]
  }
 ],
 "metadata": {
  "celltoolbar": "Slideshow",
  "kernelspec": {
   "display_name": "Python 3",
   "language": "python",
   "name": "python3"
  },
  "language_info": {
   "codemirror_mode": {
    "name": "ipython",
    "version": 3
   },
   "file_extension": ".py",
   "mimetype": "text/x-python",
   "name": "python",
   "nbconvert_exporter": "python",
   "pygments_lexer": "ipython3",
   "version": "3.7.0"
  },
  "rise": {
   "auto_select": "none",
   "autolaunch": true
  }
 },
 "nbformat": 4,
 "nbformat_minor": 2
}
