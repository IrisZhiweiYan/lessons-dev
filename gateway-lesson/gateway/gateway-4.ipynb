{
 "cells": [
  {
   "cell_type": "markdown",
   "metadata": {
    "slideshow": {
     "slide_type": "slide"
    }
   },
   "source": [
    "# Calculating fire damage in the Amazon rainforest\n",
    "\n",
    "In 2019, major fires destroyed a significant portion of the Amazon rainforest. To better understand the damage we will use a method that analyzes whether an area has live green vegetation. The method is called the normalized difference vegetation index **(NDVI)**. We can use NDVI to examine the rainforest before and after the devastating fires.\n"
   ]
  },
  {
   "cell_type": "code",
   "execution_count": 1,
   "metadata": {
    "hide_input": true,
    "init_cell": true,
    "slideshow": {
     "slide_type": "skip"
    },
    "tags": [
     "Hide"
    ]
   },
   "outputs": [
    {
     "data": {
      "text/html": [
       " \n",
       "    <script type=\"text/javascript\" src=\"../../supplementary/js/custom.js\"></script>\n",
       "    \n",
       "    <input id=\"toggle_code\" type=\"button\" value=\"Toggle raw code\">\n"
      ],
      "text/plain": [
       "<IPython.core.display.HTML object>"
      ]
     },
     "execution_count": 1,
     "metadata": {},
     "output_type": "execute_result"
    }
   ],
   "source": [
    "# This code cell starts the necessary setup for Hour of CI lesson notebooks.\n",
    "# First, it enables users to hide and unhide code by producing a 'Toggle raw code' button below.\n",
    "# Second, it imports the hourofci package, which is necessary for lessons and interactive Jupyter Widgets.\n",
    "# Third, it helps hide/control other aspects of Jupyter Notebooks to improve the user experience\n",
    "# This is an initialization cell\n",
    "# It is not displayed because the Slide Type is 'Skip'\n",
    "\n",
    "from IPython.display import HTML, IFrame, Javascript, display\n",
    "from ipywidgets import interactive\n",
    "import ipywidgets as widgets\n",
    "from ipywidgets import Layout\n",
    "\n",
    "import getpass # This library allows us to get the username (User agent string)\n",
    "\n",
    "# import package for hourofci project\n",
    "import sys\n",
    "sys.path.append('../../supplementary') # relative path (may change depending on the location of the lesson notebook)\n",
    "import hourofci\n",
    "\n",
    "# Retreive the user agent string, it will be passed to the hourofci submit button\n",
    "agent_js = \"\"\"\n",
    "IPython.notebook.kernel.execute(\"user_agent = \" + \"'\" + navigator.userAgent + \"'\");\n",
    "\"\"\"\n",
    "Javascript(agent_js)\n",
    "\n",
    "# load javascript to initialize/hide cells, get user agent string, and hide output indicator\n",
    "# hide code by introducing a toggle button \"Toggle raw code\"\n",
    "HTML(''' \n",
    "    <script type=\"text/javascript\" src=\\\"../../supplementary/js/custom.js\\\"></script>\n",
    "    \n",
    "    <input id=\"toggle_code\" type=\"button\" value=\"Toggle raw code\">\n",
    "''')"
   ]
  },
  {
   "cell_type": "markdown",
   "metadata": {
    "slideshow": {
     "slide_type": "slide"
    }
   },
   "source": [
    "\n",
    "## Reminder\n",
    "\n",
    "<font size=\"+1\">\n",
    "\n",
    "By continuing with this lesson you are granting your permission to take part in this research study for the Hour of Cyberinfrastructure: Developing Cyber Literacy for GIScience project. In this study, you will be learning about cyberinfrastructure and related concepts using a web-based platform that will take approximately one hour per lesson. Participation in this study is voluntary.\n",
    "\n",
    "Participants in this research must be 18 years or older. If you are under the age of 18 then please exit this webpage or navigate to another website such as the Hour of Code at https://hourofcode.com, which is designed for K-12 students.\n",
    "\n",
    "If you are not interested in participating please exit the browser or navigate to this website: http://www.umn.edu. Your participation is voluntary and you are free to stop the lesson at any time.\n",
    "\n",
    "For the full description please navigate to this website: <a href=\"gateway-1.ipynb\">Gateway Lesson Research Study Permission</a>.\n",
    "\n",
    "</font>\n",
    "\n",
    "<a href=\"#/slide-2-0\" class=\"navigate-right\" style=\"background-color:blue;color:white;padding:10px;margin:2px;font-weight:bold;\">Continue with the lesson</a>\n"
   ]
  },
  {
   "cell_type": "markdown",
   "metadata": {
    "slideshow": {
     "slide_type": "slide"
    }
   },
   "source": [
    "## What is NDVI?\n",
    "\n",
    "NDVI uses two spectral bands of satellite imagery--the **Near Infrared (NIR)** and **Red (R)** bands--to find the reflectance from live plants. Spectral bands capture reflected wavelengths along the electromagnetic spectrum (think colors of the rainbow and more). NDVI is \"ratio of the difference of the red and infrared radiances over their sum\" ([Wikipedia*](https://en.wikipedia.org/wiki/Normalized_difference_vegetation_index)). \n",
    "\n",
    "\\begin{equation}\n",
    "\\frac{NIR-Red}{NIR+Red}\n",
    "\\end{equation}\n",
    "\n",
    "\n",
    "\\* Yes, we quoted Wikipedia. If you want to learn more they have a great article about NDVI."
   ]
  },
  {
   "cell_type": "markdown",
   "metadata": {
    "slideshow": {
     "slide_type": "slide"
    }
   },
   "source": [
    "## NDVI in Python\n",
    "\n",
    "Remember function calls? If we want to use NDVI in Python, we can call a function called **ndvi()** and pass a satellite image to the function to process.\n",
    "\n",
    "```python\n",
    "ndvi(image)\n",
    "```\n",
    "\n",
    "This piece of code will accept a satellite image, calculate NDVI using the NIR and Red bands, and display the image. \n",
    "\n",
    "\n"
   ]
  },
  {
   "cell_type": "markdown",
   "metadata": {
    "slideshow": {
     "slide_type": "slide"
    }
   },
   "source": [
    "## Try it\n",
    "\n",
    "```python\n",
    "ndvi(image)\n",
    "```\n",
    "\n",
    "Now, let's try it. Write the NDVI function call in the code cell below:"
   ]
  },
  {
   "cell_type": "code",
   "execution_count": 1,
   "metadata": {},
   "outputs": [
    {
     "ename": "NameError",
     "evalue": "name 'ndvi' is not defined",
     "output_type": "error",
     "traceback": [
      "\u001b[1;31m---------------------------------------------------------------------------\u001b[0m",
      "\u001b[1;31mNameError\u001b[0m                                 Traceback (most recent call last)",
      "\u001b[1;32m<ipython-input-1-aa55c00f5dcb>\u001b[0m in \u001b[0;36m<module>\u001b[1;34m()\u001b[0m\n\u001b[1;32m----> 1\u001b[1;33m \u001b[0mndvi\u001b[0m\u001b[1;33m(\u001b[0m\u001b[0mimage\u001b[0m\u001b[1;33m)\u001b[0m\u001b[1;33m\u001b[0m\u001b[0m\n\u001b[0m",
      "\u001b[1;31mNameError\u001b[0m: name 'ndvi' is not defined"
     ]
    }
   ],
   "source": [
    "ndvi(image)"
   ]
  },
  {
   "cell_type": "markdown",
   "metadata": {
    "slideshow": {
     "slide_type": "-"
    }
   },
   "source": [
    "Then, hover your mouse to the left of the code and click on the play button (see below).\n",
    "![play button](supplementary/play-button.png \"What the Play button looks like\")"
   ]
  },
  {
   "cell_type": "markdown",
   "metadata": {
    "slideshow": {
     "slide_type": "slide"
    }
   },
   "source": [
    "## Well, that did not work ...\n",
    "\n",
    "You found a bug, a **NameError**. NDVI is not automatically included in Python. Your wonderful Hour of CI team wrote this function for you to use. In order to call this function, you first need to import the 'hourofci' Python package. How?! Try running this piece of code with a new import statement.\n"
   ]
  },
  {
   "cell_type": "code",
   "execution_count": 4,
   "metadata": {},
   "outputs": [
    {
     "ename": "NameError",
     "evalue": "name 'image' is not defined",
     "output_type": "error",
     "traceback": [
      "\u001b[1;31m---------------------------------------------------------------------------\u001b[0m",
      "\u001b[1;31mNameError\u001b[0m                                 Traceback (most recent call last)",
      "\u001b[1;32m<ipython-input-4-33caafddbc00>\u001b[0m in \u001b[0;36m<module>\u001b[1;34m()\u001b[0m\n\u001b[0;32m      3\u001b[0m \u001b[1;32mfrom\u001b[0m \u001b[0mhourofcidemo\u001b[0m \u001b[1;32mimport\u001b[0m \u001b[1;33m*\u001b[0m\u001b[1;33m\u001b[0m\u001b[0m\n\u001b[0;32m      4\u001b[0m \u001b[1;33m\u001b[0m\u001b[0m\n\u001b[1;32m----> 5\u001b[1;33m \u001b[0mndvi\u001b[0m\u001b[1;33m(\u001b[0m\u001b[0mimage\u001b[0m\u001b[1;33m)\u001b[0m\u001b[1;33m\u001b[0m\u001b[0m\n\u001b[0m",
      "\u001b[1;31mNameError\u001b[0m: name 'image' is not defined"
     ]
    }
   ],
   "source": [
    "# This line will import the hourofci demo package\n",
    "# It will make the 'ndvi' function available for you to use\n",
    "from hourofcidemo import *\n",
    "\n",
    "ndvi(image)"
   ]
  },
  {
   "cell_type": "markdown",
   "metadata": {
    "slideshow": {
     "slide_type": "slide"
    }
   },
   "source": [
    "## Grrrr, not another NameError!\n",
    "\n",
    "We ran into *another* bug, another NameError. \n",
    "This time Python does not know what 'image' means. \n",
    "\n",
    "Remember, the computer does exactly what you tell it to do. We didn't tell it what image means yet. \n",
    "\n",
    "This exercise, while frustrating, is the process of programming. Iteratively solving problems until the computer does what we *want* it to do. So what should an image be? A satellite image of course!"
   ]
  },
  {
   "cell_type": "markdown",
   "metadata": {
    "slideshow": {
     "slide_type": "slide"
    }
   },
   "source": [
    "## Reading in data\n",
    "\n",
    "Let's add another line of code that reads in data from a file called \"satellite-before.tif\". The function is called **readimage()**. The satellite image captures the Amazon rainforest before the fires. Add the line above ndvi(image) and then run the code.\n",
    "\n",
    "```Python\n",
    "image = readimage(\"satellite-before.tif\")\n",
    "```"
   ]
  },
  {
   "cell_type": "code",
   "execution_count": 10,
   "metadata": {},
   "outputs": [
    {
     "name": "stdout",
     "output_type": "stream",
     "text": [
      "Reading image satellite-before.tif\n",
      "Calculating NDVI\n"
     ]
    },
    {
     "data": {
      "text/plain": [
       "'Calculated NDVI.'"
      ]
     },
     "execution_count": 10,
     "metadata": {},
     "output_type": "execute_result"
    }
   ],
   "source": [
    "# This line will import the hourofci package\n",
    "from hourofci import *\n",
    "\n",
    "image = readimage(\"satellite-before.tif\") # User's will type this here.\n",
    "\n",
    "ndvi(image)"
   ]
  },
  {
   "cell_type": "markdown",
   "metadata": {
    "slideshow": {
     "slide_type": "slide"
    }
   },
   "source": [
    "## Yay! Are we done? Not quite ...\n",
    "\n",
    "Great work. We are almost done. We have gotten the computer to do what we want. Read in the data, calculate NDVI, and display the satellite image of the Amazon rainforest before the forest fires. We have not told anyone reading our code what it means. We do this using **comments**. Here is one way to write comments for this code.\n",
    "\n",
    "```Python\n",
    "# Import the hourofci package to get access to the readimage and ndvi functions\n",
    "from hourofci import *\n",
    "\n",
    "# Read the satellite image data so that we can use it to calculate NDVI and display it\n",
    "image = readimage(\"satellite-before.tif\") \n",
    "\n",
    "# Calculate NDVI and display the results for the user\n",
    "ndvi(image)\n",
    "```"
   ]
  },
  {
   "cell_type": "markdown",
   "metadata": {
    "slideshow": {
     "slide_type": "slide"
    }
   },
   "source": [
    "# Now, it is your turn. You try it.\n",
    "\n",
    "We walked through how to read the satellite image from before the forest fires. \n",
    "Let's see if you can write the code to read the satellite image from after the forest fires.\n",
    "The filename for the satellite image is **'satellite-after.tif'**\n",
    "\n",
    "We'll help you with the first line. You now need to read in the image, calculate NDVI, and display the results after the fires. Don't forget to comment your code!"
   ]
  },
  {
   "cell_type": "code",
   "execution_count": null,
   "metadata": {},
   "outputs": [],
   "source": [
    "from hourofci import *\n",
    "\n"
   ]
  },
  {
   "cell_type": "markdown",
   "metadata": {
    "slideshow": {
     "slide_type": "slide"
    }
   },
   "source": [
    "### Hint:\n",
    "\n",
    "Your code should look something like this:\n",
    "    \n",
    "```Python\n",
    "# Import the hourofci package to get access to the readimage and ndvi functions\n",
    "from hourofci import *\n",
    "\n",
    "# Read the satellite image data so that we can use it to calculate NDVI and display it\n",
    "image = readimage(\"satellite-after.tif\")\n",
    "\n",
    "# Calculate NDVI and display the results for the user\n",
    "ndvi(image)\n",
    "```"
   ]
  },
  {
   "cell_type": "markdown",
   "metadata": {
    "slideshow": {
     "slide_type": "slide"
    }
   },
   "source": [
    "## How is this cyberinfrastructure?\n",
    "\n",
    "I wrote a few lines of Python code. How is this cyberinfrastructure? \n",
    "\n",
    "To answer that question, let's take a step back.\n",
    "\n",
    "<a href=\"gateway-5.ipynb\">Click here to move to the next section to learn more!</a>"
   ]
  }
 ],
 "metadata": {
  "celltoolbar": "Edit Metadata",
  "kernelspec": {
   "display_name": "Python 3",
   "language": "python",
   "name": "python3"
  },
  "language_info": {
   "codemirror_mode": {
    "name": "ipython",
    "version": 3
   },
   "file_extension": ".py",
   "mimetype": "text/x-python",
   "name": "python",
   "nbconvert_exporter": "python",
   "pygments_lexer": "ipython3",
   "version": "3.7.0"
  },
  "rise": {
   "auto_select": "none",
   "autolaunch": true
  }
 },
 "nbformat": 4,
 "nbformat_minor": 2
}
