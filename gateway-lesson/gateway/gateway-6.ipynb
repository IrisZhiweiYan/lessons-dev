{
 "cells": [
  {
   "cell_type": "markdown",
   "metadata": {
    "slideshow": {
     "slide_type": "slide"
    }
   },
   "source": [
    "# What is in the World of Cyberinfrastructure?\n",
    "\n",
    "To become a user of cyberinfrastructure to solve geospatial problems you must first know what it is all about.\n",
    "You need to develop 'Cyber Literacy,' but what does that mean?\n",
    "\n"
   ]
  },
  {
   "cell_type": "markdown",
   "metadata": {
    "slideshow": {
     "slide_type": "fragment"
    }
   },
   "source": [
    "### Cyber Literacy for GIScience\n",
    "\n",
    "> The ability to understand and use established and emerging technologies to transform all forms and magnitudes of geospatial data into information for interdisciplinary problem solving."
   ]
  },
  {
   "cell_type": "markdown",
   "metadata": {
    "slideshow": {
     "slide_type": "slide"
    }
   },
   "source": [
    "## Literacy and the Three R's\n",
    "<table>\n",
    "    <tr style=\"background: #fff\">\n",
    "        <td align=left valign=top>\n",
    "\n",
    "In the 18th and 19th centuries, general education was framed around gaining literacy in the Three R’s:\n",
    "\n",
    "\n",
    "1. Reading\n",
    "2. wRiting\n",
    "3. Reckoning (or, aRithmetic)        \n",
    "\n",
    "Here, \"literacy\" meant the ability to decode and comprehend written language at a rudimentary level.\n",
    "\n",
    "</td>\n",
    "<td width=40%> <img src='supplementary/library_icon.png' alt='Person reading a book'></td>\n",
    "    </tr>\n",
    "</table>"
   ]
  },
  {
   "cell_type": "markdown",
   "metadata": {
    "slideshow": {
     "slide_type": "slide"
    }
   },
   "source": [
    "## Literacies\n",
    "\n",
    "<table>\n",
    "    <tr style=\"background: #fff\">\n",
    "        <td align=\"left\" valign=\"top\">\n",
    "\n",
    "Literacies outline essential abilities and foundational knowledge. In the 21st century we recognize many new literacies ...\n",
    "\n",
    "  * Financial literacy\n",
    "  * Health literacy\n",
    "  * Ecoliteracy\n",
    "\n",
    "And now\n",
    "  * Cyber literacy\n",
    "\n",
    "</td>\n",
    "<td width=40%> <img src='supplementary/hippo-mag-glass.png' alt='Hippo with magnifying glass'></td>\n",
    "    </tr>\n",
    "</table>"
   ]
  },
  {
   "cell_type": "markdown",
   "metadata": {
    "slideshow": {
     "slide_type": "slide"
    }
   },
   "source": [
    "## Cyber Literacy\n",
    "\n",
    "<table>\n",
    "    <tr style=\"background: #fff\">\n",
    "        <td align=\"left\" valign=\"top\">\n",
    "\n",
    "Basically ... Cyber Literacy for GIScience helps us make sense of the data-rich world using geospatial technologies and cyberinfrastructure.\n",
    "\n",
    "</td>\n",
    "<td width=30%> <img src='supplementary/world-to-server.png' alt='Data-rich world going into a server'></td>\n",
    "    </tr>\n",
    "</table>"
   ]
  },
  {
   "cell_type": "markdown",
   "metadata": {
    "slideshow": {
     "slide_type": "slide"
    }
   },
   "source": [
    "## Cyber Literacy: Breaking it down\n",
    "\n",
    "> “**the ability to understand and use \n",
    ">  established and emerging technologies**\n",
    ">  to transform all forms and magnitudes\n",
    "> of geospatial data into information\n",
    "> for interdisciplinary problem solving.”"
   ]
  },
  {
   "cell_type": "markdown",
   "metadata": {
    "slideshow": {
     "slide_type": "fragment"
    }
   },
   "source": [
    "You mean like Jupyter Notebooks?! Like these lessons?! Yes! You have learned how to use Jupyter Notebooks and are currently using Cyberinfrastructure! You are using a National Science and Engineering Cloud resource called 'Jetstream' led by the Indiana University Pervasive Technology Institute (PTI). <a href=\"https://jetstream-cloud.org/\">Click hear to learn more about Jetstream including how you can use Jetstream for free.</a>\n",
    "\n",
    "![Jupyter Notebooks](supplementary/jupyter-notebook-screenshot.png)"
   ]
  },
  {
   "cell_type": "markdown",
   "metadata": {
    "slideshow": {
     "slide_type": "slide"
    }
   },
   "source": [
    "## Cyber Literacy: Breaking it down\n",
    "\n",
    "> “the ability to understand and use \n",
    ">  established and emerging technologies\n",
    ">  **to transform all forms and magnitudes\n",
    "> of geospatial data into information**\n",
    "> for interdisciplinary problem solving.”\n",
    "\n"
   ]
  },
  {
   "cell_type": "markdown",
   "metadata": {
    "slideshow": {
     "slide_type": "fragment"
    }
   },
   "source": [
    "You mean like mapping Covid-19 using Python?! Yes! You have learned how to use Python to transform geospatial data into a useful map.\n",
    "\n"
   ]
  },
  {
   "cell_type": "markdown",
   "metadata": {
    "slideshow": {
     "slide_type": "slide"
    }
   },
   "source": [
    "## Cyber Literacy: Breaking it down\n",
    "\n",
    "> “the ability to understand and use \n",
    ">  established and emerging technologies\n",
    ">  to transform all forms and magnitudes\n",
    "> of geospatial data into information\n",
    "> **for interdisciplinary problem solving.**”"
   ]
  },
  {
   "cell_type": "markdown",
   "metadata": {
    "slideshow": {
     "slide_type": "fragment"
    }
   },
   "source": [
    "You mean like combining Covid-19 cases (health science) and county geoemetry using geospatial technologies (geographic information science) and cyberinfrastructure (computational science)? Yes!"
   ]
  },
  {
   "cell_type": "markdown",
   "metadata": {
    "slideshow": {
     "slide_type": "slide"
    }
   },
   "source": [
    "## Can you write? Are you a poet?\n",
    "\n",
    "Cyber Literacy is NOT about being a computer genius or a programming wizard. Most people have learned basic literacy--the ability to read and write--however most people are not poets or experts in modern Nepali literature. Similarly, many people can learn basic cyber literacy while not being a programming wizard or expert in high-performance computing resources.\n",
    "\n",
    "You are already on your way to learning cyber literacy. So let's take a closer look at the eight core areas of cyber literacy for GIScience."
   ]
  },
  {
   "cell_type": "markdown",
   "metadata": {
    "slideshow": {
     "slide_type": "slide"
    }
   },
   "source": [
    "## Eight core areas \n",
    "\n",
    "<table>\n",
    "    <tr style=\"background: #fff\">\n",
    "        <td align=left valign=top>\n",
    "\n",
    "![Eight core areas of cyber literacy for GIScience](supplementary/cyberliteracyareas.png)\n",
    "\n",
    "\n",
    "</td>\n",
    "<td width=50%> \n",
    "\n",
    "Here are the eight core areas of cyber literacy for GIScience.\n",
    "\n",
    "\n",
    "\n",
    "</td>\n",
    "\n",
    "</tr>\n",
    "</table>\n",
    "\n",
    "\n"
   ]
  },
  {
   "cell_type": "markdown",
   "metadata": {
    "slideshow": {
     "slide_type": "slide"
    }
   },
   "source": [
    "## Eight core areas \n",
    "\n",
    "<table>\n",
    "    <tr style=\"background: #fff\">\n",
    "        <td align=left valign=top>\n",
    "\n",
    "![Eight core areas of cyber literacy for GIScience](supplementary/cyberliteracyareas.png)\n",
    "\n",
    "\n",
    "</td>\n",
    "<td width=50%> \n",
    "\n",
    "The left side represents three key knowledge areas in GIScience: \n",
    "1. **Spatial Modeling and Analytics** \n",
    "2. **Geospatial Data** \n",
    "3. **Spatial Thinking**\n",
    "\n",
    "</td>\n",
    "\n",
    "</tr>\n",
    "</table>"
   ]
  },
  {
   "cell_type": "markdown",
   "metadata": {
    "slideshow": {
     "slide_type": "slide"
    }
   },
   "source": [
    "## Eight core areas \n",
    "\n",
    "<table>\n",
    "    <tr style=\"background: #fff\">\n",
    "        <td align=left valign=top>\n",
    "\n",
    "![Eight core areas of cyber literacy for GIScience](supplementary/cyberliteracyareas.png)\n",
    "\n",
    "\n",
    "</td>\n",
    "<td width=50%> \n",
    "\n",
    "The right side represents three key knowledge areas in computational science: \n",
    "1. **Parallel Computing** \n",
    "2. **Big Data** \n",
    "3. **Computational Thinking**\n",
    "\n",
    "\n",
    "\n",
    "</td>\n",
    "\n",
    "</tr>\n",
    "</table>\n",
    "\n",
    "\n"
   ]
  },
  {
   "cell_type": "markdown",
   "metadata": {
    "slideshow": {
     "slide_type": "slide"
    }
   },
   "source": [
    "## Eight core areas \n",
    "\n",
    "<table>\n",
    "    <tr style=\"background: #fff\">\n",
    "        <td align=left valign=top>\n",
    "\n",
    "![Eight core areas of cyber literacy for GIScience](supplementary/cyberliteracyareas.png)\n",
    "\n",
    "\n",
    "</td>\n",
    "<td width=50%> \n",
    "\n",
    "The top center represents a knowledge area to help these two disciplines integrate technologically: \n",
    "1. **Cyberinfrastructure** \n",
    "\n",
    "</td>\n",
    "\n",
    "</tr>\n",
    "</table>\n",
    "\n",
    "\n"
   ]
  },
  {
   "cell_type": "markdown",
   "metadata": {
    "slideshow": {
     "slide_type": "slide"
    }
   },
   "source": [
    "## Eight core areas \n",
    "\n",
    "<table>\n",
    "    <tr style=\"background: #fff\">\n",
    "        <td align=left valign=top>\n",
    "\n",
    "![Eight core areas of cyber literacy for GIScience](supplementary/cyberliteracyareas.png)\n",
    "\n",
    "\n",
    "</td>\n",
    "<td width=50%> \n",
    "\n",
    "Just as important; the bottom center represents a knowledge area to help these two disciplines integrate on the people and problem solving side: \n",
    "1. **Interdisciplinary Communication** \n",
    "\n",
    "</td>\n",
    "\n",
    "</tr>\n",
    "</table>\n",
    "\n",
    "\n"
   ]
  },
  {
   "cell_type": "markdown",
   "metadata": {
    "slideshow": {
     "slide_type": "slide"
    }
   },
   "source": [
    "## Let's check in\n",
    "\n",
    "#### TODO: Add yes/no widget. Question below.\n",
    "Do you have to be an expert in parallel programming to be cyber literate?\n",
    "\n",
    "Yes/No"
   ]
  },
  {
   "cell_type": "markdown",
   "metadata": {
    "slideshow": {
     "slide_type": "fragment"
    }
   },
   "source": [
    "No! Just like basic literacy, you can have a basic understanding of parallel programming and rely on other experts or tools to make use of the technology to advance your own research."
   ]
  },
  {
   "cell_type": "markdown",
   "metadata": {
    "slideshow": {
     "slide_type": "slide"
    }
   },
   "source": [
    "## Let's check in\n",
    "\n",
    "Find all of the core areas of cyber literacy for GIScience. Check all of them.\n",
    "\n",
    "### TODO: Add widget with checkboxes, options listed below\n",
    "\n",
    "Interdisciplinary communication\n",
    "The Internet\n",
    "Parallel Computing\n",
    "Geospatial Data\n",
    "A Shark with a Laser\n",
    "Computational Thinking\n",
    "Cyberinfrastructure\n",
    "Spatial Modeling and Analytics\n",
    "Cyber Security\n",
    "Spatial Thinking\n",
    "Hip Po the Hippo\n",
    "Big Data"
   ]
  },
  {
   "cell_type": "markdown",
   "metadata": {
    "slideshow": {
     "slide_type": "slide"
    }
   },
   "source": [
    "## Core knowledge areas and your next step\n",
    "\n",
    "What core knowledge are you most excited about? \n",
    "\n",
    "### TODO: A list with a radio button to select one.\n",
    "\n",
    "Interdisciplinary communication\n",
    "Parallel Computing\n",
    "Geospatial Data\n",
    "Computational Thinking\n",
    "Cyberinfrastructure\n",
    "Spatial Modeling and Analytics\n",
    "Spatial Thinking\n",
    "Big Data"
   ]
  },
  {
   "cell_type": "markdown",
   "metadata": {
    "slideshow": {
     "slide_type": "slide"
    }
   },
   "source": [
    "## Did you know ...\n",
    "\n",
    "There is an Hour of CI Beginner Lesson for each of the knowledge areas! You can try Beginner Lessons in any order, take one or take them all. It is up to you.\n",
    "\n",
    "Feel free to check out a Beginner Lesson once they are ready to pilot. Feel free to check back in a few weeks."
   ]
  }
 ],
 "metadata": {
  "celltoolbar": "Slideshow",
  "kernelspec": {
   "display_name": "Python 3",
   "language": "python",
   "name": "python3"
  },
  "language_info": {
   "codemirror_mode": {
    "name": "ipython",
    "version": 3
   },
   "file_extension": ".py",
   "mimetype": "text/x-python",
   "name": "python",
   "nbconvert_exporter": "python",
   "pygments_lexer": "ipython3",
   "version": "3.7.0"
  },
  "rise": {
   "auto_select": "none",
   "autolaunch": true
  }
 },
 "nbformat": 4,
 "nbformat_minor": 2
}
