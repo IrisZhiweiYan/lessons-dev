{
 "cells": [
  {
   "cell_type": "markdown",
   "metadata": {
    "slideshow": {
     "slide_type": "slide"
    }
   },
   "source": [
    "# Python Primer for Non-Programmers\n",
    "\n",
    "\n",
    "Cyberinfrastructure is powered by computers and advanced technologies. We use **computer programs** written in **programming languages** to communicate with these technologies. A popular programming language for scientists around the world is called **Python**. You will learn the basics of Python and start on the path to becoming a programming superstar!\n",
    "\n",
    "\n"
   ]
  },
  {
   "cell_type": "code",
   "execution_count": null,
   "metadata": {
    "hide_input": true,
    "init_cell": true,
    "slideshow": {
     "slide_type": "skip"
    },
    "tags": [
     "Hide"
    ]
   },
   "outputs": [],
   "source": [
    "# This code cell starts the necessary setup for Hour of CI lesson notebooks.\n",
    "# First, it enables users to hide and unhide code by producing a 'Toggle raw code' button below.\n",
    "# Second, it imports the hourofci package, which is necessary for lessons and interactive Jupyter Widgets.\n",
    "# Third, it helps hide/control other aspects of Jupyter Notebooks to improve the user experience\n",
    "# This is an initialization cell\n",
    "# It is not displayed because the Slide Type is 'Skip'\n",
    "\n",
    "from IPython.display import HTML, IFrame, Javascript, display\n",
    "from ipywidgets import interactive\n",
    "import ipywidgets as widgets\n",
    "from ipywidgets import Layout\n",
    "\n",
    "import getpass # This library allows us to get the username (User agent string)\n",
    "\n",
    "# import package for hourofci project\n",
    "import sys\n",
    "sys.path.append('../../supplementary') # relative path (may change depending on the location of the lesson notebook)\n",
    "import hourofci\n",
    "\n",
    "# Retreive the user agent string, it will be passed to the hourofci submit button\n",
    "agent_js = \"\"\"\n",
    "IPython.notebook.kernel.execute(\"user_agent = \" + \"'\" + navigator.userAgent + \"'\");\n",
    "\"\"\"\n",
    "Javascript(agent_js)\n",
    "\n",
    "# load javascript to initialize/hide cells, get user agent string, and hide output indicator\n",
    "# hide code by introducing a toggle button \"Toggle raw code\"\n",
    "HTML(''' \n",
    "    <script type=\"text/javascript\" src=\\\"../../supplementary/js/custom.js\\\"></script>\n",
    "    \n",
    "    <input id=\"toggle_code\" type=\"button\" value=\"Toggle raw code\">\n",
    "''')"
   ]
  },
  {
   "cell_type": "markdown",
   "metadata": {
    "slideshow": {
     "slide_type": "slide"
    }
   },
   "source": [
    "\n",
    "## Reminder\n",
    "\n",
    "<font size=\"+1\">\n",
    "\n",
    "By continuing with this lesson you are granting your permission to take part in this research study for the Hour of Cyberinfrastructure: Developing Cyber Literacy for GIScience project. In this study, you will be learning about cyberinfrastructure and related concepts using a web-based platform that will take approximately one hour per lesson. Participation in this study is voluntary.\n",
    "\n",
    "Participants in this research must be 18 years or older. If you are under the age of 18 then please exit this webpage or navigate to another website such as the Hour of Code at https://hourofcode.com, which is designed for K-12 students.\n",
    "\n",
    "If you are not interested in participating please exit the browser or navigate to this website: http://www.umn.edu. Your participation is voluntary and you are free to stop the lesson at any time.\n",
    "\n",
    "For the full description please navigate to this website: <a href=\"gateway-1.ipynb\">Gateway Lesson Research Study Permission</a>.\n",
    "\n",
    "</font>\n",
    "\n",
    "<a href=\"#/slide-2-0\" class=\"navigate-right\" style=\"background-color:blue;color:white;padding:10px;margin:2px;font-weight:bold;\">Continue with the lesson</a>\n"
   ]
  },
  {
   "cell_type": "markdown",
   "metadata": {
    "slideshow": {
     "slide_type": "slide"
    }
   },
   "source": [
    "## A Python Statement\n",
    "\n",
    "This is a Python Statement.\n",
    "\n",
    "```python\n",
    "mystring = \"Hello World!\"\n",
    "-------------------------\n",
    "```\n",
    "\n",
    "> **Statement**\n",
    ">\n",
    "> A statement is a single command that tells the computer to do something. \n",
    "\n"
   ]
  },
  {
   "cell_type": "markdown",
   "metadata": {
    "slideshow": {
     "slide_type": "slide"
    }
   },
   "source": [
    "## Statement Breakdown\n",
    "\n",
    "mystring is a Variable.\n",
    "\n",
    "```python\n",
    "mystring = \"Hello World!\"\n",
    "--------\n",
    "```\n",
    "\n",
    "> **Variable**\n",
    ">\n",
    "> Variables can hold values (think back to math class).  \n",
    "> They can be referred by a name such as x, name, or this_is_a_variable.\n"
   ]
  },
  {
   "cell_type": "markdown",
   "metadata": {
    "slideshow": {
     "slide_type": "slide"
    }
   },
   "source": [
    "## Statement Breakdown\n",
    "\n",
    "Assignment using =\n",
    "\n",
    "```python\n",
    "mystring = \"Hello World!\"\n",
    "        ---\n",
    "```\n",
    "\n",
    "> **Assignment**\n",
    ">\n",
    "> The equals sign assigns the value:\n",
    ">\n",
    ">  **\"Hello World!\"**\n",
    ">  \n",
    "> to the variable:\n",
    "> \n",
    "> **mystring**"
   ]
  },
  {
   "cell_type": "markdown",
   "metadata": {
    "slideshow": {
     "slide_type": "slide"
    }
   },
   "source": [
    "## Statement Breakdown\n",
    "\n",
    "\"Hello World\" is a Value.\n",
    "\n",
    "```python\n",
    "mystring = \"Hello World!\"\n",
    "           --------------\n",
    "```\n",
    "\n",
    "> **Value**\n",
    "> \n",
    "> Variable values can be:\n",
    ">  \n",
    "> quoted strings such as \"hello\"\n",
    ">  \n",
    "> or\n",
    ">  \n",
    "> numbers such as 123 or 3.14\n",
    "\n"
   ]
  },
  {
   "cell_type": "markdown",
   "metadata": {
    "slideshow": {
     "slide_type": "slide"
    }
   },
   "source": [
    "## Let's try it! \n",
    "\n",
    "Move your mouse to the left of the Python statement and click on the play button (see below).\n",
    "![play button](supplementary/play-button.png \"What the Play button looks like\")"
   ]
  },
  {
   "cell_type": "code",
   "execution_count": null,
   "metadata": {
    "slideshow": {
     "slide_type": "-"
    },
    "tags": [
     "Q2"
    ]
   },
   "outputs": [],
   "source": [
    "mystring = \"Hello World!\""
   ]
  },
  {
   "cell_type": "markdown",
   "metadata": {
    "slideshow": {
     "slide_type": "-"
    }
   },
   "source": [
    "Then hit [Space] to continue."
   ]
  },
  {
   "cell_type": "markdown",
   "metadata": {
    "slideshow": {
     "slide_type": "fragment"
    }
   },
   "source": [
    "### Nothing?\n",
    "Well, not exactly."
   ]
  },
  {
   "cell_type": "markdown",
   "metadata": {
    "slideshow": {
     "slide_type": "slide"
    }
   },
   "source": [
    "## A foundational rule in computing\n",
    "\n",
    "> The computer does _exactly_ what you **tell** it to do!\n"
   ]
  },
  {
   "cell_type": "markdown",
   "metadata": {
    "slideshow": {
     "slide_type": "-"
    }
   },
   "source": [
    "## A foundational challenge in computing\n",
    "\n",
    "> This isn't necessarily what you **want** it to do!\n"
   ]
  },
  {
   "cell_type": "markdown",
   "metadata": {
    "slideshow": {
     "slide_type": "slide"
    }
   },
   "source": [
    "## So what did we tell it to do?!\n",
    "\n",
    "Our code:\n",
    "\n",
    "```python\n",
    "mystring = \"Hello World!\"\n",
    "```\n",
    "\n",
    "Remember, the statement breakdown explanation. \n",
    "\n",
    "We assigned the value \"Hello World!\" to the variable mystring.\n",
    "\n",
    "That's it.\n"
   ]
  },
  {
   "cell_type": "markdown",
   "metadata": {
    "slideshow": {
     "slide_type": "slide"
    }
   },
   "source": [
    "## So let's tell it to do a bit more.\n",
    "\n",
    "If we add one more statement, we can see some results.\n",
    "\n",
    "```python\n",
    "mystring = \"Hello World!\"\n",
    "print(mystring)\n",
    "```"
   ]
  },
  {
   "cell_type": "markdown",
   "metadata": {
    "slideshow": {
     "slide_type": "slide"
    }
   },
   "source": [
    "## Statement Breakdown\n",
    "\n",
    "print is a function call.\n",
    "\n",
    "```python\n",
    "print(mystring)\n",
    "-----\n",
    "```\n",
    "\n",
    "> **Function call**\n",
    "> \n",
    "> A function is a defined piece of Python code that can be called upon \n",
    "> such as a 'print' function that prints information to the screen.\n",
    "> Each function name is followed by parentheses.\n",
    ">\n",
    "> *function_name(arguments)*"
   ]
  },
  {
   "cell_type": "markdown",
   "metadata": {
    "slideshow": {
     "slide_type": "slide"
    }
   },
   "source": [
    "## Statement Breakdown\n",
    "\n",
    "mystring is an argument.\n",
    "\n",
    "```python\n",
    "print(mystring)\n",
    "      --------\n",
    "```\n",
    "\n",
    "> **Arguments**\n",
    "> \n",
    "> Arguments also known as parameters are passed into functions. \n",
    "> This argument is a variable, but strings and numbers can also be arguments.\n",
    ">\n",
    "> *(myvar, \"string 1\" , 2345, 3.14)*\n"
   ]
  },
  {
   "cell_type": "markdown",
   "metadata": {
    "slideshow": {
     "slide_type": "slide"
    }
   },
   "source": [
    "## Let's try it! \n",
    "\n",
    "Move your mouse to the left of the Python statement and click on the play button (see below).\n",
    "![play button](supplementary/play-button.png \"What the Play button looks like\")"
   ]
  },
  {
   "cell_type": "code",
   "execution_count": null,
   "metadata": {
    "slideshow": {
     "slide_type": "-"
    },
    "tags": [
     "Q3"
    ]
   },
   "outputs": [],
   "source": [
    "mystring = \"Hello World!\"\n",
    "print(mystring)"
   ]
  },
  {
   "cell_type": "markdown",
   "metadata": {
    "slideshow": {
     "slide_type": "slide"
    }
   },
   "source": [
    "### Success!\n",
    "We told the computer to assign \"Hello World\" to mystring, and then print it to the screen."
   ]
  },
  {
   "cell_type": "markdown",
   "metadata": {
    "slideshow": {
     "slide_type": "slide"
    }
   },
   "source": [
    "# Your First Program\n",
    "\n",
    "The classic program that every programmer makes is a simple statement to the world.\n",
    "\n",
    "> Hello World!\n",
    "\n",
    "```python\n",
    "print(\"Hello World!\")\n",
    "```\n",
    "\n",
    "Below, is a code box. Type the Python code above into the code box below and click \"Run\"\n",
    "![play button](supplementary/play-button.png \"What the Play button looks like\")\n",
    "\n",
    "\n"
   ]
  },
  {
   "cell_type": "code",
   "execution_count": null,
   "metadata": {
    "slideshow": {
     "slide_type": "-"
    },
    "tags": [
     "Q4"
    ]
   },
   "outputs": [],
   "source": [
    "print(\"Hello World!\")"
   ]
  },
  {
   "cell_type": "markdown",
   "metadata": {
    "slideshow": {
     "slide_type": "slide"
    }
   },
   "source": [
    "# Congratulations!\n",
    "\n",
    "You are officially a programmer."
   ]
  },
  {
   "cell_type": "markdown",
   "metadata": {
    "slideshow": {
     "slide_type": "slide"
    }
   },
   "source": [
    "## You can modify your code to say something else.\n",
    "\n",
    "How about ... \n",
    "\n",
    "```python\n",
    "print(\"Hello World of Cyberinfrastructure, I am here!\")\n",
    "```"
   ]
  },
  {
   "cell_type": "code",
   "execution_count": null,
   "metadata": {
    "slideshow": {
     "slide_type": "-"
    },
    "tags": [
     "Q5"
    ]
   },
   "outputs": [],
   "source": [
    "print(\"Hello World of Cyberinfrastructure, I am here!\")"
   ]
  },
  {
   "cell_type": "markdown",
   "metadata": {
    "slideshow": {
     "slide_type": "slide"
    }
   },
   "source": [
    "## Expressions\n",
    "\n",
    "Surprise. Computers are good at math!\n",
    "\n",
    "We can program mathematical expressions using Python. Let's try a really simple addition problem. \n",
    "\n",
    "```python\n",
    "result = 1 + 1\n",
    "print(result)\n",
    "```\n",
    "Try it! Write and run the code.\n",
    "\n"
   ]
  },
  {
   "cell_type": "code",
   "execution_count": null,
   "metadata": {
    "slideshow": {
     "slide_type": "-"
    },
    "tags": [
     "Q6"
    ]
   },
   "outputs": [],
   "source": [
    "result = 1 + 1\n",
    "print(result)"
   ]
  },
  {
   "cell_type": "markdown",
   "metadata": {
    "slideshow": {
     "slide_type": "slide"
    }
   },
   "source": [
    "## Expressions\n",
    "\n",
    "We can program all sorts of mathematical expressions. Try running these yourself.\n"
   ]
  },
  {
   "cell_type": "code",
   "execution_count": null,
   "metadata": {
    "slideshow": {
     "slide_type": "-"
    },
    "tags": [
     "Q7"
    ]
   },
   "outputs": [],
   "source": [
    "print(1 + 2 - 3)\n",
    "print(4 * 5 / 6)\n",
    "print(7 ** 8)\n",
    "print( ( (1 - 2)**2 + (0 - 1)**2 )**(1/2) )"
   ]
  },
  {
   "cell_type": "markdown",
   "metadata": {
    "slideshow": {
     "slide_type": "-"
    }
   },
   "source": [
    "_That last one is the Euclidean Distance between point (1,0) and point (2,1)_"
   ]
  },
  {
   "cell_type": "markdown",
   "metadata": {
    "slideshow": {
     "slide_type": "slide"
    }
   },
   "source": [
    "## Comments\n",
    "\n",
    "How can we tell other programmers that it is Euclidean Distance? Comments!\n",
    "\n",
    "```python\n",
    "print( ( (1 - 2)**2 + (0 - 1)**2 )**(1/2) ) # Euclidean Distance between (1,0) and (2,1)\n",
    "```"
   ]
  },
  {
   "cell_type": "markdown",
   "metadata": {
    "slideshow": {
     "slide_type": "slide"
    }
   },
   "source": [
    "## Statement Breakdown\n",
    "\n",
    "How can we tell other programmers that it is Euclidean Distance? Comments!\n",
    "\n",
    "```python\n",
    "print( ( (1 - 2)**2 + (0 - 1)**2 )**(1/2) ) # Euclidean Distance between (1,0) and (2,1)\n",
    "                                            --------------------------------------------\n",
    "```\n",
    "\n",
    "\n",
    "> **Comments**\n",
    "> \n",
    "> Comments allow programmers to leave plain text explanations of code.\n",
    "> Comments are ignored by Python.\n",
    ">\n",
    "> *# This is a comment and will not be executed by Python*\n",
    "\n"
   ]
  },
  {
   "cell_type": "markdown",
   "metadata": {
    "slideshow": {
     "slide_type": "slide"
    }
   },
   "source": [
    "## Dynamics\n",
    "\n",
    "What if we want our programs to be dynamic and respond in certain ways based on data or user input?"
   ]
  },
  {
   "cell_type": "markdown",
   "metadata": {
    "slideshow": {
     "slide_type": "fragment"
    }
   },
   "source": [
    "One way to make our programs more dynamic is to use **conditional statements.**\n"
   ]
  },
  {
   "cell_type": "markdown",
   "metadata": {
    "slideshow": {
     "slide_type": "slide"
    }
   },
   "source": [
    "## If statements\n",
    "\n",
    "We will start with the most basic conditional statement. The 'if' statement. It is a bit complex so let's break it down.\n",
    "\n",
    "```python\n",
    "if(1<2):\n",
    "    print(\"1 IS less than 2!\")\n",
    "```\n",
    "\n",
    "> **If statement**\n",
    "> \n",
    "> An if conditional statement will execute all indented code\n",
    "> if the condition within the parentheses evaluates to be _true_.\n",
    ">\n",
    "> if(condition):\n",
    ">\n",
    ">     do something\n"
   ]
  },
  {
   "cell_type": "markdown",
   "metadata": {
    "slideshow": {
     "slide_type": "slide"
    }
   },
   "source": [
    "## Statement Breakdown\n",
    "\n",
    "```python\n",
    "if(1<2):\n",
    "--\n",
    "    print(\"1 IS less than 2!\")\n",
    "\n",
    "```\n",
    "\n",
    "> An if conditional statement will execute all indented code\n",
    "> if the condition within the parentheses evaluates to be _true_."
   ]
  },
  {
   "cell_type": "markdown",
   "metadata": {
    "slideshow": {
     "slide_type": "slide"
    }
   },
   "source": [
    "## Statement Breakdown\n",
    "\n",
    "```python\n",
    "if(1<2):\n",
    "   ---\n",
    "    print(\"1 IS less than 2!\")\n",
    "\n",
    "```\n",
    "\n",
    "> The **condition** that will be evaluated. It will either evaluate to be **True** or **False**. "
   ]
  },
  {
   "cell_type": "markdown",
   "metadata": {
    "slideshow": {
     "slide_type": "slide"
    }
   },
   "source": [
    "## Statement Breakdown\n",
    "\n",
    "```python\n",
    "if(1<2):\n",
    "  -   -\n",
    "    print(\"1 IS less than 2!\")\n",
    "\n",
    "```\n",
    "\n",
    "> **Parentheses** enclose the condition to be evaluated."
   ]
  },
  {
   "cell_type": "markdown",
   "metadata": {
    "slideshow": {
     "slide_type": "slide"
    }
   },
   "source": [
    "## Statement Breakdown\n",
    "\n",
    "```python\n",
    "if(1<2):\n",
    "       -\n",
    "    print(\"1 IS less than 2!\")\n",
    "\n",
    "```\n",
    "\n",
    "> The **colon** tells Python that the if condition is complete and to expect an indented line next."
   ]
  },
  {
   "cell_type": "markdown",
   "metadata": {
    "slideshow": {
     "slide_type": "slide"
    }
   },
   "source": [
    "## Statement Breakdown\n",
    "\n",
    "```python\n",
    "if(1<2):\n",
    "    print(\"1 IS less than 2!\")\n",
    "----\n",
    "```\n",
    "\n",
    "> **Indentation** The code that will be conditionally executed must be indented following the if statement (4 spaces is typical)."
   ]
  },
  {
   "cell_type": "markdown",
   "metadata": {
    "slideshow": {
     "slide_type": "slide"
    }
   },
   "source": [
    "## Statement Breakdown\n",
    "\n",
    "```python\n",
    "if(1<2):\n",
    "    print(\"1 IS less than 2!\")\n",
    "    --------------------------\n",
    "```\n",
    "\n",
    "> **Python code.** This code will be executed _only if_ if the condition is **True**."
   ]
  },
  {
   "cell_type": "markdown",
   "metadata": {
    "slideshow": {
     "slide_type": "slide"
    }
   },
   "source": [
    "## Conditions\n",
    "\n",
    "There are a variety of different types of conditions here are a few examples. If you want to see more examples check out the chapter in the open book \"Python For Everyone\" <a href=\"https://www.py4e.com/html3/03-conditional\">here</a>.\n",
    "\n",
    "| Condition  | Operator  | Example   | T/F  |\n",
    "|:---|:---|:---|:---|\n",
    "| Equal to           | ==  | (1==1)  | T  |\n",
    "| Not equal to       | !=  | (1!=1)  | F  |\n",
    "| Greater than (GT)  | >   | (1> 1)  | F  |\n",
    "| Gt / equal to      | <=  | (1>=1)  | T  |\n",
    "| Less than (LT)     | <   | (1< 1)  | F  |\n",
    "| LT / equal to      | <=  | (1<=1)  | T  |\n"
   ]
  },
  {
   "cell_type": "markdown",
   "metadata": {
    "slideshow": {
     "slide_type": "slide"
    }
   },
   "source": [
    "## Conditions\n",
    "\n",
    "There are a variety of different types of conditions here are a few examples. If you want to see more examples check out the chapter in the open book \"Python For Everyone\" <a href=\"https://www.py4e.com/html3/03-conditional\">here</a>.\n",
    "\n",
    "| Condition  | Operator  | Example   | T/F  |\n",
    "|:---|:---|:---|:---|\n",
    "| **Equal to**           | **==**  | **(1==1)**  | **T** |\n",
    "| Not equal to       | !=  | (1!=1)  | F  |\n",
    "| Greater than (GT)  | >   | (1> 1)  | F  |\n",
    "|**GT / equal to**      | **<=**  | **(1>=1)**  | **T** |\n",
    "| Less than (LT)     | <   | (1< 1)  | F  |\n",
    "| **LT / equal to**     | **<=**  | **(1<=1)**  | **T**  |\n"
   ]
  },
  {
   "cell_type": "markdown",
   "metadata": {
    "slideshow": {
     "slide_type": "-"
    }
   },
   "source": [
    "> if(condition):\n",
    ">\n",
    ">    ... do something in Python ...\n",
    "\n",
    "The bolded conditions above will execute the \"... do something in Python ...\""
   ]
  },
  {
   "cell_type": "markdown",
   "metadata": {
    "slideshow": {
     "slide_type": "slide"
    }
   },
   "source": [
    "# Let's check your knowledge\n",
    "\n",
    "Let's see if you can follow the conditions. Will you see the printed statement?\n",
    "\n",
    "```python\n",
    "x = 5\n",
    "y = 10\n",
    "if(x<=5):\n",
    "    print(\"WILL YOU SEE THIS?\")\n",
    "```"
   ]
  },
  {
   "cell_type": "code",
   "execution_count": null,
   "metadata": {
    "hide_input": true,
    "scrolled": true,
    "slideshow": {
     "slide_type": "-"
    },
    "tags": [
     "Init",
     "Hide",
     "Q8"
    ]
   },
   "outputs": [],
   "source": [
    "# Multiple choice question using a ToggleButton widget\n",
    "# This code cell has tags \"Init\", \"Hide\", and \"Q2\"\n",
    "\n",
    "widget1=widgets.ToggleButtons(\n",
    "    options=['No','Yes'],\n",
    "    description='',\n",
    "    disabled=False,\n",
    "    button_style='', # 'success', 'info', 'warning', 'danger' or ''\n",
    "    tooltips=['No I will not see it', 'Yes I will see it'],\n",
    ")\n",
    "\n",
    "# Show the options.\n",
    "display(widget1)\n",
    "\n",
    "# Submit button: print and log the results\n",
    "# Parameters:\n",
    "#     Lesson: 'template','gateway','big-data','computational-thinking','cyberinfrastructure','geospatial-data',\n",
    "#             'interdiscriplinary-communication','parallel-computation','spatial-modeling-analytics','spatial-thinking'\n",
    "#     Lesson level: 'beginner','advanced'\n",
    "#     Question: 'Q1','Q2','Q3','Q4','Q5'... (Add the question number as a tag)\n",
    "hourofci.SubmitBtn(user_agent,\"gateway\",\"gateway\",'Q8',widget1)"
   ]
  },
  {
   "cell_type": "markdown",
   "metadata": {
    "slideshow": {
     "slide_type": "slide"
    }
   },
   "source": [
    "# Let's check your knowledge (again)\n",
    "\n",
    "Let's see if you can follow the conditions. Will you see the printed statement?\n",
    "\n",
    "```python\n",
    "x = 5\n",
    "y = 10\n",
    "if(y<=5):\n",
    "    print(\"WILL YOU SEE THIS?\")\n",
    "```"
   ]
  },
  {
   "cell_type": "code",
   "execution_count": null,
   "metadata": {
    "hide_input": true,
    "scrolled": true,
    "slideshow": {
     "slide_type": "-"
    },
    "tags": [
     "Init",
     "Hide"
    ]
   },
   "outputs": [],
   "source": [
    "# Multiple choice question using a ToggleButton widget\n",
    "# This code cell has tags \"Init\", \"Hide\", and \"Q2\"\n",
    "\n",
    "widget2=widgets.ToggleButtons(\n",
    "    options=['No','Yes'],\n",
    "    description='',\n",
    "    disabled=False,\n",
    "    button_style='', # 'success', 'info', 'warning', 'danger' or ''\n",
    "    tooltips=['No I will not see it', 'Yes I will see it'],\n",
    ")\n",
    "\n",
    "# Show the options.\n",
    "display(widget2)\n",
    "\n",
    "# Submit button: print and log the results\n",
    "# Parameters:\n",
    "#     Lesson: 'template','gateway','big-data','computational-thinking','cyberinfrastructure','geospatial-data',\n",
    "#             'interdiscriplinary-communication','parallel-computation','spatial-modeling-analytics','spatial-thinking'\n",
    "#     Lesson level: 'beginner','advanced'\n",
    "#     Question: 'Q1','Q2','Q3','Q4','Q5'... (Add the question number as a tag)\n",
    "hourofci.SubmitBtn(user_agent,\"gateway\",\"gateway\",'Q9',widget2)\n"
   ]
  },
  {
   "cell_type": "markdown",
   "metadata": {
    "slideshow": {
     "slide_type": "slide"
    }
   },
   "source": [
    "## If statements"
   ]
  },
  {
   "cell_type": "code",
   "execution_count": null,
   "metadata": {
    "slideshow": {
     "slide_type": "-"
    },
    "tags": [
     "Q10"
    ]
   },
   "outputs": [],
   "source": [
    "# Write your if statement here\n"
   ]
  },
  {
   "cell_type": "markdown",
   "metadata": {
    "slideshow": {
     "slide_type": "-"
    }
   },
   "source": [
    "### Try it\n",
    "\n",
    "Write an if statement in the code cell above that DOES SOMETHING"
   ]
  },
  {
   "cell_type": "markdown",
   "metadata": {
    "slideshow": {
     "slide_type": "slide"
    }
   },
   "source": [
    "## If statements"
   ]
  },
  {
   "cell_type": "code",
   "execution_count": null,
   "metadata": {
    "hide_input": false,
    "slideshow": {
     "slide_type": "-"
    },
    "tags": [
     "Q11"
    ]
   },
   "outputs": [],
   "source": [
    "# Write your if statement here\n"
   ]
  },
  {
   "cell_type": "markdown",
   "metadata": {
    "slideshow": {
     "slide_type": "-"
    }
   },
   "source": [
    "### Try it\n",
    "\n",
    "Write an if statement in the code cell above that DOES SOMETHING ELSE"
   ]
  },
  {
   "cell_type": "markdown",
   "metadata": {
    "slideshow": {
     "slide_type": "slide"
    }
   },
   "source": [
    "Now that you have learned the basics of programming, you can apply powerful geospatial modeling and analytics.\n",
    "\n",
    "<a href=\"gateway-4.ipynb\">Click here to move to the next section to learn more!</a>"
   ]
  }
 ],
 "metadata": {
  "celltoolbar": "Tags",
  "kernelspec": {
   "display_name": "Python 3",
   "language": "python",
   "name": "python3"
  },
  "language_info": {
   "codemirror_mode": {
    "name": "ipython",
    "version": 3
   },
   "file_extension": ".py",
   "mimetype": "text/x-python",
   "name": "python",
   "nbconvert_exporter": "python",
   "pygments_lexer": "ipython3",
   "version": "3.7.7"
  },
  "rise": {
   "auto_select": "none",
   "autolaunch": true
  }
 },
 "nbformat": 4,
 "nbformat_minor": 2
}
