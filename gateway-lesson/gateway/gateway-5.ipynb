{
 "cells": [
  {
   "cell_type": "markdown",
   "metadata": {
    "slideshow": {
     "slide_type": "slide"
    }
   },
   "source": [
    "# My Python In the World of Cyberinfrastructure\n",
    "\n",
    "I wrote a few lines of Python... am I using cyberinfrastructure?\n",
    "\n",
    "<a href=\"#/slide-2-0\">Yes, I am!</a>\n",
    "\n",
    "<a href=\"#/slide-1-0\" class=\"navigate-right\">No way!</a>"
   ]
  },
  {
   "cell_type": "markdown",
   "metadata": {
    "slideshow": {
     "slide_type": "slide"
    }
   },
   "source": [
    "## No? \n",
    "\n",
    "### Well, actually ...\n",
    "\n",
    "You are using cyberinfrastrucuture! \n",
    "\n",
    "Let's see why..."
   ]
  },
  {
   "cell_type": "markdown",
   "metadata": {
    "slideshow": {
     "slide_type": "slide"
    }
   },
   "source": [
    "## Yes, I am using Cyberinfrastructure!\n",
    "\n",
    "You are using Cyberinfrastructure this very moment. The Hour of CI lessons are built using **computational notebooks** that enables scientists to combine text, figures, executable code, and visualizations - just like your Covid-19 map.\n",
    "\n"
   ]
  },
  {
   "cell_type": "markdown",
   "metadata": {
    "slideshow": {
     "slide_type": "slide"
    }
   },
   "source": [
    "## Not convinced? \n",
    "\n",
    "We'll prove it!  \n",
    "\n",
    "Currently, you are in 'Presentation mode.' Let's check out the Jupyter Notebook. It is the field notebook for computational and data scientists around the world.\n",
    "\n",
    "Click on the X in the upper left hand corner to exit RISE Presentation mode and see the regular Jupyter Notebook."
   ]
  },
  {
   "cell_type": "markdown",
   "metadata": {
    "slideshow": {
     "slide_type": "skip"
    }
   },
   "source": [
    "# Welcome to Jupyter Notebooks!\n",
    "\n",
    "As you can see, the content you already went through is part of this computational notebook called a **Jupyter Notebook**. Jupyter Notebooks are used by thousands of data and computational scientists around the world. It is free and open source. You can check it out here ([jupyter.org](http://jupyter.org)).\n",
    "\n",
    "There are two important components in a Jupyter Notebook."
   ]
  },
  {
   "cell_type": "markdown",
   "metadata": {
    "slideshow": {
     "slide_type": "skip"
    }
   },
   "source": [
    "# A Markdown cell like this one.\n",
    "\n",
    "Where you can insert formatted text such as **bold** or _italicized_ text.\n",
    "\n",
    "* Lists\n",
    "* With\n",
    "* Things\n",
    "\n",
    "> Blocks of text\n",
    "\n",
    "1. Other\n",
    "1. Lists\n",
    "4. Using numbers\n",
    "  \n",
    "\n",
    "  "
   ]
  },
  {
   "cell_type": "code",
   "execution_count": 1,
   "metadata": {
    "slideshow": {
     "slide_type": "skip"
    }
   },
   "outputs": [
    {
     "name": "stdout",
     "output_type": "stream",
     "text": [
      "Or a code cell like the one you used to print hello world like this:\n",
      "Hello World!\n"
     ]
    }
   ],
   "source": [
    "print(\"Or a code cell like the one you used to print hello world like this:\")\n",
    "print(\"Hello World!\")"
   ]
  },
  {
   "cell_type": "markdown",
   "metadata": {
    "slideshow": {
     "slide_type": "skip"
    }
   },
   "source": [
    "### To learn more about how to use Jupyter Notebooks.\n",
    "\n",
    "Click on the \"Help\" menu above.\n",
    "Then click \"User Interface Tour\"."
   ]
  },
  {
   "cell_type": "markdown",
   "metadata": {
    "slideshow": {
     "slide_type": "skip"
    }
   },
   "source": [
    "If you ever want to return to \"Presentation Mode\" just click on the \"Enter/Exit RISE Slideshow button,\" which is located to the right side of the row of icons. It looks like a chart (see below).\n",
    "![Slideshow button](supplementary/rise-button.png \"What the RISE Slideshow button looks like\")\n"
   ]
  },
  {
   "cell_type": "markdown",
   "metadata": {
    "slideshow": {
     "slide_type": "skip"
    }
   },
   "source": [
    "Now that you have learned about how to use Jupyter Notebooks you should know:\n",
    "\n",
    "Hour of CI lessons are a series of Jupyter Notebooks designed to engage you explore the world of cyberinfrastructure and help you become cyber literate.\n",
    "\n",
    "What is Cyber Literacy for Geographic Information Science? <a href=\"Gateway-6.ipynb\">Click here to move to the next section to learn more!</a>"
   ]
  }
 ],
 "metadata": {
  "celltoolbar": "Slideshow",
  "kernelspec": {
   "display_name": "Python 3",
   "language": "python",
   "name": "python3"
  },
  "language_info": {
   "codemirror_mode": {
    "name": "ipython",
    "version": 3
   },
   "file_extension": ".py",
   "mimetype": "text/x-python",
   "name": "python",
   "nbconvert_exporter": "python",
   "pygments_lexer": "ipython3",
   "version": "3.7.0"
  },
  "rise": {
   "auto_select": "none",
   "autolaunch": true
  }
 },
 "nbformat": 4,
 "nbformat_minor": 2
}
